{
 "cells": [
  {
   "cell_type": "code",
   "execution_count": 1,
   "id": "614d2ea3",
   "metadata": {},
   "outputs": [],
   "source": [
    "# modified 'Evaluation script for the EndoVis / CATARACTS 2020 challenge.'\n",
    "\n",
    "import os\n",
    "import glob\n",
    "import numpy as np\n",
    "from argparse import ArgumentParser\n",
    "from pandas import read_csv\n",
    "from sklearn.metrics import f1_score\n",
    "from sklearn.metrics import recall_score, precision_score,accuracy_score\n",
    "from matplotlib import pyplot as plt"
   ]
  },
  {
   "cell_type": "code",
   "execution_count": 2,
   "id": "3a096d8d",
   "metadata": {},
   "outputs": [],
   "source": [
    "from sklearn import metrics\n",
    "import numpy as np\n",
    "import pickle\n",
    "import shutil\n",
    "import os"
   ]
  },
  {
   "cell_type": "code",
   "execution_count": 3,
   "id": "fa459cab",
   "metadata": {},
   "outputs": [],
   "source": [
    "from matplotlib import cm"
   ]
  },
  {
   "cell_type": "code",
   "execution_count": 4,
   "id": "f77e8e88",
   "metadata": {},
   "outputs": [],
   "source": [
    "# 'Idle',\n",
    "steps = ['Toric Marking', 'Implant Ejection', 'Incision', 'Viscodilatation', 'Capsulorhexis', 'Hydrodissetion',\n",
    "         'Nucleus Breaking', 'Phacoemulsification', 'Vitrectomy', 'Irrigation/Aspiration', 'Preparing Implant',\n",
    "         'Manual Aspiration', 'Implantation', 'Positioning', 'OVD Aspiration', 'Suturing', 'Sealing Control',\n",
    "         'Wound Hydratation']"
   ]
  },
  {
   "cell_type": "code",
   "execution_count": 5,
   "id": "7e1bb640",
   "metadata": {},
   "outputs": [],
   "source": [
    "def fix_outliers(truth_data_steps, prediction_data_steps):\n",
    "\n",
    "    steps_order = [truth_data_steps[0]]\n",
    "    for step_index in range(len(truth_data_steps)):\n",
    "        if step_index != 0 and truth_data_steps[step_index] != truth_data_steps[step_index-1]:\n",
    "            steps_order.append(truth_data_steps[step_index])\n",
    "\n",
    "    k = 0\n",
    "    for i in range(len(truth_data_steps)):\n",
    "\n",
    "        if i !=0 and truth_data_steps[i] != truth_data_steps[i-1]:\n",
    "            k = k + 1\n",
    "\n",
    "        if truth_data_steps[i] == 0: # check for idle step\n",
    "            if truth_data_steps[i] != prediction_data_steps[i]:\n",
    "                list_values_to_check = [steps_order[k], steps_order[k+1]] if k==0 else ([steps_order[k-1],\n",
    "                                                                                         steps_order[k]] if k==len(steps_order)-1 else\n",
    "                                                                                        [steps_order[k-1],\n",
    "                                                                                         steps_order[k],\n",
    "                                                                                        steps_order[k + 1]])\n",
    "                if prediction_data_steps[i] in list_values_to_check:\n",
    "                    prediction_data_steps[i] = truth_data_steps[i]\n",
    "\n",
    "\n",
    "    return truth_data_steps, prediction_data_steps"
   ]
  },
  {
   "cell_type": "code",
   "execution_count": 79,
   "id": "7299b05e",
   "metadata": {},
   "outputs": [],
   "source": [
    "def change_video_order(f1_scores):\n",
    "    pos = [24,13,3,1,23,10,22,20,0,17,4,2,21,18,11,15,19,9,6,16,12,8,5,7,14 ]\n",
    "    f1_scores_pos = np.zeros(25)\n",
    "    for i in range(25):\n",
    "        f1_scores_pos[i] = f1_scores[pos[i]]\n",
    "            \n",
    "    return f1_scores_pos\n",
    "\n",
    "# plot f1 scores of 25 videos\n",
    "def plot_f1_scores(f1_scores_pos,model):\n",
    "    v = np.arange(1, len(f1_scores_pos)+1,1)\n",
    "    plt.figure()\n",
    "    # plt.plot(v,f1_scores ,'b')\n",
    "    #plt.scatter(v,f1_scores, alpha = 0.5)\n",
    "\n",
    "    plt.bar(v,f1_scores_pos, alpha = 0.5)\n",
    "\n",
    "    plt.title(\"The f1-scores of 25 test videos of \" + model)\n",
    "    plt.xlabel('test videos')\n",
    "    plt.ylabel('f1-score')\n",
    "    plt.grid()\n"
   ]
  },
  {
   "cell_type": "code",
   "execution_count": 81,
   "id": "ae1b84a4",
   "metadata": {},
   "outputs": [],
   "source": [
    "# evalueate function from Challenge 2020: f1-score\n",
    "# yilin adds accuracy precision recall\n",
    "def compute_f1score(gt,predictions):\n",
    "    \"\"\"\n",
    "    Main function.\n",
    "    \"\"\"\n",
    "    # parsing the command line\n",
    "#     parser = ArgumentParser(\n",
    "#         description = 'Evaluation script for the EndoVis / CATARACTS 2020 challenge.')\n",
    "#     parser.add_argument('-t', '--gt', required = True,\n",
    "#                         help = 'directory containing ground truth files')\n",
    "#     parser.add_argument('-p', '--predictions',required = True,\n",
    "#                         help = 'directory containing automatic predictions')\n",
    "\n",
    "    num_steps = len(steps) + 1  #19\n",
    "\n",
    "#     gt = './non-local-only/gt-phase/'\n",
    "#     predictions = './non-local-only/pred-phase/'\n",
    "    \n",
    "    list_truth_files = glob.glob(os.path.join(gt, \"*.csv\"))   # csv args.gt\n",
    "    \n",
    "    assert len(list_truth_files) > 0, \"No ground truth files were found!!\"\n",
    "\n",
    "    f1_scores = []\n",
    "    accuracy = []\n",
    "    precision = []\n",
    "    recall = []\n",
    "    try:\n",
    "        for file in list_truth_files:\n",
    "            file_name = os.path.basename(file)\n",
    "            # yilin add\n",
    "            \n",
    "            if os.path.exists(predictions + '/' + os.path.basename(file)):\n",
    "                truth_filename = os.path.join(gt, file_name)\n",
    "                prediction_filename = os.path.join(predictions, file_name)\n",
    "\n",
    "                # parsing the right columns for the current tool\n",
    "                truth_data = read_csv(truth_filename, header=None, skipinitialspace=True, squeeze=True, dtype='Int64')\n",
    "                prediction_data = read_csv(prediction_filename, header=None, skipinitialspace=True, squeeze=True, dtype='Int64')\n",
    "\n",
    "                if len(truth_data) != len(prediction_data):\n",
    "                    raise ValueError('Files {} and {} have different row counts'.\n",
    "                                     format(truth_filename, prediction_filename))\n",
    "\n",
    "                truth_data_steps = truth_data.iloc[:, 1].tolist() # [\"Steps\"]\n",
    "                prediction_data_steps = prediction_data.iloc[:, 1].tolist()\n",
    "\n",
    "                # We don't take into account the idle frames\n",
    "                #idle_frames = list(filter(lambda x: truth_data_steps[x] == 0, range(len(truth_data_steps))))\n",
    "\n",
    "                # To reduce the impact of the idle step on the results.\n",
    "                truth_data_steps, prediction_data_steps = fix_outliers(truth_data_steps, prediction_data_steps)\n",
    "                \n",
    "                # np.array(truth_data_steps) =\n",
    "                \n",
    "                accuracy_video = np.sum(np.array(truth_data_steps) == np.array(prediction_data_steps))/len(truth_data_steps)\n",
    "                \n",
    "                truth_data_steps = np.eye(num_steps)[truth_data_steps]\n",
    "                prediction_data_steps = np.eye(num_steps)[prediction_data_steps]\n",
    "\n",
    "                # Remove idle frames\n",
    "                # truth_data_steps = np.delete(truth_data_steps, idle_frames,0)\n",
    "                # prediction_data_steps = np.delete(prediction_data_steps, idle_frames, 0)\n",
    "\n",
    "                # Removing the idle class from the evaluation\n",
    "                truth_data_steps = truth_data_steps[:,1:]\n",
    "                prediction_data_steps = prediction_data_steps[:, 1:]\n",
    "\n",
    "                steps_f1_score = []\n",
    "                steps_accuracy = []\n",
    "                steps_precision = []\n",
    "                steps_recall = []\n",
    "                ind = 0\n",
    "                for step_gt, step_prediction in zip(truth_data_steps.T, prediction_data_steps.T):\n",
    "                    count_nonzero = np.count_nonzero(step_gt)\n",
    "                    if count_nonzero != 0:\n",
    "                        f1_score_step = f1_score(step_gt, step_prediction, average='binary') # 'binary'\n",
    "                        \n",
    "                        # 'binary'\n",
    "                        # print(str(ind + 1) + ' ' + steps[ind] + ' ' + \"{:.4f}\".format(f1_score_step))\n",
    "                        \n",
    "                        precision_step = precision_score(step_gt, step_prediction, average='macro') # , average='macro'\n",
    "                        recall_step = recall_score(step_gt, step_prediction, average='macro')\n",
    "\n",
    "                        \n",
    "#                         accuracy_step = accuracy_score(step_gt, step_prediction)\n",
    "#                         precision_step = precision_score(step_gt, step_prediction, average='macro')\n",
    "#                         recall_step = recall_score(step_gt, step_prediction, average='macro')\n",
    "                        #average='binary'\n",
    "                        \n",
    "                        steps_f1_score.append(f1_score_step)\n",
    "                        #steps_accuracy.append(accuracy_step)\n",
    "                        steps_precision.append(precision_step)\n",
    "                        steps_recall.append(recall_step)\n",
    "                        \n",
    "                    ind = ind + 1\n",
    "\n",
    "                # computing video-specific scores\n",
    "                f1_score_video = np.mean(steps_f1_score)\n",
    "                #accuracy_video = np.mean(steps_accuracy)\n",
    "                precision_video = np.mean(steps_precision)\n",
    "                recall_video = np.mean(steps_recall)\n",
    "                \n",
    "                f1_scores.append(f1_score_video)\n",
    "                accuracy.append(accuracy_video)\n",
    "                precision.append(precision_video)\n",
    "                recall.append(recall_video)\n",
    "                \n",
    "                print(\"f1-score of \"+file_name + ' : ' + \"{:.4f}\".format(f1_score_video))\n",
    "                print(\"accuracy of \"+file_name + ' : ' + \"{:.4f}\".format(accuracy_video))\n",
    "                print(\"precision of \"+file_name + ' : ' + \"{:.4f}\".format(precision_video))\n",
    "                print(\"recall of \"+file_name + ' : ' + \"{:.4f} \\n\".format(recall_video))\n",
    "                \n",
    "                \n",
    "\n",
    "            else:\n",
    "                raise ValueError(file_name + ' could not be found in the predictions folder.')\n",
    "\n",
    "\n",
    "    except Exception as e:\n",
    "        print('Error: {} -> {}.'.format(file_name, e))\n",
    "        f1_scores = []\n",
    "\n",
    "    # computing the average score\n",
    "    print('** Average f1-score: ' + \"{:.4f}\".format(np.mean(f1_scores)))\n",
    "    print('** std f1-score: ' + \"{:.4f}\".format(np.std(f1_scores)))\n",
    "    print('** Average accuracy: ' + \"{:.4f}\".format(np.mean(accuracy)))\n",
    "    print('** std accuracy: ' + \"{:.4f}\".format(np.std(accuracy)))\n",
    "    print('** Average precision: ' + \"{:.4f}\".format(np.mean(precision)))\n",
    "    print('** std precision: ' + \"{:.4f}\".format(np.std(precision)))\n",
    "    print('** Average recall: ' + \"{:.4f}\".format(np.mean(recall)))\n",
    "    print('** std recall: ' + \"{:.4f}\".format(np.std(recall)))\n",
    "    \n",
    "    #return f1_scores\n",
    "    return f1_scores,accuracy,precision,recall"
   ]
  },
  {
   "cell_type": "code",
   "execution_count": null,
   "id": "44def2ac",
   "metadata": {},
   "outputs": [],
   "source": []
  },
  {
   "cell_type": "code",
   "execution_count": null,
   "id": "21302e9d",
   "metadata": {},
   "outputs": [],
   "source": []
  },
  {
   "cell_type": "code",
   "execution_count": null,
   "id": "97774573",
   "metadata": {},
   "outputs": [],
   "source": []
  },
  {
   "cell_type": "code",
   "execution_count": null,
   "id": "a51f0ca0",
   "metadata": {},
   "outputs": [],
   "source": []
  },
  {
   "cell_type": "code",
   "execution_count": null,
   "id": "edafb9ec",
   "metadata": {},
   "outputs": [],
   "source": [
    "# pos = [24,13,3,1,23,10,22,20,0,17,4,2,21,18,11,15,19,9,6,16,12,8,5,7,14 ]\n",
    "# f1_scores_pos = np.zeros(25)\n",
    "# delete video 1,7,14,16,19 for computing the results of 20 test videos\n",
    "1,7,14,16,19\n",
    "\n",
    "24,22,18,15,6"
   ]
  },
  {
   "cell_type": "code",
   "execution_count": 84,
   "id": "a4d9e2b5",
   "metadata": {},
   "outputs": [],
   "source": [
    "# compute the results of 20 test videos\n",
    "def f1_acc_20(f1_scores,accuracy,precision,recall):\n",
    "    ind = [24,22,18,15,6]\n",
    "    for i in ind:\n",
    "        del f1_scores[i]\n",
    "        del accuracy[i]\n",
    "        del precision[i]\n",
    "        del recall[i]\n",
    "    \n",
    "    print('** Average f1-score: ' + \"{:.4f}\".format(np.mean(f1_scores)))\n",
    "    print('** std f1-score: ' + \"{:.4f}\".format(np.std(f1_scores)))\n",
    "    print('** Average accuracy: ' + \"{:.4f}\".format(np.mean(accuracy)))\n",
    "    print('** std accuracy: ' + \"{:.4f}\".format(np.std(accuracy)))\n",
    "    print('** Average precision: ' + \"{:.4f}\".format(np.mean(precision)))\n",
    "    print('** std precision: ' + \"{:.4f}\".format(np.std(precision)))\n",
    "    print('** Average recall: ' + \"{:.4f}\".format(np.mean(recall)))\n",
    "    print('** std recall: ' + \"{:.4f}\".format(np.std(recall)))"
   ]
  },
  {
   "cell_type": "code",
   "execution_count": null,
   "id": "d3c755e4",
   "metadata": {},
   "outputs": [],
   "source": []
  },
  {
   "cell_type": "markdown",
   "id": "e226f42e",
   "metadata": {},
   "source": [
    "# Compute f1-score, accuracy, precision, recall of 25 videos/ 20 videos respectively"
   ]
  },
  {
   "cell_type": "code",
   "execution_count": 82,
   "id": "ce41632e",
   "metadata": {},
   "outputs": [
    {
     "name": "stdout",
     "output_type": "stream",
     "text": [
      "f1-score of video9-phase.csv : 0.8212\n",
      "accuracy of video9-phase.csv : 0.8326\n",
      "precision of video9-phase.csv : 0.9217\n",
      "recall of video9-phase.csv : 0.9235 \n",
      "\n",
      "f1-score of video4-phase.csv : 0.9240\n",
      "accuracy of video4-phase.csv : 0.9255\n",
      "precision of video4-phase.csv : 0.9759\n",
      "recall of video4-phase.csv : 0.9507 \n",
      "\n",
      "f1-score of video12-phase.csv : 0.9146\n",
      "accuracy of video12-phase.csv : 0.9258\n",
      "precision of video12-phase.csv : 0.9806\n",
      "recall of video12-phase.csv : 0.9395 \n",
      "\n",
      "f1-score of video3-phase.csv : 0.9600\n",
      "accuracy of video3-phase.csv : 0.9682\n",
      "precision of video3-phase.csv : 0.9964\n",
      "recall of video3-phase.csv : 0.9648 \n",
      "\n",
      "f1-score of video11-phase.csv : 0.7765\n",
      "accuracy of video11-phase.csv : 0.8541\n",
      "precision of video11-phase.csv : 0.8894\n",
      "recall of video11-phase.csv : 0.8845 \n",
      "\n",
      "f1-score of video23-phase.csv : 0.8659\n",
      "accuracy of video23-phase.csv : 0.8908\n",
      "precision of video23-phase.csv : 0.9452\n",
      "recall of video23-phase.csv : 0.9192 \n",
      "\n"
     ]
    },
    {
     "name": "stderr",
     "output_type": "stream",
     "text": [
      "/home/yilin/anaconda3/envs/tmrnet/lib/python3.8/site-packages/sklearn/metrics/_classification.py:1248: UndefinedMetricWarning: Precision is ill-defined and being set to 0.0 in labels with no predicted samples. Use `zero_division` parameter to control this behavior.\n",
      "  _warn_prf(average, modifier, msg_start, len(result))\n",
      "/home/yilin/anaconda3/envs/tmrnet/lib/python3.8/site-packages/sklearn/metrics/_classification.py:1248: UndefinedMetricWarning: Precision is ill-defined and being set to 0.0 in labels with no predicted samples. Use `zero_division` parameter to control this behavior.\n",
      "  _warn_prf(average, modifier, msg_start, len(result))\n"
     ]
    },
    {
     "name": "stdout",
     "output_type": "stream",
     "text": [
      "f1-score of video19-phase.csv : 0.5282\n",
      "accuracy of video19-phase.csv : 0.6352\n",
      "precision of video19-phase.csv : 0.7764\n",
      "recall of video19-phase.csv : 0.7619 \n",
      "\n",
      "f1-score of video24-phase.csv : 0.9219\n",
      "accuracy of video24-phase.csv : 0.9264\n",
      "precision of video24-phase.csv : 0.9815\n",
      "recall of video24-phase.csv : 0.9441 \n",
      "\n",
      "f1-score of video22-phase.csv : 0.8301\n",
      "accuracy of video22-phase.csv : 0.8499\n",
      "precision of video22-phase.csv : 0.9545\n",
      "recall of video22-phase.csv : 0.9032 \n",
      "\n"
     ]
    },
    {
     "name": "stderr",
     "output_type": "stream",
     "text": [
      "/home/yilin/anaconda3/envs/tmrnet/lib/python3.8/site-packages/sklearn/metrics/_classification.py:1248: UndefinedMetricWarning: Precision is ill-defined and being set to 0.0 in labels with no predicted samples. Use `zero_division` parameter to control this behavior.\n",
      "  _warn_prf(average, modifier, msg_start, len(result))\n",
      "/home/yilin/anaconda3/envs/tmrnet/lib/python3.8/site-packages/sklearn/metrics/_classification.py:1248: UndefinedMetricWarning: Precision is ill-defined and being set to 0.0 in labels with no predicted samples. Use `zero_division` parameter to control this behavior.\n",
      "  _warn_prf(average, modifier, msg_start, len(result))\n"
     ]
    },
    {
     "name": "stdout",
     "output_type": "stream",
     "text": [
      "f1-score of video18-phase.csv : 0.7479\n",
      "accuracy of video18-phase.csv : 0.7997\n",
      "precision of video18-phase.csv : 0.8798\n",
      "recall of video18-phase.csv : 0.8692 \n",
      "\n",
      "f1-score of video6-phase.csv : 0.7980\n",
      "accuracy of video6-phase.csv : 0.8885\n",
      "precision of video6-phase.csv : 0.9165\n",
      "recall of video6-phase.csv : 0.8954 \n",
      "\n",
      "f1-score of video15-phase.csv : 0.8697\n",
      "accuracy of video15-phase.csv : 0.8719\n",
      "precision of video15-phase.csv : 0.9511\n",
      "recall of video15-phase.csv : 0.9254 \n",
      "\n",
      "f1-score of video21-phase.csv : 0.7328\n",
      "accuracy of video21-phase.csv : 0.7979\n",
      "precision of video21-phase.csv : 0.9209\n",
      "recall of video21-phase.csv : 0.8548 \n",
      "\n"
     ]
    },
    {
     "name": "stderr",
     "output_type": "stream",
     "text": [
      "/home/yilin/anaconda3/envs/tmrnet/lib/python3.8/site-packages/sklearn/metrics/_classification.py:1248: UndefinedMetricWarning: Precision is ill-defined and being set to 0.0 in labels with no predicted samples. Use `zero_division` parameter to control this behavior.\n",
      "  _warn_prf(average, modifier, msg_start, len(result))\n"
     ]
    },
    {
     "name": "stdout",
     "output_type": "stream",
     "text": [
      "f1-score of video2-phase.csv : 0.3009\n",
      "accuracy of video2-phase.csv : 0.4798\n",
      "precision of video2-phase.csv : 0.6856\n",
      "recall of video2-phase.csv : 0.6280 \n",
      "\n",
      "f1-score of video25-phase.csv : 0.8934\n",
      "accuracy of video25-phase.csv : 0.8949\n",
      "precision of video25-phase.csv : 0.9556\n",
      "recall of video25-phase.csv : 0.9344 \n",
      "\n",
      "f1-score of video16-phase.csv : 0.8061\n",
      "accuracy of video16-phase.csv : 0.8475\n",
      "precision of video16-phase.csv : 0.9370\n",
      "recall of video16-phase.csv : 0.8949 \n",
      "\n",
      "f1-score of video20-phase.csv : 0.8543\n",
      "accuracy of video20-phase.csv : 0.8764\n",
      "precision of video20-phase.csv : 0.9261\n",
      "recall of video20-phase.csv : 0.9364 \n",
      "\n",
      "f1-score of video10-phase.csv : 0.9065\n",
      "accuracy of video10-phase.csv : 0.8556\n",
      "precision of video10-phase.csv : 0.9773\n",
      "recall of video10-phase.csv : 0.9357 \n",
      "\n",
      "f1-score of video14-phase.csv : 0.7641\n",
      "accuracy of video14-phase.csv : 0.9010\n",
      "precision of video14-phase.csv : 0.9127\n",
      "recall of video14-phase.csv : 0.8752 \n",
      "\n",
      "f1-score of video17-phase.csv : 0.7763\n",
      "accuracy of video17-phase.csv : 0.8141\n",
      "precision of video17-phase.csv : 0.9211\n",
      "recall of video17-phase.csv : 0.8728 \n",
      "\n",
      "f1-score of video8-phase.csv : 0.8515\n",
      "accuracy of video8-phase.csv : 0.9300\n",
      "precision of video8-phase.csv : 0.9313\n",
      "recall of video8-phase.csv : 0.9212 \n",
      "\n",
      "f1-score of video13-phase.csv : 0.7395\n",
      "accuracy of video13-phase.csv : 0.7518\n",
      "precision of video13-phase.csv : 0.8899\n",
      "recall of video13-phase.csv : 0.8647 \n",
      "\n"
     ]
    },
    {
     "name": "stderr",
     "output_type": "stream",
     "text": [
      "/home/yilin/anaconda3/envs/tmrnet/lib/python3.8/site-packages/sklearn/metrics/_classification.py:1248: UndefinedMetricWarning: Precision is ill-defined and being set to 0.0 in labels with no predicted samples. Use `zero_division` parameter to control this behavior.\n",
      "  _warn_prf(average, modifier, msg_start, len(result))\n",
      "/home/yilin/anaconda3/envs/tmrnet/lib/python3.8/site-packages/sklearn/metrics/_classification.py:1248: UndefinedMetricWarning: Precision is ill-defined and being set to 0.0 in labels with no predicted samples. Use `zero_division` parameter to control this behavior.\n",
      "  _warn_prf(average, modifier, msg_start, len(result))\n",
      "/home/yilin/anaconda3/envs/tmrnet/lib/python3.8/site-packages/sklearn/metrics/_classification.py:1248: UndefinedMetricWarning: Precision is ill-defined and being set to 0.0 in labels with no predicted samples. Use `zero_division` parameter to control this behavior.\n",
      "  _warn_prf(average, modifier, msg_start, len(result))\n"
     ]
    },
    {
     "name": "stdout",
     "output_type": "stream",
     "text": [
      "f1-score of video7-phase.csv : 0.5556\n",
      "accuracy of video7-phase.csv : 0.6192\n",
      "precision of video7-phase.csv : 0.8086\n",
      "recall of video7-phase.csv : 0.7745 \n",
      "\n",
      "f1-score of video5-phase.csv : 0.9642\n",
      "accuracy of video5-phase.csv : 0.9680\n",
      "precision of video5-phase.csv : 0.9890\n",
      "recall of video5-phase.csv : 0.9748 \n",
      "\n",
      "f1-score of video1-phase.csv : 0.5209\n",
      "accuracy of video1-phase.csv : 0.6141\n",
      "precision of video1-phase.csv : 0.8761\n",
      "recall of video1-phase.csv : 0.7669 \n",
      "\n",
      "** Average f1-score: 0.7850\n",
      "** std f1-score: 0.1550\n",
      "** Average accuracy: 0.8288\n",
      "** std accuracy: 0.1196\n",
      "** Average precision: 0.9160\n",
      "** std precision: 0.0698\n",
      "** Average recall: 0.8846\n",
      "** std recall: 0.0770\n"
     ]
    }
   ],
   "source": [
    "f1_scores_m1,accuracy_m1,precision_m1,recall_m1 = compute_f1score(gt = './M1/gt-step-resnet',\\\n",
    "                predictions = './M1/pred-step-resnet')"
   ]
  },
  {
   "cell_type": "code",
   "execution_count": 85,
   "id": "09dce0d8",
   "metadata": {},
   "outputs": [
    {
     "name": "stdout",
     "output_type": "stream",
     "text": [
      "** Average f1-score: 0.8225\n",
      "** std f1-score: 0.1384\n",
      "** Average accuracy: 0.8551\n",
      "** std accuracy: 0.1027\n",
      "** Average precision: 0.9295\n",
      "** std precision: 0.0653\n",
      "** Average recall: 0.9021\n",
      "** std recall: 0.0710\n"
     ]
    }
   ],
   "source": [
    "f1_acc_20(f1_scores_m1,accuracy_m1,precision_m1,recall_m1)"
   ]
  },
  {
   "cell_type": "code",
   "execution_count": null,
   "id": "8dc41940",
   "metadata": {},
   "outputs": [],
   "source": []
  },
  {
   "cell_type": "code",
   "execution_count": 86,
   "id": "35c4fa96",
   "metadata": {
    "scrolled": true
   },
   "outputs": [
    {
     "name": "stdout",
     "output_type": "stream",
     "text": [
      "f1-score of video9-phase.csv : 0.7003\n",
      "accuracy of video9-phase.csv : 0.7411\n",
      "precision of video9-phase.csv : 0.8699\n",
      "recall of video9-phase.csv : 0.8662 \n",
      "\n",
      "f1-score of video4-phase.csv : 0.9062\n",
      "accuracy of video4-phase.csv : 0.9089\n",
      "precision of video4-phase.csv : 0.9734\n",
      "recall of video4-phase.csv : 0.9423 \n",
      "\n",
      "f1-score of video12-phase.csv : 0.8929\n",
      "accuracy of video12-phase.csv : 0.9386\n",
      "precision of video12-phase.csv : 0.9812\n",
      "recall of video12-phase.csv : 0.9320 \n",
      "\n",
      "f1-score of video3-phase.csv : 0.9401\n",
      "accuracy of video3-phase.csv : 0.9463\n",
      "precision of video3-phase.csv : 0.9794\n",
      "recall of video3-phase.csv : 0.9606 \n",
      "\n",
      "f1-score of video11-phase.csv : 0.7872\n",
      "accuracy of video11-phase.csv : 0.8521\n",
      "precision of video11-phase.csv : 0.9417\n",
      "recall of video11-phase.csv : 0.8767 \n",
      "\n",
      "f1-score of video23-phase.csv : 0.8616\n",
      "accuracy of video23-phase.csv : 0.8544\n",
      "precision of video23-phase.csv : 0.9476\n",
      "recall of video23-phase.csv : 0.9121 \n",
      "\n"
     ]
    },
    {
     "name": "stderr",
     "output_type": "stream",
     "text": [
      "/home/yilin/anaconda3/envs/tmrnet/lib/python3.8/site-packages/sklearn/metrics/_classification.py:1248: UndefinedMetricWarning: Precision is ill-defined and being set to 0.0 in labels with no predicted samples. Use `zero_division` parameter to control this behavior.\n",
      "  _warn_prf(average, modifier, msg_start, len(result))\n"
     ]
    },
    {
     "name": "stdout",
     "output_type": "stream",
     "text": [
      "f1-score of video19-phase.csv : 0.4833\n",
      "accuracy of video19-phase.csv : 0.5765\n",
      "precision of video19-phase.csv : 0.7730\n",
      "recall of video19-phase.csv : 0.7494 \n",
      "\n",
      "f1-score of video24-phase.csv : 0.8282\n",
      "accuracy of video24-phase.csv : 0.8779\n",
      "precision of video24-phase.csv : 0.9339\n",
      "recall of video24-phase.csv : 0.9157 \n",
      "\n",
      "f1-score of video22-phase.csv : 0.8655\n",
      "accuracy of video22-phase.csv : 0.8418\n",
      "precision of video22-phase.csv : 0.9631\n",
      "recall of video22-phase.csv : 0.9200 \n",
      "\n",
      "f1-score of video18-phase.csv : 0.7950\n",
      "accuracy of video18-phase.csv : 0.8040\n",
      "precision of video18-phase.csv : 0.9226\n",
      "recall of video18-phase.csv : 0.8986 \n",
      "\n",
      "f1-score of video6-phase.csv : 0.7499\n",
      "accuracy of video6-phase.csv : 0.8372\n",
      "precision of video6-phase.csv : 0.8786\n",
      "recall of video6-phase.csv : 0.8888 \n",
      "\n",
      "f1-score of video15-phase.csv : 0.8329\n",
      "accuracy of video15-phase.csv : 0.8471\n",
      "precision of video15-phase.csv : 0.9585\n",
      "recall of video15-phase.csv : 0.9026 \n",
      "\n"
     ]
    },
    {
     "name": "stderr",
     "output_type": "stream",
     "text": [
      "/home/yilin/anaconda3/envs/tmrnet/lib/python3.8/site-packages/sklearn/metrics/_classification.py:1248: UndefinedMetricWarning: Precision is ill-defined and being set to 0.0 in labels with no predicted samples. Use `zero_division` parameter to control this behavior.\n",
      "  _warn_prf(average, modifier, msg_start, len(result))\n"
     ]
    },
    {
     "name": "stdout",
     "output_type": "stream",
     "text": [
      "f1-score of video21-phase.csv : 0.6143\n",
      "accuracy of video21-phase.csv : 0.7042\n",
      "precision of video21-phase.csv : 0.8703\n",
      "recall of video21-phase.csv : 0.8153 \n",
      "\n",
      "f1-score of video2-phase.csv : 0.3045\n",
      "accuracy of video2-phase.csv : 0.4356\n",
      "precision of video2-phase.csv : 0.6896\n",
      "recall of video2-phase.csv : 0.6424 \n",
      "\n"
     ]
    },
    {
     "name": "stderr",
     "output_type": "stream",
     "text": [
      "/home/yilin/anaconda3/envs/tmrnet/lib/python3.8/site-packages/sklearn/metrics/_classification.py:1248: UndefinedMetricWarning: Precision is ill-defined and being set to 0.0 in labels with no predicted samples. Use `zero_division` parameter to control this behavior.\n",
      "  _warn_prf(average, modifier, msg_start, len(result))\n",
      "/home/yilin/anaconda3/envs/tmrnet/lib/python3.8/site-packages/sklearn/metrics/_classification.py:1248: UndefinedMetricWarning: Precision is ill-defined and being set to 0.0 in labels with no predicted samples. Use `zero_division` parameter to control this behavior.\n",
      "  _warn_prf(average, modifier, msg_start, len(result))\n"
     ]
    },
    {
     "name": "stdout",
     "output_type": "stream",
     "text": [
      "f1-score of video25-phase.csv : 0.8327\n",
      "accuracy of video25-phase.csv : 0.8339\n",
      "precision of video25-phase.csv : 0.9261\n",
      "recall of video25-phase.csv : 0.9018 \n",
      "\n",
      "f1-score of video16-phase.csv : 0.8428\n",
      "accuracy of video16-phase.csv : 0.8548\n",
      "precision of video16-phase.csv : 0.9341\n",
      "recall of video16-phase.csv : 0.9178 \n",
      "\n",
      "f1-score of video20-phase.csv : 0.7252\n",
      "accuracy of video20-phase.csv : 0.8296\n",
      "precision of video20-phase.csv : 0.9168\n",
      "recall of video20-phase.csv : 0.8767 \n",
      "\n",
      "f1-score of video10-phase.csv : 0.8423\n",
      "accuracy of video10-phase.csv : 0.8327\n",
      "precision of video10-phase.csv : 0.9495\n",
      "recall of video10-phase.csv : 0.9094 \n",
      "\n",
      "f1-score of video14-phase.csv : 0.6956\n",
      "accuracy of video14-phase.csv : 0.8198\n",
      "precision of video14-phase.csv : 0.8915\n",
      "recall of video14-phase.csv : 0.8507 \n",
      "\n",
      "f1-score of video17-phase.csv : 0.8828\n",
      "accuracy of video17-phase.csv : 0.8728\n",
      "precision of video17-phase.csv : 0.9691\n",
      "recall of video17-phase.csv : 0.9267 \n",
      "\n",
      "f1-score of video8-phase.csv : 0.8290\n",
      "accuracy of video8-phase.csv : 0.9074\n",
      "precision of video8-phase.csv : 0.9328\n",
      "recall of video8-phase.csv : 0.8995 \n",
      "\n",
      "f1-score of video13-phase.csv : 0.8180\n",
      "accuracy of video13-phase.csv : 0.8273\n",
      "precision of video13-phase.csv : 0.9130\n",
      "recall of video13-phase.csv : 0.9068 \n",
      "\n"
     ]
    },
    {
     "name": "stderr",
     "output_type": "stream",
     "text": [
      "/home/yilin/anaconda3/envs/tmrnet/lib/python3.8/site-packages/sklearn/metrics/_classification.py:1248: UndefinedMetricWarning: Precision is ill-defined and being set to 0.0 in labels with no predicted samples. Use `zero_division` parameter to control this behavior.\n",
      "  _warn_prf(average, modifier, msg_start, len(result))\n",
      "/home/yilin/anaconda3/envs/tmrnet/lib/python3.8/site-packages/sklearn/metrics/_classification.py:1248: UndefinedMetricWarning: Precision is ill-defined and being set to 0.0 in labels with no predicted samples. Use `zero_division` parameter to control this behavior.\n",
      "  _warn_prf(average, modifier, msg_start, len(result))\n",
      "/home/yilin/anaconda3/envs/tmrnet/lib/python3.8/site-packages/sklearn/metrics/_classification.py:1248: UndefinedMetricWarning: Precision is ill-defined and being set to 0.0 in labels with no predicted samples. Use `zero_division` parameter to control this behavior.\n",
      "  _warn_prf(average, modifier, msg_start, len(result))\n"
     ]
    },
    {
     "name": "stdout",
     "output_type": "stream",
     "text": [
      "f1-score of video7-phase.csv : 0.4729\n",
      "accuracy of video7-phase.csv : 0.5933\n",
      "precision of video7-phase.csv : 0.7566\n",
      "recall of video7-phase.csv : 0.7531 \n",
      "\n",
      "f1-score of video5-phase.csv : 0.9489\n",
      "accuracy of video5-phase.csv : 0.9318\n",
      "precision of video5-phase.csv : 0.9873\n",
      "recall of video5-phase.csv : 0.9615 \n",
      "\n",
      "f1-score of video1-phase.csv : 0.4301\n",
      "accuracy of video1-phase.csv : 0.6313\n",
      "precision of video1-phase.csv : 0.7201\n",
      "recall of video1-phase.csv : 0.7440 \n",
      "\n",
      "** Average f1-score: 0.7553\n",
      "** std f1-score: 0.1659\n",
      "** Average accuracy: 0.8040\n",
      "** std accuracy: 0.1228\n",
      "** Average precision: 0.9032\n",
      "** std precision: 0.0812\n",
      "** Average recall: 0.8748\n",
      "** std recall: 0.0757\n"
     ]
    },
    {
     "name": "stderr",
     "output_type": "stream",
     "text": [
      "/home/yilin/anaconda3/envs/tmrnet/lib/python3.8/site-packages/sklearn/metrics/_classification.py:1248: UndefinedMetricWarning: Precision is ill-defined and being set to 0.0 in labels with no predicted samples. Use `zero_division` parameter to control this behavior.\n",
      "  _warn_prf(average, modifier, msg_start, len(result))\n",
      "/home/yilin/anaconda3/envs/tmrnet/lib/python3.8/site-packages/sklearn/metrics/_classification.py:1248: UndefinedMetricWarning: Precision is ill-defined and being set to 0.0 in labels with no predicted samples. Use `zero_division` parameter to control this behavior.\n",
      "  _warn_prf(average, modifier, msg_start, len(result))\n"
     ]
    }
   ],
   "source": [
    "f1_scores_m2,accuracy_m2,precision_m2,recall_m2 = compute_f1score(gt = './M2/gt-step-resnet',\\\n",
    "                predictions = './M2/pred-step-resnet')"
   ]
  },
  {
   "cell_type": "code",
   "execution_count": 87,
   "id": "9d9b3849",
   "metadata": {},
   "outputs": [
    {
     "name": "stdout",
     "output_type": "stream",
     "text": [
      "** Average f1-score: 0.7979\n",
      "** std f1-score: 0.1380\n",
      "** Average accuracy: 0.8312\n",
      "** std accuracy: 0.1081\n",
      "** Average precision: 0.9252\n",
      "** std precision: 0.0641\n",
      "** Average recall: 0.8928\n",
      "** std recall: 0.0659\n"
     ]
    }
   ],
   "source": [
    "f1_acc_20(f1_scores_m2,accuracy_m2,precision_m2,recall_m2)"
   ]
  },
  {
   "cell_type": "code",
   "execution_count": null,
   "id": "2ec543c4",
   "metadata": {},
   "outputs": [],
   "source": []
  },
  {
   "cell_type": "code",
   "execution_count": 88,
   "id": "8d114a08",
   "metadata": {},
   "outputs": [
    {
     "name": "stdout",
     "output_type": "stream",
     "text": [
      "f1-score of video9-phase.csv : 0.8136\n",
      "accuracy of video9-phase.csv : 0.8465\n",
      "precision of video9-phase.csv : 0.9180\n",
      "recall of video9-phase.csv : 0.9264 \n",
      "\n",
      "f1-score of video4-phase.csv : 0.9221\n",
      "accuracy of video4-phase.csv : 0.9027\n",
      "precision of video4-phase.csv : 0.9780\n",
      "recall of video4-phase.csv : 0.9561 \n",
      "\n",
      "f1-score of video12-phase.csv : 0.8866\n",
      "accuracy of video12-phase.csv : 0.9386\n",
      "precision of video12-phase.csv : 0.9840\n",
      "recall of video12-phase.csv : 0.9226 \n",
      "\n",
      "f1-score of video3-phase.csv : 0.9084\n",
      "accuracy of video3-phase.csv : 0.9264\n",
      "precision of video3-phase.csv : 0.9757\n",
      "recall of video3-phase.csv : 0.9364 \n",
      "\n",
      "f1-score of video11-phase.csv : 0.8436\n",
      "accuracy of video11-phase.csv : 0.8658\n",
      "precision of video11-phase.csv : 0.9667\n",
      "recall of video11-phase.csv : 0.8924 \n",
      "\n",
      "f1-score of video23-phase.csv : 0.8255\n",
      "accuracy of video23-phase.csv : 0.8161\n",
      "precision of video23-phase.csv : 0.9357\n",
      "recall of video23-phase.csv : 0.8979 \n",
      "\n"
     ]
    },
    {
     "name": "stderr",
     "output_type": "stream",
     "text": [
      "/home/yilin/anaconda3/envs/tmrnet/lib/python3.8/site-packages/sklearn/metrics/_classification.py:1248: UndefinedMetricWarning: Precision is ill-defined and being set to 0.0 in labels with no predicted samples. Use `zero_division` parameter to control this behavior.\n",
      "  _warn_prf(average, modifier, msg_start, len(result))\n",
      "/home/yilin/anaconda3/envs/tmrnet/lib/python3.8/site-packages/sklearn/metrics/_classification.py:1248: UndefinedMetricWarning: Precision is ill-defined and being set to 0.0 in labels with no predicted samples. Use `zero_division` parameter to control this behavior.\n",
      "  _warn_prf(average, modifier, msg_start, len(result))\n"
     ]
    },
    {
     "name": "stdout",
     "output_type": "stream",
     "text": [
      "f1-score of video19-phase.csv : 0.4184\n",
      "accuracy of video19-phase.csv : 0.3880\n",
      "precision of video19-phase.csv : 0.7617\n",
      "recall of video19-phase.csv : 0.7033 \n",
      "\n",
      "f1-score of video24-phase.csv : 0.8780\n",
      "accuracy of video24-phase.csv : 0.9205\n",
      "precision of video24-phase.csv : 0.9566\n",
      "recall of video24-phase.csv : 0.9305 \n",
      "\n",
      "f1-score of video22-phase.csv : 0.8593\n",
      "accuracy of video22-phase.csv : 0.8600\n",
      "precision of video22-phase.csv : 0.9873\n",
      "recall of video22-phase.csv : 0.9033 \n",
      "\n",
      "f1-score of video18-phase.csv : 0.8061\n",
      "accuracy of video18-phase.csv : 0.8312\n",
      "precision of video18-phase.csv : 0.9250\n",
      "recall of video18-phase.csv : 0.9068 \n",
      "\n",
      "f1-score of video6-phase.csv : 0.8503\n",
      "accuracy of video6-phase.csv : 0.9327\n",
      "precision of video6-phase.csv : 0.9351\n",
      "recall of video6-phase.csv : 0.9227 \n",
      "\n",
      "f1-score of video15-phase.csv : 0.8259\n",
      "accuracy of video15-phase.csv : 0.8368\n",
      "precision of video15-phase.csv : 0.9509\n",
      "recall of video15-phase.csv : 0.9122 \n",
      "\n"
     ]
    },
    {
     "name": "stderr",
     "output_type": "stream",
     "text": [
      "/home/yilin/anaconda3/envs/tmrnet/lib/python3.8/site-packages/sklearn/metrics/_classification.py:1248: UndefinedMetricWarning: Precision is ill-defined and being set to 0.0 in labels with no predicted samples. Use `zero_division` parameter to control this behavior.\n",
      "  _warn_prf(average, modifier, msg_start, len(result))\n",
      "/home/yilin/anaconda3/envs/tmrnet/lib/python3.8/site-packages/sklearn/metrics/_classification.py:1248: UndefinedMetricWarning: Precision is ill-defined and being set to 0.0 in labels with no predicted samples. Use `zero_division` parameter to control this behavior.\n",
      "  _warn_prf(average, modifier, msg_start, len(result))\n"
     ]
    },
    {
     "name": "stdout",
     "output_type": "stream",
     "text": [
      "f1-score of video21-phase.csv : 0.6456\n",
      "accuracy of video21-phase.csv : 0.7542\n",
      "precision of video21-phase.csv : 0.8761\n",
      "recall of video21-phase.csv : 0.8379 \n",
      "\n",
      "f1-score of video2-phase.csv : 0.2466\n",
      "accuracy of video2-phase.csv : 0.4496\n",
      "precision of video2-phase.csv : 0.7239\n",
      "recall of video2-phase.csv : 0.6123 \n",
      "\n"
     ]
    },
    {
     "name": "stderr",
     "output_type": "stream",
     "text": [
      "/home/yilin/anaconda3/envs/tmrnet/lib/python3.8/site-packages/sklearn/metrics/_classification.py:1248: UndefinedMetricWarning: Precision is ill-defined and being set to 0.0 in labels with no predicted samples. Use `zero_division` parameter to control this behavior.\n",
      "  _warn_prf(average, modifier, msg_start, len(result))\n",
      "/home/yilin/anaconda3/envs/tmrnet/lib/python3.8/site-packages/sklearn/metrics/_classification.py:1248: UndefinedMetricWarning: Precision is ill-defined and being set to 0.0 in labels with no predicted samples. Use `zero_division` parameter to control this behavior.\n",
      "  _warn_prf(average, modifier, msg_start, len(result))\n",
      "/home/yilin/anaconda3/envs/tmrnet/lib/python3.8/site-packages/sklearn/metrics/_classification.py:1248: UndefinedMetricWarning: Precision is ill-defined and being set to 0.0 in labels with no predicted samples. Use `zero_division` parameter to control this behavior.\n",
      "  _warn_prf(average, modifier, msg_start, len(result))\n"
     ]
    },
    {
     "name": "stdout",
     "output_type": "stream",
     "text": [
      "f1-score of video25-phase.csv : 0.9220\n",
      "accuracy of video25-phase.csv : 0.9237\n",
      "precision of video25-phase.csv : 0.9665\n",
      "recall of video25-phase.csv : 0.9543 \n",
      "\n",
      "f1-score of video16-phase.csv : 0.8353\n",
      "accuracy of video16-phase.csv : 0.8372\n",
      "precision of video16-phase.csv : 0.9340\n",
      "recall of video16-phase.csv : 0.9184 \n",
      "\n",
      "f1-score of video20-phase.csv : 0.6826\n",
      "accuracy of video20-phase.csv : 0.7809\n",
      "precision of video20-phase.csv : 0.8742\n",
      "recall of video20-phase.csv : 0.8432 \n",
      "\n"
     ]
    },
    {
     "name": "stderr",
     "output_type": "stream",
     "text": [
      "/home/yilin/anaconda3/envs/tmrnet/lib/python3.8/site-packages/sklearn/metrics/_classification.py:1248: UndefinedMetricWarning: Precision is ill-defined and being set to 0.0 in labels with no predicted samples. Use `zero_division` parameter to control this behavior.\n",
      "  _warn_prf(average, modifier, msg_start, len(result))\n",
      "/home/yilin/anaconda3/envs/tmrnet/lib/python3.8/site-packages/sklearn/metrics/_classification.py:1248: UndefinedMetricWarning: Precision is ill-defined and being set to 0.0 in labels with no predicted samples. Use `zero_division` parameter to control this behavior.\n",
      "  _warn_prf(average, modifier, msg_start, len(result))\n",
      "/home/yilin/anaconda3/envs/tmrnet/lib/python3.8/site-packages/sklearn/metrics/_classification.py:1248: UndefinedMetricWarning: Precision is ill-defined and being set to 0.0 in labels with no predicted samples. Use `zero_division` parameter to control this behavior.\n",
      "  _warn_prf(average, modifier, msg_start, len(result))\n"
     ]
    },
    {
     "name": "stdout",
     "output_type": "stream",
     "text": [
      "f1-score of video10-phase.csv : 0.8477\n",
      "accuracy of video10-phase.csv : 0.8398\n",
      "precision of video10-phase.csv : 0.9447\n",
      "recall of video10-phase.csv : 0.9222 \n",
      "\n",
      "f1-score of video14-phase.csv : 0.7118\n",
      "accuracy of video14-phase.csv : 0.8985\n",
      "precision of video14-phase.csv : 0.8598\n",
      "recall of video14-phase.csv : 0.8642 \n",
      "\n",
      "f1-score of video17-phase.csv : 0.8510\n",
      "accuracy of video17-phase.csv : 0.8845\n",
      "precision of video17-phase.csv : 0.9518\n",
      "recall of video17-phase.csv : 0.9214 \n",
      "\n"
     ]
    },
    {
     "name": "stderr",
     "output_type": "stream",
     "text": [
      "/home/yilin/anaconda3/envs/tmrnet/lib/python3.8/site-packages/sklearn/metrics/_classification.py:1248: UndefinedMetricWarning: Precision is ill-defined and being set to 0.0 in labels with no predicted samples. Use `zero_division` parameter to control this behavior.\n",
      "  _warn_prf(average, modifier, msg_start, len(result))\n",
      "/home/yilin/anaconda3/envs/tmrnet/lib/python3.8/site-packages/sklearn/metrics/_classification.py:1248: UndefinedMetricWarning: Precision is ill-defined and being set to 0.0 in labels with no predicted samples. Use `zero_division` parameter to control this behavior.\n",
      "  _warn_prf(average, modifier, msg_start, len(result))\n",
      "/home/yilin/anaconda3/envs/tmrnet/lib/python3.8/site-packages/sklearn/metrics/_classification.py:1248: UndefinedMetricWarning: Precision is ill-defined and being set to 0.0 in labels with no predicted samples. Use `zero_division` parameter to control this behavior.\n",
      "  _warn_prf(average, modifier, msg_start, len(result))\n",
      "/home/yilin/anaconda3/envs/tmrnet/lib/python3.8/site-packages/sklearn/metrics/_classification.py:1248: UndefinedMetricWarning: Precision is ill-defined and being set to 0.0 in labels with no predicted samples. Use `zero_division` parameter to control this behavior.\n",
      "  _warn_prf(average, modifier, msg_start, len(result))\n"
     ]
    },
    {
     "name": "stdout",
     "output_type": "stream",
     "text": [
      "f1-score of video8-phase.csv : 0.8539\n",
      "accuracy of video8-phase.csv : 0.9255\n",
      "precision of video8-phase.csv : 0.9423\n",
      "recall of video8-phase.csv : 0.9139 \n",
      "\n",
      "f1-score of video13-phase.csv : 0.8569\n",
      "accuracy of video13-phase.csv : 0.8777\n",
      "precision of video13-phase.csv : 0.9364\n",
      "recall of video13-phase.csv : 0.9202 \n",
      "\n",
      "f1-score of video7-phase.csv : 0.5402\n",
      "accuracy of video7-phase.csv : 0.6308\n",
      "precision of video7-phase.csv : 0.8049\n",
      "recall of video7-phase.csv : 0.7645 \n",
      "\n",
      "f1-score of video5-phase.csv : 0.9198\n",
      "accuracy of video5-phase.csv : 0.9275\n",
      "precision of video5-phase.csv : 0.9787\n",
      "recall of video5-phase.csv : 0.9461 \n",
      "\n",
      "f1-score of video1-phase.csv : 0.4230\n",
      "accuracy of video1-phase.csv : 0.5676\n",
      "precision of video1-phase.csv : 0.7558\n",
      "recall of video1-phase.csv : 0.7314 \n",
      "\n",
      "** Average f1-score: 0.7670\n",
      "** std f1-score: 0.1756\n",
      "** Average accuracy: 0.8145\n",
      "** std accuracy: 0.1464\n",
      "** Average precision: 0.9130\n",
      "** std precision: 0.0744\n",
      "** Average recall: 0.8784\n",
      "** std recall: 0.0847\n"
     ]
    },
    {
     "name": "stderr",
     "output_type": "stream",
     "text": [
      "/home/yilin/anaconda3/envs/tmrnet/lib/python3.8/site-packages/sklearn/metrics/_classification.py:1248: UndefinedMetricWarning: Precision is ill-defined and being set to 0.0 in labels with no predicted samples. Use `zero_division` parameter to control this behavior.\n",
      "  _warn_prf(average, modifier, msg_start, len(result))\n",
      "/home/yilin/anaconda3/envs/tmrnet/lib/python3.8/site-packages/sklearn/metrics/_classification.py:1248: UndefinedMetricWarning: Precision is ill-defined and being set to 0.0 in labels with no predicted samples. Use `zero_division` parameter to control this behavior.\n",
      "  _warn_prf(average, modifier, msg_start, len(result))\n"
     ]
    }
   ],
   "source": [
    "f1_scores_m3,accuracy_m3,precision_m3,recall_m3 = compute_f1score(gt = './M3/gt-step-resnet',\\\n",
    "                predictions = './M3/pred-step-resnet')"
   ]
  },
  {
   "cell_type": "code",
   "execution_count": 89,
   "id": "bdfba2a3",
   "metadata": {},
   "outputs": [
    {
     "name": "stdout",
     "output_type": "stream",
     "text": [
      "** Average f1-score: 0.8123\n",
      "** std f1-score: 0.1468\n",
      "** Average accuracy: 0.8520\n",
      "** std accuracy: 0.1058\n",
      "** Average precision: 0.9354\n",
      "** std precision: 0.0574\n",
      "** Average recall: 0.8989\n",
      "** std recall: 0.0721\n"
     ]
    }
   ],
   "source": [
    "f1_acc_20(f1_scores_m3,accuracy_m3,precision_m3,recall_m3)"
   ]
  },
  {
   "cell_type": "code",
   "execution_count": null,
   "id": "40b9e9b6",
   "metadata": {},
   "outputs": [],
   "source": []
  },
  {
   "cell_type": "code",
   "execution_count": 90,
   "id": "06bfe5eb",
   "metadata": {
    "collapsed": true
   },
   "outputs": [
    {
     "name": "stdout",
     "output_type": "stream",
     "text": [
      "f1-score of video9-phase.csv : 0.8004\n",
      "accuracy of video9-phase.csv : 0.8202\n",
      "precision of video9-phase.csv : 0.9154\n",
      "recall of video9-phase.csv : 0.9140 \n",
      "\n",
      "f1-score of video4-phase.csv : 0.9051\n",
      "accuracy of video4-phase.csv : 0.9068\n",
      "precision of video4-phase.csv : 0.9854\n",
      "recall of video4-phase.csv : 0.9292 \n",
      "\n",
      "f1-score of video12-phase.csv : 0.9407\n",
      "accuracy of video12-phase.csv : 0.9514\n",
      "precision of video12-phase.csv : 0.9928\n",
      "recall of video12-phase.csv : 0.9505 \n",
      "\n",
      "f1-score of video3-phase.csv : 0.9560\n",
      "accuracy of video3-phase.csv : 0.9642\n",
      "precision of video3-phase.csv : 0.9962\n",
      "recall of video3-phase.csv : 0.9608 \n",
      "\n",
      "f1-score of video11-phase.csv : 0.7322\n",
      "accuracy of video11-phase.csv : 0.8288\n",
      "precision of video11-phase.csv : 0.9472\n",
      "recall of video11-phase.csv : 0.8447 \n",
      "\n",
      "f1-score of video23-phase.csv : 0.8981\n",
      "accuracy of video23-phase.csv : 0.8985\n",
      "precision of video23-phase.csv : 0.9658\n",
      "recall of video23-phase.csv : 0.9326 \n",
      "\n"
     ]
    },
    {
     "name": "stderr",
     "output_type": "stream",
     "text": [
      "/home/yilin/anaconda3/envs/tmrnet/lib/python3.8/site-packages/sklearn/metrics/_classification.py:1248: UndefinedMetricWarning: Precision is ill-defined and being set to 0.0 in labels with no predicted samples. Use `zero_division` parameter to control this behavior.\n",
      "  _warn_prf(average, modifier, msg_start, len(result))\n"
     ]
    },
    {
     "name": "stdout",
     "output_type": "stream",
     "text": [
      "f1-score of video19-phase.csv : 0.5202\n",
      "accuracy of video19-phase.csv : 0.5779\n",
      "precision of video19-phase.csv : 0.8042\n",
      "recall of video19-phase.csv : 0.7592 \n",
      "\n",
      "f1-score of video24-phase.csv : 0.9467\n",
      "accuracy of video24-phase.csv : 0.9593\n",
      "precision of video24-phase.csv : 0.9902\n",
      "recall of video24-phase.csv : 0.9626 \n",
      "\n",
      "f1-score of video22-phase.csv : 0.8406\n",
      "accuracy of video22-phase.csv : 0.8641\n",
      "precision of video22-phase.csv : 0.9692\n",
      "recall of video22-phase.csv : 0.9032 \n",
      "\n",
      "f1-score of video18-phase.csv : 0.8202\n",
      "accuracy of video18-phase.csv : 0.8212\n",
      "precision of video18-phase.csv : 0.9429\n",
      "recall of video18-phase.csv : 0.8930 \n",
      "\n"
     ]
    },
    {
     "name": "stderr",
     "output_type": "stream",
     "text": [
      "/home/yilin/anaconda3/envs/tmrnet/lib/python3.8/site-packages/sklearn/metrics/_classification.py:1248: UndefinedMetricWarning: Precision is ill-defined and being set to 0.0 in labels with no predicted samples. Use `zero_division` parameter to control this behavior.\n",
      "  _warn_prf(average, modifier, msg_start, len(result))\n",
      "/home/yilin/anaconda3/envs/tmrnet/lib/python3.8/site-packages/sklearn/metrics/_classification.py:1248: UndefinedMetricWarning: Precision is ill-defined and being set to 0.0 in labels with no predicted samples. Use `zero_division` parameter to control this behavior.\n",
      "  _warn_prf(average, modifier, msg_start, len(result))\n"
     ]
    },
    {
     "name": "stdout",
     "output_type": "stream",
     "text": [
      "f1-score of video6-phase.csv : 0.8066\n",
      "accuracy of video6-phase.csv : 0.9027\n",
      "precision of video6-phase.csv : 0.9302\n",
      "recall of video6-phase.csv : 0.8912 \n",
      "\n",
      "f1-score of video15-phase.csv : 0.8896\n",
      "accuracy of video15-phase.csv : 0.8781\n",
      "precision of video15-phase.csv : 0.9776\n",
      "recall of video15-phase.csv : 0.9333 \n",
      "\n",
      "f1-score of video21-phase.csv : 0.7407\n",
      "accuracy of video21-phase.csv : 0.8104\n",
      "precision of video21-phase.csv : 0.9221\n",
      "recall of video21-phase.csv : 0.8548 \n",
      "\n",
      "f1-score of video2-phase.csv : 0.3642\n",
      "accuracy of video2-phase.csv : 0.5024\n",
      "precision of video2-phase.csv : 0.7453\n",
      "recall of video2-phase.csv : 0.6591 \n",
      "\n",
      "f1-score of video25-phase.csv : 0.8957\n",
      "accuracy of video25-phase.csv : 0.9017\n",
      "precision of video25-phase.csv : 0.9621\n",
      "recall of video25-phase.csv : 0.9318 \n",
      "\n",
      "f1-score of video16-phase.csv : 0.8036\n",
      "accuracy of video16-phase.csv : 0.8270\n",
      "precision of video16-phase.csv : 0.9341\n",
      "recall of video16-phase.csv : 0.8959 \n",
      "\n",
      "f1-score of video20-phase.csv : 0.8212\n",
      "accuracy of video20-phase.csv : 0.8801\n",
      "precision of video20-phase.csv : 0.9234\n",
      "recall of video20-phase.csv : 0.9146 \n",
      "\n",
      "f1-score of video10-phase.csv : 0.8642\n",
      "accuracy of video10-phase.csv : 0.8187\n",
      "precision of video10-phase.csv : 0.9687\n",
      "recall of video10-phase.csv : 0.9113 \n",
      "\n",
      "f1-score of video14-phase.csv : 0.7545\n",
      "accuracy of video14-phase.csv : 0.8756\n",
      "precision of video14-phase.csv : 0.9172\n",
      "recall of video14-phase.csv : 0.8566 \n",
      "\n"
     ]
    },
    {
     "name": "stderr",
     "output_type": "stream",
     "text": [
      "/home/yilin/anaconda3/envs/tmrnet/lib/python3.8/site-packages/sklearn/metrics/_classification.py:1248: UndefinedMetricWarning: Precision is ill-defined and being set to 0.0 in labels with no predicted samples. Use `zero_division` parameter to control this behavior.\n",
      "  _warn_prf(average, modifier, msg_start, len(result))\n",
      "/home/yilin/anaconda3/envs/tmrnet/lib/python3.8/site-packages/sklearn/metrics/_classification.py:1248: UndefinedMetricWarning: Precision is ill-defined and being set to 0.0 in labels with no predicted samples. Use `zero_division` parameter to control this behavior.\n",
      "  _warn_prf(average, modifier, msg_start, len(result))\n",
      "/home/yilin/anaconda3/envs/tmrnet/lib/python3.8/site-packages/sklearn/metrics/_classification.py:1248: UndefinedMetricWarning: Precision is ill-defined and being set to 0.0 in labels with no predicted samples. Use `zero_division` parameter to control this behavior.\n",
      "  _warn_prf(average, modifier, msg_start, len(result))\n",
      "/home/yilin/anaconda3/envs/tmrnet/lib/python3.8/site-packages/sklearn/metrics/_classification.py:1248: UndefinedMetricWarning: Precision is ill-defined and being set to 0.0 in labels with no predicted samples. Use `zero_division` parameter to control this behavior.\n",
      "  _warn_prf(average, modifier, msg_start, len(result))\n"
     ]
    },
    {
     "name": "stdout",
     "output_type": "stream",
     "text": [
      "f1-score of video17-phase.csv : 0.8415\n",
      "accuracy of video17-phase.csv : 0.8650\n",
      "precision of video17-phase.csv : 0.9557\n",
      "recall of video17-phase.csv : 0.8975 \n",
      "\n",
      "f1-score of video8-phase.csv : 0.8728\n",
      "accuracy of video8-phase.csv : 0.9413\n",
      "precision of video8-phase.csv : 0.9471\n",
      "recall of video8-phase.csv : 0.9243 \n",
      "\n",
      "f1-score of video13-phase.csv : 0.7815\n",
      "accuracy of video13-phase.csv : 0.7860\n",
      "precision of video13-phase.csv : 0.9134\n",
      "recall of video13-phase.csv : 0.8850 \n",
      "\n",
      "f1-score of video7-phase.csv : 0.5398\n",
      "accuracy of video7-phase.csv : 0.6385\n",
      "precision of video7-phase.csv : 0.8038\n",
      "recall of video7-phase.csv : 0.7609 \n",
      "\n",
      "f1-score of video5-phase.csv : 0.9745\n",
      "accuracy of video5-phase.csv : 0.9787\n",
      "precision of video5-phase.csv : 0.9906\n",
      "recall of video5-phase.csv : 0.9836 \n",
      "\n",
      "f1-score of video1-phase.csv : 0.3825\n",
      "accuracy of video1-phase.csv : 0.5504\n",
      "precision of video1-phase.csv : 0.8743\n",
      "recall of video1-phase.csv : 0.7112 \n",
      "\n",
      "** Average f1-score: 0.7877\n",
      "** std f1-score: 0.1630\n",
      "** Average accuracy: 0.8300\n",
      "** std accuracy: 0.1269\n",
      "** Average precision: 0.9310\n",
      "** std precision: 0.0624\n",
      "** Average recall: 0.8824\n",
      "** std recall: 0.0787\n"
     ]
    },
    {
     "name": "stderr",
     "output_type": "stream",
     "text": [
      "/home/yilin/anaconda3/envs/tmrnet/lib/python3.8/site-packages/sklearn/metrics/_classification.py:1248: UndefinedMetricWarning: Precision is ill-defined and being set to 0.0 in labels with no predicted samples. Use `zero_division` parameter to control this behavior.\n",
      "  _warn_prf(average, modifier, msg_start, len(result))\n"
     ]
    }
   ],
   "source": [
    "f1_scores_m4,accuracy_m4,precision_m4,recall_m4 = compute_f1score(gt = './M4/gt-step-resnet',\\\n",
    "                predictions = './M4/pred-step-resnet')"
   ]
  },
  {
   "cell_type": "code",
   "execution_count": 91,
   "id": "22476baa",
   "metadata": {},
   "outputs": [
    {
     "name": "stdout",
     "output_type": "stream",
     "text": [
      "** Average f1-score: 0.8346\n",
      "** std f1-score: 0.1269\n",
      "** Average accuracy: 0.8640\n",
      "** std accuracy: 0.0998\n",
      "** Average precision: 0.9471\n",
      "** std precision: 0.0532\n",
      "** Average recall: 0.9039\n",
      "** std recall: 0.0654\n"
     ]
    }
   ],
   "source": [
    "f1_acc_20(f1_scores_m4,accuracy_m4,precision_m4,recall_m4)"
   ]
  },
  {
   "cell_type": "code",
   "execution_count": null,
   "id": "3ee9b9df",
   "metadata": {},
   "outputs": [],
   "source": []
  },
  {
   "cell_type": "code",
   "execution_count": null,
   "id": "302167bb",
   "metadata": {},
   "outputs": [],
   "source": []
  },
  {
   "cell_type": "code",
   "execution_count": 92,
   "id": "0bfe763a",
   "metadata": {
    "collapsed": true
   },
   "outputs": [
    {
     "name": "stdout",
     "output_type": "stream",
     "text": [
      "f1-score of video9-phase.csv : 0.7542\n",
      "accuracy of video9-phase.csv : 0.8233\n",
      "precision of video9-phase.csv : 0.8811\n",
      "recall of video9-phase.csv : 0.9013 \n",
      "\n",
      "f1-score of video4-phase.csv : 0.9009\n",
      "accuracy of video4-phase.csv : 0.9275\n",
      "precision of video4-phase.csv : 0.9703\n",
      "recall of video4-phase.csv : 0.9461 \n",
      "\n",
      "f1-score of video12-phase.csv : 0.8994\n",
      "accuracy of video12-phase.csv : 0.9412\n",
      "precision of video12-phase.csv : 0.9818\n",
      "recall of video12-phase.csv : 0.9358 \n",
      "\n",
      "f1-score of video3-phase.csv : 0.9643\n",
      "accuracy of video3-phase.csv : 0.9702\n",
      "precision of video3-phase.csv : 0.9939\n",
      "recall of video3-phase.csv : 0.9712 \n",
      "\n",
      "f1-score of video11-phase.csv : 0.8428\n",
      "accuracy of video11-phase.csv : 0.8696\n",
      "precision of video11-phase.csv : 0.9595\n",
      "recall of video11-phase.csv : 0.9031 \n",
      "\n",
      "f1-score of video23-phase.csv : 0.8574\n",
      "accuracy of video23-phase.csv : 0.8889\n",
      "precision of video23-phase.csv : 0.9465\n",
      "recall of video23-phase.csv : 0.9187 \n",
      "\n",
      "f1-score of video19-phase.csv : 0.4482\n",
      "accuracy of video19-phase.csv : 0.5219\n",
      "precision of video19-phase.csv : 0.7695\n",
      "recall of video19-phase.csv : 0.7282 \n",
      "\n",
      "f1-score of video24-phase.csv : 0.8685\n",
      "accuracy of video24-phase.csv : 0.8953\n",
      "precision of video24-phase.csv : 0.9650\n",
      "recall of video24-phase.csv : 0.9267 \n",
      "\n",
      "f1-score of video22-phase.csv : 0.8936\n",
      "accuracy of video22-phase.csv : 0.8945\n",
      "precision of video22-phase.csv : 0.9679\n",
      "recall of video22-phase.csv : 0.9308 \n",
      "\n",
      "f1-score of video18-phase.csv : 0.8263\n",
      "accuracy of video18-phase.csv : 0.8398\n",
      "precision of video18-phase.csv : 0.9262\n",
      "recall of video18-phase.csv : 0.9262 \n",
      "\n"
     ]
    },
    {
     "name": "stderr",
     "output_type": "stream",
     "text": [
      "/home/yilin/anaconda3/envs/tmrnet/lib/python3.8/site-packages/sklearn/metrics/_classification.py:1248: UndefinedMetricWarning: Precision is ill-defined and being set to 0.0 in labels with no predicted samples. Use `zero_division` parameter to control this behavior.\n",
      "  _warn_prf(average, modifier, msg_start, len(result))\n",
      "/home/yilin/anaconda3/envs/tmrnet/lib/python3.8/site-packages/sklearn/metrics/_classification.py:1248: UndefinedMetricWarning: Precision is ill-defined and being set to 0.0 in labels with no predicted samples. Use `zero_division` parameter to control this behavior.\n",
      "  _warn_prf(average, modifier, msg_start, len(result))\n"
     ]
    },
    {
     "name": "stdout",
     "output_type": "stream",
     "text": [
      "f1-score of video6-phase.csv : 0.7947\n",
      "accuracy of video6-phase.csv : 0.9027\n",
      "precision of video6-phase.csv : 0.9186\n",
      "recall of video6-phase.csv : 0.8951 \n",
      "\n",
      "f1-score of video15-phase.csv : 0.8128\n",
      "accuracy of video15-phase.csv : 0.8450\n",
      "precision of video15-phase.csv : 0.9611\n",
      "recall of video15-phase.csv : 0.8904 \n",
      "\n",
      "f1-score of video21-phase.csv : 0.6601\n",
      "accuracy of video21-phase.csv : 0.7729\n",
      "precision of video21-phase.csv : 0.8679\n",
      "recall of video21-phase.csv : 0.8373 \n",
      "\n",
      "f1-score of video2-phase.csv : 0.2924\n",
      "accuracy of video2-phase.csv : 0.4550\n",
      "precision of video2-phase.csv : 0.7059\n",
      "recall of video2-phase.csv : 0.6368 \n",
      "\n",
      "f1-score of video25-phase.csv : 0.8968\n",
      "accuracy of video25-phase.csv : 0.8898\n",
      "precision of video25-phase.csv : 0.9559\n",
      "recall of video25-phase.csv : 0.9374 \n",
      "\n",
      "f1-score of video16-phase.csv : 0.8772\n",
      "accuracy of video16-phase.csv : 0.8856\n",
      "precision of video16-phase.csv : 0.9471\n",
      "recall of video16-phase.csv : 0.9348 \n",
      "\n",
      "f1-score of video20-phase.csv : 0.7329\n",
      "accuracy of video20-phase.csv : 0.7828\n",
      "precision of video20-phase.csv : 0.8938\n",
      "recall of video20-phase.csv : 0.8855 \n",
      "\n",
      "f1-score of video10-phase.csv : 0.8416\n",
      "accuracy of video10-phase.csv : 0.8504\n",
      "precision of video10-phase.csv : 0.9348\n",
      "recall of video10-phase.csv : 0.9248 \n",
      "\n",
      "f1-score of video14-phase.csv : 0.8142\n",
      "accuracy of video14-phase.csv : 0.9086\n",
      "precision of video14-phase.csv : 0.9385\n",
      "recall of video14-phase.csv : 0.8869 \n",
      "\n",
      "f1-score of video17-phase.csv : 0.8122\n",
      "accuracy of video17-phase.csv : 0.8552\n",
      "precision of video17-phase.csv : 0.9436\n",
      "recall of video17-phase.csv : 0.8893 \n",
      "\n",
      "f1-score of video8-phase.csv : 0.8346\n",
      "accuracy of video8-phase.csv : 0.9278\n",
      "precision of video8-phase.csv : 0.9278\n",
      "recall of video8-phase.csv : 0.9129 \n",
      "\n"
     ]
    },
    {
     "name": "stderr",
     "output_type": "stream",
     "text": [
      "/home/yilin/anaconda3/envs/tmrnet/lib/python3.8/site-packages/sklearn/metrics/_classification.py:1248: UndefinedMetricWarning: Precision is ill-defined and being set to 0.0 in labels with no predicted samples. Use `zero_division` parameter to control this behavior.\n",
      "  _warn_prf(average, modifier, msg_start, len(result))\n",
      "/home/yilin/anaconda3/envs/tmrnet/lib/python3.8/site-packages/sklearn/metrics/_classification.py:1248: UndefinedMetricWarning: Precision is ill-defined and being set to 0.0 in labels with no predicted samples. Use `zero_division` parameter to control this behavior.\n",
      "  _warn_prf(average, modifier, msg_start, len(result))\n",
      "/home/yilin/anaconda3/envs/tmrnet/lib/python3.8/site-packages/sklearn/metrics/_classification.py:1248: UndefinedMetricWarning: Precision is ill-defined and being set to 0.0 in labels with no predicted samples. Use `zero_division` parameter to control this behavior.\n",
      "  _warn_prf(average, modifier, msg_start, len(result))\n"
     ]
    },
    {
     "name": "stdout",
     "output_type": "stream",
     "text": [
      "f1-score of video13-phase.csv : 0.8385\n",
      "accuracy of video13-phase.csv : 0.7950\n",
      "precision of video13-phase.csv : 0.9263\n",
      "recall of video13-phase.csv : 0.9109 \n",
      "\n",
      "f1-score of video7-phase.csv : 0.4566\n",
      "accuracy of video7-phase.csv : 0.5769\n",
      "precision of video7-phase.csv : 0.7953\n",
      "recall of video7-phase.csv : 0.7130 \n",
      "\n",
      "f1-score of video5-phase.csv : 0.9781\n",
      "accuracy of video5-phase.csv : 0.9680\n",
      "precision of video5-phase.csv : 0.9956\n",
      "recall of video5-phase.csv : 0.9817 \n",
      "\n",
      "f1-score of video1-phase.csv : 0.4284\n",
      "accuracy of video1-phase.csv : 0.6127\n",
      "precision of video1-phase.csv : 0.6978\n",
      "recall of video1-phase.csv : 0.7321 \n",
      "\n",
      "** Average f1-score: 0.7731\n",
      "** std f1-score: 0.1748\n",
      "** Average accuracy: 0.8240\n",
      "** std accuracy: 0.1350\n",
      "** Average precision: 0.9109\n",
      "** std precision: 0.0813\n",
      "** Average recall: 0.8823\n",
      "** std recall: 0.0849\n"
     ]
    },
    {
     "name": "stderr",
     "output_type": "stream",
     "text": [
      "/home/yilin/anaconda3/envs/tmrnet/lib/python3.8/site-packages/sklearn/metrics/_classification.py:1248: UndefinedMetricWarning: Precision is ill-defined and being set to 0.0 in labels with no predicted samples. Use `zero_division` parameter to control this behavior.\n",
      "  _warn_prf(average, modifier, msg_start, len(result))\n",
      "/home/yilin/anaconda3/envs/tmrnet/lib/python3.8/site-packages/sklearn/metrics/_classification.py:1248: UndefinedMetricWarning: Precision is ill-defined and being set to 0.0 in labels with no predicted samples. Use `zero_division` parameter to control this behavior.\n",
      "  _warn_prf(average, modifier, msg_start, len(result))\n",
      "/home/yilin/anaconda3/envs/tmrnet/lib/python3.8/site-packages/sklearn/metrics/_classification.py:1248: UndefinedMetricWarning: Precision is ill-defined and being set to 0.0 in labels with no predicted samples. Use `zero_division` parameter to control this behavior.\n",
      "  _warn_prf(average, modifier, msg_start, len(result))\n"
     ]
    }
   ],
   "source": [
    "f1_scores_m5,accuracy_m5,precision_m5,recall_m5 = compute_f1score(gt = './M5/gt-step-resnet',\\\n",
    "                predictions = './M5/pred-step-resnet')"
   ]
  },
  {
   "cell_type": "code",
   "execution_count": 93,
   "id": "164a341f",
   "metadata": {},
   "outputs": [
    {
     "name": "stdout",
     "output_type": "stream",
     "text": [
      "** Average f1-score: 0.8151\n",
      "** std f1-score: 0.1399\n",
      "** Average accuracy: 0.8547\n",
      "** std accuracy: 0.1070\n",
      "** Average precision: 0.9312\n",
      "** std precision: 0.0618\n",
      "** Average recall: 0.9031\n",
      "** std recall: 0.0684\n"
     ]
    }
   ],
   "source": [
    "f1_acc_20(f1_scores_m5,accuracy_m5,precision_m5,recall_m5)"
   ]
  },
  {
   "cell_type": "code",
   "execution_count": null,
   "id": "e85c69cb",
   "metadata": {},
   "outputs": [],
   "source": []
  },
  {
   "cell_type": "code",
   "execution_count": null,
   "id": "15b90858",
   "metadata": {},
   "outputs": [],
   "source": []
  },
  {
   "cell_type": "code",
   "execution_count": 94,
   "id": "23d8f69e",
   "metadata": {
    "collapsed": true
   },
   "outputs": [
    {
     "name": "stdout",
     "output_type": "stream",
     "text": [
      "f1-score of video9-phase.csv : 0.7823\n",
      "accuracy of video9-phase.csv : 0.8310\n",
      "precision of video9-phase.csv : 0.9241\n",
      "recall of video9-phase.csv : 0.8948 \n",
      "\n",
      "f1-score of video4-phase.csv : 0.9080\n",
      "accuracy of video4-phase.csv : 0.9006\n",
      "precision of video4-phase.csv : 0.9811\n",
      "recall of video4-phase.csv : 0.9372 \n",
      "\n",
      "f1-score of video12-phase.csv : 0.8871\n",
      "accuracy of video12-phase.csv : 0.9335\n",
      "precision of video12-phase.csv : 0.9857\n",
      "recall of video12-phase.csv : 0.9189 \n",
      "\n",
      "f1-score of video3-phase.csv : 0.9277\n",
      "accuracy of video3-phase.csv : 0.9304\n",
      "precision of video3-phase.csv : 0.9807\n",
      "recall of video3-phase.csv : 0.9458 \n",
      "\n",
      "f1-score of video11-phase.csv : 0.8990\n",
      "accuracy of video11-phase.csv : 0.8949\n",
      "precision of video11-phase.csv : 0.9892\n",
      "recall of video11-phase.csv : 0.9207 \n",
      "\n",
      "f1-score of video23-phase.csv : 0.8198\n",
      "accuracy of video23-phase.csv : 0.8065\n",
      "precision of video23-phase.csv : 0.9409\n",
      "recall of video23-phase.csv : 0.8861 \n",
      "\n",
      "f1-score of video19-phase.csv : 0.3936\n",
      "accuracy of video19-phase.csv : 0.4167\n",
      "precision of video19-phase.csv : 0.7469\n",
      "recall of video19-phase.csv : 0.6885 \n",
      "\n"
     ]
    },
    {
     "name": "stderr",
     "output_type": "stream",
     "text": [
      "/home/yilin/anaconda3/envs/tmrnet/lib/python3.8/site-packages/sklearn/metrics/_classification.py:1248: UndefinedMetricWarning: Precision is ill-defined and being set to 0.0 in labels with no predicted samples. Use `zero_division` parameter to control this behavior.\n",
      "  _warn_prf(average, modifier, msg_start, len(result))\n",
      "/home/yilin/anaconda3/envs/tmrnet/lib/python3.8/site-packages/sklearn/metrics/_classification.py:1248: UndefinedMetricWarning: Precision is ill-defined and being set to 0.0 in labels with no predicted samples. Use `zero_division` parameter to control this behavior.\n",
      "  _warn_prf(average, modifier, msg_start, len(result))\n"
     ]
    },
    {
     "name": "stdout",
     "output_type": "stream",
     "text": [
      "f1-score of video24-phase.csv : 0.9249\n",
      "accuracy of video24-phase.csv : 0.9438\n",
      "precision of video24-phase.csv : 0.9922\n",
      "recall of video24-phase.csv : 0.9405 \n",
      "\n",
      "f1-score of video22-phase.csv : 0.8621\n",
      "accuracy of video22-phase.csv : 0.8519\n",
      "precision of video22-phase.csv : 0.9788\n",
      "recall of video22-phase.csv : 0.9020 \n",
      "\n",
      "f1-score of video18-phase.csv : 0.8374\n",
      "accuracy of video18-phase.csv : 0.8340\n",
      "precision of video18-phase.csv : 0.9475\n",
      "recall of video18-phase.csv : 0.9049 \n",
      "\n",
      "f1-score of video6-phase.csv : 0.8499\n",
      "accuracy of video6-phase.csv : 0.9381\n",
      "precision of video6-phase.csv : 0.9374\n",
      "recall of video6-phase.csv : 0.9130 \n",
      "\n"
     ]
    },
    {
     "name": "stderr",
     "output_type": "stream",
     "text": [
      "/home/yilin/anaconda3/envs/tmrnet/lib/python3.8/site-packages/sklearn/metrics/_classification.py:1248: UndefinedMetricWarning: Precision is ill-defined and being set to 0.0 in labels with no predicted samples. Use `zero_division` parameter to control this behavior.\n",
      "  _warn_prf(average, modifier, msg_start, len(result))\n",
      "/home/yilin/anaconda3/envs/tmrnet/lib/python3.8/site-packages/sklearn/metrics/_classification.py:1248: UndefinedMetricWarning: Precision is ill-defined and being set to 0.0 in labels with no predicted samples. Use `zero_division` parameter to control this behavior.\n",
      "  _warn_prf(average, modifier, msg_start, len(result))\n",
      "/home/yilin/anaconda3/envs/tmrnet/lib/python3.8/site-packages/sklearn/metrics/_classification.py:1248: UndefinedMetricWarning: Precision is ill-defined and being set to 0.0 in labels with no predicted samples. Use `zero_division` parameter to control this behavior.\n",
      "  _warn_prf(average, modifier, msg_start, len(result))\n"
     ]
    },
    {
     "name": "stdout",
     "output_type": "stream",
     "text": [
      "f1-score of video15-phase.csv : 0.8172\n",
      "accuracy of video15-phase.csv : 0.8368\n",
      "precision of video15-phase.csv : 0.9452\n",
      "recall of video15-phase.csv : 0.9058 \n",
      "\n",
      "f1-score of video21-phase.csv : 0.6545\n",
      "accuracy of video21-phase.csv : 0.8021\n",
      "precision of video21-phase.csv : 0.8354\n",
      "recall of video21-phase.csv : 0.8374 \n",
      "\n",
      "f1-score of video2-phase.csv : 0.2370\n",
      "accuracy of video2-phase.csv : 0.4464\n",
      "precision of video2-phase.csv : 0.7070\n",
      "recall of video2-phase.csv : 0.6110 \n",
      "\n"
     ]
    },
    {
     "name": "stderr",
     "output_type": "stream",
     "text": [
      "/home/yilin/anaconda3/envs/tmrnet/lib/python3.8/site-packages/sklearn/metrics/_classification.py:1248: UndefinedMetricWarning: Precision is ill-defined and being set to 0.0 in labels with no predicted samples. Use `zero_division` parameter to control this behavior.\n",
      "  _warn_prf(average, modifier, msg_start, len(result))\n",
      "/home/yilin/anaconda3/envs/tmrnet/lib/python3.8/site-packages/sklearn/metrics/_classification.py:1248: UndefinedMetricWarning: Precision is ill-defined and being set to 0.0 in labels with no predicted samples. Use `zero_division` parameter to control this behavior.\n",
      "  _warn_prf(average, modifier, msg_start, len(result))\n"
     ]
    },
    {
     "name": "stdout",
     "output_type": "stream",
     "text": [
      "f1-score of video25-phase.csv : 0.8816\n",
      "accuracy of video25-phase.csv : 0.8814\n",
      "precision of video25-phase.csv : 0.9760\n",
      "recall of video25-phase.csv : 0.9209 \n",
      "\n",
      "f1-score of video16-phase.csv : 0.8566\n",
      "accuracy of video16-phase.csv : 0.8578\n",
      "precision of video16-phase.csv : 0.9540\n",
      "recall of video16-phase.csv : 0.9127 \n",
      "\n",
      "f1-score of video20-phase.csv : 0.8151\n",
      "accuracy of video20-phase.csv : 0.8352\n",
      "precision of video20-phase.csv : 0.9374\n",
      "recall of video20-phase.csv : 0.9052 \n",
      "\n",
      "f1-score of video10-phase.csv : 0.8346\n",
      "accuracy of video10-phase.csv : 0.7940\n",
      "precision of video10-phase.csv : 0.9696\n",
      "recall of video10-phase.csv : 0.8929 \n",
      "\n"
     ]
    },
    {
     "name": "stderr",
     "output_type": "stream",
     "text": [
      "/home/yilin/anaconda3/envs/tmrnet/lib/python3.8/site-packages/sklearn/metrics/_classification.py:1248: UndefinedMetricWarning: Precision is ill-defined and being set to 0.0 in labels with no predicted samples. Use `zero_division` parameter to control this behavior.\n",
      "  _warn_prf(average, modifier, msg_start, len(result))\n",
      "/home/yilin/anaconda3/envs/tmrnet/lib/python3.8/site-packages/sklearn/metrics/_classification.py:1248: UndefinedMetricWarning: Precision is ill-defined and being set to 0.0 in labels with no predicted samples. Use `zero_division` parameter to control this behavior.\n",
      "  _warn_prf(average, modifier, msg_start, len(result))\n",
      "/home/yilin/anaconda3/envs/tmrnet/lib/python3.8/site-packages/sklearn/metrics/_classification.py:1248: UndefinedMetricWarning: Precision is ill-defined and being set to 0.0 in labels with no predicted samples. Use `zero_division` parameter to control this behavior.\n",
      "  _warn_prf(average, modifier, msg_start, len(result))\n"
     ]
    },
    {
     "name": "stdout",
     "output_type": "stream",
     "text": [
      "f1-score of video14-phase.csv : 0.7551\n",
      "accuracy of video14-phase.csv : 0.8959\n",
      "precision of video14-phase.csv : 0.9061\n",
      "recall of video14-phase.csv : 0.8700 \n",
      "\n",
      "f1-score of video17-phase.csv : 0.8720\n",
      "accuracy of video17-phase.csv : 0.9041\n",
      "precision of video17-phase.csv : 0.9519\n",
      "recall of video17-phase.csv : 0.9280 \n",
      "\n",
      "f1-score of video8-phase.csv : 0.8764\n",
      "accuracy of video8-phase.csv : 0.9526\n",
      "precision of video8-phase.csv : 0.9499\n",
      "recall of video8-phase.csv : 0.9293 \n",
      "\n",
      "f1-score of video13-phase.csv : 0.8313\n",
      "accuracy of video13-phase.csv : 0.7662\n",
      "precision of video13-phase.csv : 0.9414\n",
      "recall of video13-phase.csv : 0.8945 \n",
      "\n"
     ]
    },
    {
     "name": "stderr",
     "output_type": "stream",
     "text": [
      "/home/yilin/anaconda3/envs/tmrnet/lib/python3.8/site-packages/sklearn/metrics/_classification.py:1248: UndefinedMetricWarning: Precision is ill-defined and being set to 0.0 in labels with no predicted samples. Use `zero_division` parameter to control this behavior.\n",
      "  _warn_prf(average, modifier, msg_start, len(result))\n",
      "/home/yilin/anaconda3/envs/tmrnet/lib/python3.8/site-packages/sklearn/metrics/_classification.py:1248: UndefinedMetricWarning: Precision is ill-defined and being set to 0.0 in labels with no predicted samples. Use `zero_division` parameter to control this behavior.\n",
      "  _warn_prf(average, modifier, msg_start, len(result))\n",
      "/home/yilin/anaconda3/envs/tmrnet/lib/python3.8/site-packages/sklearn/metrics/_classification.py:1248: UndefinedMetricWarning: Precision is ill-defined and being set to 0.0 in labels with no predicted samples. Use `zero_division` parameter to control this behavior.\n",
      "  _warn_prf(average, modifier, msg_start, len(result))\n"
     ]
    },
    {
     "name": "stdout",
     "output_type": "stream",
     "text": [
      "f1-score of video7-phase.csv : 0.5740\n",
      "accuracy of video7-phase.csv : 0.6606\n",
      "precision of video7-phase.csv : 0.8208\n",
      "recall of video7-phase.csv : 0.7821 \n",
      "\n",
      "f1-score of video5-phase.csv : 0.8767\n",
      "accuracy of video5-phase.csv : 0.8785\n",
      "precision of video5-phase.csv : 0.9665\n",
      "recall of video5-phase.csv : 0.9241 \n",
      "\n",
      "f1-score of video1-phase.csv : 0.4617\n",
      "accuracy of video1-phase.csv : 0.5836\n",
      "precision of video1-phase.csv : 0.7803\n",
      "recall of video1-phase.csv : 0.7355 \n",
      "\n",
      "** Average f1-score: 0.7774\n",
      "** std f1-score: 0.1740\n",
      "** Average accuracy: 0.8151\n",
      "** std accuracy: 0.1406\n",
      "** Average precision: 0.9218\n",
      "** std precision: 0.0777\n",
      "** Average recall: 0.8761\n",
      "** std recall: 0.0822\n"
     ]
    }
   ],
   "source": [
    "f1_scores_m6,accuracy_m6,precision_m6,recall_m6 = compute_f1score(gt = './M6/gt-step-resnet',\\\n",
    "                predictions = './M6/pred-step-resnet')"
   ]
  },
  {
   "cell_type": "code",
   "execution_count": 95,
   "id": "f0915e37",
   "metadata": {},
   "outputs": [
    {
     "name": "stdout",
     "output_type": "stream",
     "text": [
      "** Average f1-score: 0.8197\n",
      "** std f1-score: 0.1460\n",
      "** Average accuracy: 0.8481\n",
      "** std accuracy: 0.1068\n",
      "** Average precision: 0.9419\n",
      "** std precision: 0.0635\n",
      "** Average recall: 0.8956\n",
      "** std recall: 0.0693\n"
     ]
    }
   ],
   "source": [
    "f1_acc_20(f1_scores_m6,accuracy_m6,precision_m6,recall_m6)"
   ]
  },
  {
   "cell_type": "code",
   "execution_count": null,
   "id": "418bf249",
   "metadata": {},
   "outputs": [],
   "source": []
  },
  {
   "cell_type": "code",
   "execution_count": null,
   "id": "7afac404",
   "metadata": {},
   "outputs": [],
   "source": []
  },
  {
   "cell_type": "code",
   "execution_count": 96,
   "id": "34e1f25f",
   "metadata": {
    "scrolled": true
   },
   "outputs": [
    {
     "name": "stdout",
     "output_type": "stream",
     "text": [
      "f1-score of video9-phase.csv : 0.7900\n",
      "accuracy of video9-phase.csv : 0.8124\n",
      "precision of video9-phase.csv : 0.9096\n",
      "recall of video9-phase.csv : 0.9104 \n",
      "\n",
      "f1-score of video4-phase.csv : 0.8887\n",
      "accuracy of video4-phase.csv : 0.8509\n",
      "precision of video4-phase.csv : 0.9635\n",
      "recall of video4-phase.csv : 0.9291 \n",
      "\n",
      "f1-score of video12-phase.csv : 0.8988\n",
      "accuracy of video12-phase.csv : 0.8875\n",
      "precision of video12-phase.csv : 0.9772\n",
      "recall of video12-phase.csv : 0.9276 \n",
      "\n",
      "f1-score of video3-phase.csv : 0.9606\n",
      "accuracy of video3-phase.csv : 0.9563\n",
      "precision of video3-phase.csv : 0.9923\n",
      "recall of video3-phase.csv : 0.9673 \n",
      "\n",
      "f1-score of video11-phase.csv : 0.7416\n",
      "accuracy of video11-phase.csv : 0.8074\n",
      "precision of video11-phase.csv : 0.9003\n",
      "recall of video11-phase.csv : 0.8503 \n",
      "\n",
      "f1-score of video23-phase.csv : 0.9257\n",
      "accuracy of video23-phase.csv : 0.9042\n",
      "precision of video23-phase.csv : 0.9846\n",
      "recall of video23-phase.csv : 0.9429 \n",
      "\n"
     ]
    },
    {
     "name": "stderr",
     "output_type": "stream",
     "text": [
      "/home/yilin/anaconda3/envs/tmrnet/lib/python3.8/site-packages/sklearn/metrics/_classification.py:1248: UndefinedMetricWarning: Precision is ill-defined and being set to 0.0 in labels with no predicted samples. Use `zero_division` parameter to control this behavior.\n",
      "  _warn_prf(average, modifier, msg_start, len(result))\n",
      "/home/yilin/anaconda3/envs/tmrnet/lib/python3.8/site-packages/sklearn/metrics/_classification.py:1248: UndefinedMetricWarning: Precision is ill-defined and being set to 0.0 in labels with no predicted samples. Use `zero_division` parameter to control this behavior.\n",
      "  _warn_prf(average, modifier, msg_start, len(result))\n",
      "/home/yilin/anaconda3/envs/tmrnet/lib/python3.8/site-packages/sklearn/metrics/_classification.py:1248: UndefinedMetricWarning: Precision is ill-defined and being set to 0.0 in labels with no predicted samples. Use `zero_division` parameter to control this behavior.\n",
      "  _warn_prf(average, modifier, msg_start, len(result))\n"
     ]
    },
    {
     "name": "stdout",
     "output_type": "stream",
     "text": [
      "f1-score of video19-phase.csv : 0.4879\n",
      "accuracy of video19-phase.csv : 0.6503\n",
      "precision of video19-phase.csv : 0.7352\n",
      "recall of video19-phase.csv : 0.7555 \n",
      "\n",
      "f1-score of video24-phase.csv : 0.8740\n",
      "accuracy of video24-phase.csv : 0.8818\n",
      "precision of video24-phase.csv : 0.9690\n",
      "recall of video24-phase.csv : 0.9282 \n",
      "\n",
      "f1-score of video22-phase.csv : 0.8290\n",
      "accuracy of video22-phase.csv : 0.8479\n",
      "precision of video22-phase.csv : 0.9448\n",
      "recall of video22-phase.csv : 0.8962 \n",
      "\n",
      "f1-score of video18-phase.csv : 0.8519\n",
      "accuracy of video18-phase.csv : 0.8283\n",
      "precision of video18-phase.csv : 0.9515\n",
      "recall of video18-phase.csv : 0.9057 \n",
      "\n"
     ]
    },
    {
     "name": "stderr",
     "output_type": "stream",
     "text": [
      "/home/yilin/anaconda3/envs/tmrnet/lib/python3.8/site-packages/sklearn/metrics/_classification.py:1248: UndefinedMetricWarning: Precision is ill-defined and being set to 0.0 in labels with no predicted samples. Use `zero_division` parameter to control this behavior.\n",
      "  _warn_prf(average, modifier, msg_start, len(result))\n",
      "/home/yilin/anaconda3/envs/tmrnet/lib/python3.8/site-packages/sklearn/metrics/_classification.py:1248: UndefinedMetricWarning: Precision is ill-defined and being set to 0.0 in labels with no predicted samples. Use `zero_division` parameter to control this behavior.\n",
      "  _warn_prf(average, modifier, msg_start, len(result))\n"
     ]
    },
    {
     "name": "stdout",
     "output_type": "stream",
     "text": [
      "f1-score of video6-phase.csv : 0.7411\n",
      "accuracy of video6-phase.csv : 0.8230\n",
      "precision of video6-phase.csv : 0.9034\n",
      "recall of video6-phase.csv : 0.8688 \n",
      "\n",
      "f1-score of video15-phase.csv : 0.8647\n",
      "accuracy of video15-phase.csv : 0.8719\n",
      "precision of video15-phase.csv : 0.9587\n",
      "recall of video15-phase.csv : 0.9129 \n",
      "\n",
      "f1-score of video21-phase.csv : 0.6585\n",
      "accuracy of video21-phase.csv : 0.7646\n",
      "precision of video21-phase.csv : 0.8814\n",
      "recall of video21-phase.csv : 0.8234 \n",
      "\n"
     ]
    },
    {
     "name": "stderr",
     "output_type": "stream",
     "text": [
      "/home/yilin/anaconda3/envs/tmrnet/lib/python3.8/site-packages/sklearn/metrics/_classification.py:1248: UndefinedMetricWarning: Precision is ill-defined and being set to 0.0 in labels with no predicted samples. Use `zero_division` parameter to control this behavior.\n",
      "  _warn_prf(average, modifier, msg_start, len(result))\n"
     ]
    },
    {
     "name": "stdout",
     "output_type": "stream",
     "text": [
      "f1-score of video2-phase.csv : 0.3376\n",
      "accuracy of video2-phase.csv : 0.4960\n",
      "precision of video2-phase.csv : 0.7087\n",
      "recall of video2-phase.csv : 0.6433 \n",
      "\n",
      "f1-score of video25-phase.csv : 0.8920\n",
      "accuracy of video25-phase.csv : 0.8695\n",
      "precision of video25-phase.csv : 0.9689\n",
      "recall of video25-phase.csv : 0.9234 \n",
      "\n",
      "f1-score of video16-phase.csv : 0.8318\n",
      "accuracy of video16-phase.csv : 0.8358\n",
      "precision of video16-phase.csv : 0.9511\n",
      "recall of video16-phase.csv : 0.8958 \n",
      "\n",
      "f1-score of video20-phase.csv : 0.8090\n",
      "accuracy of video20-phase.csv : 0.8783\n",
      "precision of video20-phase.csv : 0.9120\n",
      "recall of video20-phase.csv : 0.9070 \n",
      "\n",
      "f1-score of video10-phase.csv : 0.8108\n",
      "accuracy of video10-phase.csv : 0.7799\n",
      "precision of video10-phase.csv : 0.9483\n",
      "recall of video10-phase.csv : 0.8926 \n",
      "\n",
      "f1-score of video14-phase.csv : 0.6768\n",
      "accuracy of video14-phase.csv : 0.8173\n",
      "precision of video14-phase.csv : 0.8957\n",
      "recall of video14-phase.csv : 0.8164 \n",
      "\n",
      "f1-score of video17-phase.csv : 0.7957\n",
      "accuracy of video17-phase.csv : 0.8337\n",
      "precision of video17-phase.csv : 0.9427\n",
      "recall of video17-phase.csv : 0.8803 \n",
      "\n",
      "f1-score of video8-phase.csv : 0.8586\n",
      "accuracy of video8-phase.csv : 0.9391\n",
      "precision of video8-phase.csv : 0.9469\n",
      "recall of video8-phase.csv : 0.9168 \n",
      "\n"
     ]
    },
    {
     "name": "stderr",
     "output_type": "stream",
     "text": [
      "/home/yilin/anaconda3/envs/tmrnet/lib/python3.8/site-packages/sklearn/metrics/_classification.py:1248: UndefinedMetricWarning: Precision is ill-defined and being set to 0.0 in labels with no predicted samples. Use `zero_division` parameter to control this behavior.\n",
      "  _warn_prf(average, modifier, msg_start, len(result))\n",
      "/home/yilin/anaconda3/envs/tmrnet/lib/python3.8/site-packages/sklearn/metrics/_classification.py:1248: UndefinedMetricWarning: Precision is ill-defined and being set to 0.0 in labels with no predicted samples. Use `zero_division` parameter to control this behavior.\n",
      "  _warn_prf(average, modifier, msg_start, len(result))\n",
      "/home/yilin/anaconda3/envs/tmrnet/lib/python3.8/site-packages/sklearn/metrics/_classification.py:1248: UndefinedMetricWarning: Precision is ill-defined and being set to 0.0 in labels with no predicted samples. Use `zero_division` parameter to control this behavior.\n",
      "  _warn_prf(average, modifier, msg_start, len(result))\n"
     ]
    },
    {
     "name": "stdout",
     "output_type": "stream",
     "text": [
      "f1-score of video13-phase.csv : 0.7645\n",
      "accuracy of video13-phase.csv : 0.8165\n",
      "precision of video13-phase.csv : 0.8962\n",
      "recall of video13-phase.csv : 0.8782 \n",
      "\n",
      "f1-score of video7-phase.csv : 0.5855\n",
      "accuracy of video7-phase.csv : 0.6606\n",
      "precision of video7-phase.csv : 0.8259\n",
      "recall of video7-phase.csv : 0.7877 \n",
      "\n",
      "f1-score of video5-phase.csv : 0.9476\n",
      "accuracy of video5-phase.csv : 0.9360\n",
      "precision of video5-phase.csv : 0.9899\n",
      "recall of video5-phase.csv : 0.9576 \n",
      "\n",
      "f1-score of video1-phase.csv : 0.3889\n",
      "accuracy of video1-phase.csv : 0.4973\n",
      "precision of video1-phase.csv : 0.8116\n",
      "recall of video1-phase.csv : 0.6824 \n",
      "\n",
      "** Average f1-score: 0.7685\n",
      "** std f1-score: 0.1615\n",
      "** Average accuracy: 0.8099\n",
      "** std accuracy: 0.1163\n",
      "** Average precision: 0.9148\n",
      "** std precision: 0.0728\n",
      "** Average recall: 0.8720\n",
      "** std recall: 0.0794\n"
     ]
    },
    {
     "name": "stderr",
     "output_type": "stream",
     "text": [
      "/home/yilin/anaconda3/envs/tmrnet/lib/python3.8/site-packages/sklearn/metrics/_classification.py:1248: UndefinedMetricWarning: Precision is ill-defined and being set to 0.0 in labels with no predicted samples. Use `zero_division` parameter to control this behavior.\n",
      "  _warn_prf(average, modifier, msg_start, len(result))\n",
      "/home/yilin/anaconda3/envs/tmrnet/lib/python3.8/site-packages/sklearn/metrics/_classification.py:1248: UndefinedMetricWarning: Precision is ill-defined and being set to 0.0 in labels with no predicted samples. Use `zero_division` parameter to control this behavior.\n",
      "  _warn_prf(average, modifier, msg_start, len(result))\n"
     ]
    }
   ],
   "source": [
    "f1_scores_m7,accuracy_m7,precision_m7,recall_m7 = compute_f1score(gt = './M7/gt-step-resnet',\\\n",
    "                predictions = './M7/pred-step-resnet')"
   ]
  },
  {
   "cell_type": "code",
   "execution_count": 97,
   "id": "fb3b2be1",
   "metadata": {},
   "outputs": [
    {
     "name": "stdout",
     "output_type": "stream",
     "text": [
      "** Average f1-score: 0.8120\n",
      "** std f1-score: 0.1314\n",
      "** Average accuracy: 0.8393\n",
      "** std accuracy: 0.0935\n",
      "** Average precision: 0.9325\n",
      "** std precision: 0.0608\n",
      "** Average recall: 0.8931\n",
      "** std recall: 0.0665\n"
     ]
    }
   ],
   "source": [
    "f1_acc_20(f1_scores_m7,accuracy_m7,precision_m7,recall_m7)"
   ]
  },
  {
   "cell_type": "code",
   "execution_count": null,
   "id": "c694cd98",
   "metadata": {},
   "outputs": [],
   "source": []
  },
  {
   "cell_type": "code",
   "execution_count": null,
   "id": "6c4ca7aa",
   "metadata": {},
   "outputs": [],
   "source": []
  },
  {
   "cell_type": "code",
   "execution_count": null,
   "id": "60fa9e93",
   "metadata": {},
   "outputs": [],
   "source": []
  },
  {
   "cell_type": "code",
   "execution_count": 98,
   "id": "35f743ab",
   "metadata": {
    "collapsed": true
   },
   "outputs": [
    {
     "name": "stdout",
     "output_type": "stream",
     "text": [
      "f1-score of video9-phase.csv : 0.7247\n",
      "accuracy of video9-phase.csv : 0.7411\n",
      "precision of video9-phase.csv : 0.8978\n",
      "recall of video9-phase.csv : 0.8738 \n",
      "\n",
      "f1-score of video4-phase.csv : 0.9068\n",
      "accuracy of video4-phase.csv : 0.9193\n",
      "precision of video4-phase.csv : 0.9703\n",
      "recall of video4-phase.csv : 0.9459 \n",
      "\n",
      "f1-score of video12-phase.csv : 0.9171\n",
      "accuracy of video12-phase.csv : 0.9488\n",
      "precision of video12-phase.csv : 0.9905\n",
      "recall of video12-phase.csv : 0.9410 \n",
      "\n",
      "f1-score of video3-phase.csv : 0.9329\n",
      "accuracy of video3-phase.csv : 0.9543\n",
      "precision of video3-phase.csv : 0.9682\n",
      "recall of video3-phase.csv : 0.9651 \n",
      "\n",
      "f1-score of video11-phase.csv : 0.8377\n",
      "accuracy of video11-phase.csv : 0.8833\n",
      "precision of video11-phase.csv : 0.9587\n",
      "recall of video11-phase.csv : 0.8996 \n",
      "\n",
      "f1-score of video23-phase.csv : 0.8641\n",
      "accuracy of video23-phase.csv : 0.8697\n",
      "precision of video23-phase.csv : 0.9356\n",
      "recall of video23-phase.csv : 0.9231 \n",
      "\n"
     ]
    },
    {
     "name": "stderr",
     "output_type": "stream",
     "text": [
      "/home/yilin/anaconda3/envs/tmrnet/lib/python3.8/site-packages/sklearn/metrics/_classification.py:1248: UndefinedMetricWarning: Precision is ill-defined and being set to 0.0 in labels with no predicted samples. Use `zero_division` parameter to control this behavior.\n",
      "  _warn_prf(average, modifier, msg_start, len(result))\n"
     ]
    },
    {
     "name": "stdout",
     "output_type": "stream",
     "text": [
      "f1-score of video19-phase.csv : 0.4642\n",
      "accuracy of video19-phase.csv : 0.5710\n",
      "precision of video19-phase.csv : 0.7819\n",
      "recall of video19-phase.csv : 0.7357 \n",
      "\n",
      "f1-score of video24-phase.csv : 0.8382\n",
      "accuracy of video24-phase.csv : 0.8798\n",
      "precision of video24-phase.csv : 0.9538\n",
      "recall of video24-phase.csv : 0.9138 \n",
      "\n",
      "f1-score of video22-phase.csv : 0.8797\n",
      "accuracy of video22-phase.csv : 0.9006\n",
      "precision of video22-phase.csv : 0.9418\n",
      "recall of video22-phase.csv : 0.9388 \n",
      "\n",
      "f1-score of video18-phase.csv : 0.8267\n",
      "accuracy of video18-phase.csv : 0.8498\n",
      "precision of video18-phase.csv : 0.9536\n",
      "recall of video18-phase.csv : 0.8979 \n",
      "\n",
      "f1-score of video6-phase.csv : 0.7965\n",
      "accuracy of video6-phase.csv : 0.8549\n",
      "precision of video6-phase.csv : 0.9206\n",
      "recall of video6-phase.csv : 0.9039 \n",
      "\n",
      "f1-score of video15-phase.csv : 0.8395\n",
      "accuracy of video15-phase.csv : 0.8616\n",
      "precision of video15-phase.csv : 0.9632\n",
      "recall of video15-phase.csv : 0.9100 \n",
      "\n"
     ]
    },
    {
     "name": "stderr",
     "output_type": "stream",
     "text": [
      "/home/yilin/anaconda3/envs/tmrnet/lib/python3.8/site-packages/sklearn/metrics/_classification.py:1248: UndefinedMetricWarning: Precision is ill-defined and being set to 0.0 in labels with no predicted samples. Use `zero_division` parameter to control this behavior.\n",
      "  _warn_prf(average, modifier, msg_start, len(result))\n",
      "/home/yilin/anaconda3/envs/tmrnet/lib/python3.8/site-packages/sklearn/metrics/_classification.py:1248: UndefinedMetricWarning: Precision is ill-defined and being set to 0.0 in labels with no predicted samples. Use `zero_division` parameter to control this behavior.\n",
      "  _warn_prf(average, modifier, msg_start, len(result))\n",
      "/home/yilin/anaconda3/envs/tmrnet/lib/python3.8/site-packages/sklearn/metrics/_classification.py:1248: UndefinedMetricWarning: Precision is ill-defined and being set to 0.0 in labels with no predicted samples. Use `zero_division` parameter to control this behavior.\n",
      "  _warn_prf(average, modifier, msg_start, len(result))\n",
      "/home/yilin/anaconda3/envs/tmrnet/lib/python3.8/site-packages/sklearn/metrics/_classification.py:1248: UndefinedMetricWarning: Precision is ill-defined and being set to 0.0 in labels with no predicted samples. Use `zero_division` parameter to control this behavior.\n",
      "  _warn_prf(average, modifier, msg_start, len(result))\n"
     ]
    },
    {
     "name": "stdout",
     "output_type": "stream",
     "text": [
      "f1-score of video21-phase.csv : 0.6329\n",
      "accuracy of video21-phase.csv : 0.7438\n",
      "precision of video21-phase.csv : 0.8421\n",
      "recall of video21-phase.csv : 0.8360 \n",
      "\n",
      "f1-score of video2-phase.csv : 0.2309\n",
      "accuracy of video2-phase.csv : 0.3850\n",
      "precision of video2-phase.csv : 0.6849\n",
      "recall of video2-phase.csv : 0.6074 \n",
      "\n",
      "f1-score of video25-phase.csv : 0.8593\n",
      "accuracy of video25-phase.csv : 0.8627\n",
      "precision of video25-phase.csv : 0.9470\n",
      "recall of video25-phase.csv : 0.9137 \n",
      "\n"
     ]
    },
    {
     "name": "stderr",
     "output_type": "stream",
     "text": [
      "/home/yilin/anaconda3/envs/tmrnet/lib/python3.8/site-packages/sklearn/metrics/_classification.py:1248: UndefinedMetricWarning: Precision is ill-defined and being set to 0.0 in labels with no predicted samples. Use `zero_division` parameter to control this behavior.\n",
      "  _warn_prf(average, modifier, msg_start, len(result))\n"
     ]
    },
    {
     "name": "stdout",
     "output_type": "stream",
     "text": [
      "f1-score of video16-phase.csv : 0.8522\n",
      "accuracy of video16-phase.csv : 0.8680\n",
      "precision of video16-phase.csv : 0.9305\n",
      "recall of video16-phase.csv : 0.9290 \n",
      "\n",
      "f1-score of video20-phase.csv : 0.7261\n",
      "accuracy of video20-phase.csv : 0.8090\n",
      "precision of video20-phase.csv : 0.8923\n",
      "recall of video20-phase.csv : 0.8796 \n",
      "\n",
      "f1-score of video10-phase.csv : 0.7728\n",
      "accuracy of video10-phase.csv : 0.8151\n",
      "precision of video10-phase.csv : 0.9150\n",
      "recall of video10-phase.csv : 0.8942 \n",
      "\n",
      "f1-score of video14-phase.csv : 0.6799\n",
      "accuracy of video14-phase.csv : 0.8071\n",
      "precision of video14-phase.csv : 0.8465\n",
      "recall of video14-phase.csv : 0.8455 \n",
      "\n"
     ]
    },
    {
     "name": "stderr",
     "output_type": "stream",
     "text": [
      "/home/yilin/anaconda3/envs/tmrnet/lib/python3.8/site-packages/sklearn/metrics/_classification.py:1248: UndefinedMetricWarning: Precision is ill-defined and being set to 0.0 in labels with no predicted samples. Use `zero_division` parameter to control this behavior.\n",
      "  _warn_prf(average, modifier, msg_start, len(result))\n",
      "/home/yilin/anaconda3/envs/tmrnet/lib/python3.8/site-packages/sklearn/metrics/_classification.py:1248: UndefinedMetricWarning: Precision is ill-defined and being set to 0.0 in labels with no predicted samples. Use `zero_division` parameter to control this behavior.\n",
      "  _warn_prf(average, modifier, msg_start, len(result))\n",
      "/home/yilin/anaconda3/envs/tmrnet/lib/python3.8/site-packages/sklearn/metrics/_classification.py:1248: UndefinedMetricWarning: Precision is ill-defined and being set to 0.0 in labels with no predicted samples. Use `zero_division` parameter to control this behavior.\n",
      "  _warn_prf(average, modifier, msg_start, len(result))\n",
      "/home/yilin/anaconda3/envs/tmrnet/lib/python3.8/site-packages/sklearn/metrics/_classification.py:1248: UndefinedMetricWarning: Precision is ill-defined and being set to 0.0 in labels with no predicted samples. Use `zero_division` parameter to control this behavior.\n",
      "  _warn_prf(average, modifier, msg_start, len(result))\n"
     ]
    },
    {
     "name": "stdout",
     "output_type": "stream",
     "text": [
      "f1-score of video17-phase.csv : 0.8903\n",
      "accuracy of video17-phase.csv : 0.9002\n",
      "precision of video17-phase.csv : 0.9660\n",
      "recall of video17-phase.csv : 0.9358 \n",
      "\n",
      "f1-score of video8-phase.csv : 0.8658\n",
      "accuracy of video8-phase.csv : 0.9594\n",
      "precision of video8-phase.csv : 0.9377\n",
      "recall of video8-phase.csv : 0.9307 \n",
      "\n",
      "f1-score of video13-phase.csv : 0.8124\n",
      "accuracy of video13-phase.csv : 0.8453\n",
      "precision of video13-phase.csv : 0.9340\n",
      "recall of video13-phase.csv : 0.8936 \n",
      "\n",
      "f1-score of video7-phase.csv : 0.4662\n",
      "accuracy of video7-phase.csv : 0.6240\n",
      "precision of video7-phase.csv : 0.7641\n",
      "recall of video7-phase.csv : 0.7563 \n",
      "\n",
      "f1-score of video5-phase.csv : 0.9832\n",
      "accuracy of video5-phase.csv : 0.9680\n",
      "precision of video5-phase.csv : 0.9985\n",
      "recall of video5-phase.csv : 0.9840 \n",
      "\n",
      "f1-score of video1-phase.csv : 0.4211\n",
      "accuracy of video1-phase.csv : 0.5796\n",
      "precision of video1-phase.csv : 0.7127\n",
      "recall of video1-phase.csv : 0.7377 \n",
      "\n",
      "** Average f1-score: 0.7609\n",
      "** std f1-score: 0.1809\n",
      "** Average accuracy: 0.8161\n",
      "** std accuracy: 0.1381\n",
      "** Average precision: 0.9043\n",
      "** std precision: 0.0834\n",
      "** Average recall: 0.8797\n",
      "** std recall: 0.0844\n"
     ]
    },
    {
     "name": "stderr",
     "output_type": "stream",
     "text": [
      "/home/yilin/anaconda3/envs/tmrnet/lib/python3.8/site-packages/sklearn/metrics/_classification.py:1248: UndefinedMetricWarning: Precision is ill-defined and being set to 0.0 in labels with no predicted samples. Use `zero_division` parameter to control this behavior.\n",
      "  _warn_prf(average, modifier, msg_start, len(result))\n",
      "/home/yilin/anaconda3/envs/tmrnet/lib/python3.8/site-packages/sklearn/metrics/_classification.py:1248: UndefinedMetricWarning: Precision is ill-defined and being set to 0.0 in labels with no predicted samples. Use `zero_division` parameter to control this behavior.\n",
      "  _warn_prf(average, modifier, msg_start, len(result))\n",
      "/home/yilin/anaconda3/envs/tmrnet/lib/python3.8/site-packages/sklearn/metrics/_classification.py:1248: UndefinedMetricWarning: Precision is ill-defined and being set to 0.0 in labels with no predicted samples. Use `zero_division` parameter to control this behavior.\n",
      "  _warn_prf(average, modifier, msg_start, len(result))\n"
     ]
    }
   ],
   "source": [
    "f1_scores_m8,accuracy_m8,precision_m8,recall_m8 = compute_f1score(gt = './M8/gt-step-resnet',\\\n",
    "                predictions = './M8/pred-step-resnet')"
   ]
  },
  {
   "cell_type": "code",
   "execution_count": 99,
   "id": "0c0a7b21",
   "metadata": {},
   "outputs": [
    {
     "name": "stdout",
     "output_type": "stream",
     "text": [
      "** Average f1-score: 0.8069\n",
      "** std f1-score: 0.1534\n",
      "** Average accuracy: 0.8476\n",
      "** std accuracy: 0.1227\n",
      "** Average precision: 0.9286\n",
      "** std precision: 0.0659\n",
      "** Average recall: 0.8994\n",
      "** std recall: 0.0744\n"
     ]
    }
   ],
   "source": [
    "f1_acc_20(f1_scores_m8,accuracy_m8,precision_m8,recall_m8)"
   ]
  },
  {
   "cell_type": "code",
   "execution_count": null,
   "id": "f773cd14",
   "metadata": {},
   "outputs": [],
   "source": []
  },
  {
   "cell_type": "code",
   "execution_count": 100,
   "id": "3ed23030",
   "metadata": {
    "collapsed": true
   },
   "outputs": [
    {
     "name": "stdout",
     "output_type": "stream",
     "text": [
      "f1-score of video9-phase.csv : 0.8079\n",
      "accuracy of video9-phase.csv : 0.8295\n",
      "precision of video9-phase.csv : 0.9308\n",
      "recall of video9-phase.csv : 0.9102 \n",
      "\n",
      "f1-score of video4-phase.csv : 0.9002\n",
      "accuracy of video4-phase.csv : 0.8923\n",
      "precision of video4-phase.csv : 0.9657\n",
      "recall of video4-phase.csv : 0.9484 \n",
      "\n",
      "f1-score of video12-phase.csv : 0.8911\n",
      "accuracy of video12-phase.csv : 0.9335\n",
      "precision of video12-phase.csv : 0.9882\n",
      "recall of video12-phase.csv : 0.9241 \n",
      "\n",
      "f1-score of video3-phase.csv : 0.9132\n",
      "accuracy of video3-phase.csv : 0.9245\n",
      "precision of video3-phase.csv : 0.9888\n",
      "recall of video3-phase.csv : 0.9333 \n",
      "\n",
      "f1-score of video11-phase.csv : 0.8931\n",
      "accuracy of video11-phase.csv : 0.8969\n",
      "precision of video11-phase.csv : 0.9836\n",
      "recall of video11-phase.csv : 0.9184 \n",
      "\n",
      "f1-score of video23-phase.csv : 0.8497\n",
      "accuracy of video23-phase.csv : 0.8314\n",
      "precision of video23-phase.csv : 0.9469\n",
      "recall of video23-phase.csv : 0.9025 \n",
      "\n"
     ]
    },
    {
     "name": "stderr",
     "output_type": "stream",
     "text": [
      "/home/yilin/anaconda3/envs/tmrnet/lib/python3.8/site-packages/sklearn/metrics/_classification.py:1248: UndefinedMetricWarning: Precision is ill-defined and being set to 0.0 in labels with no predicted samples. Use `zero_division` parameter to control this behavior.\n",
      "  _warn_prf(average, modifier, msg_start, len(result))\n"
     ]
    },
    {
     "name": "stdout",
     "output_type": "stream",
     "text": [
      "f1-score of video19-phase.csv : 0.4473\n",
      "accuracy of video19-phase.csv : 0.4385\n",
      "precision of video19-phase.csv : 0.7925\n",
      "recall of video19-phase.csv : 0.7089 \n",
      "\n",
      "f1-score of video24-phase.csv : 0.9082\n",
      "accuracy of video24-phase.csv : 0.9283\n",
      "precision of video24-phase.csv : 0.9813\n",
      "recall of video24-phase.csv : 0.9325 \n",
      "\n",
      "f1-score of video22-phase.csv : 0.8464\n",
      "accuracy of video22-phase.csv : 0.8438\n",
      "precision of video22-phase.csv : 0.9822\n",
      "recall of video22-phase.csv : 0.8945 \n",
      "\n",
      "f1-score of video18-phase.csv : 0.8562\n",
      "accuracy of video18-phase.csv : 0.8512\n",
      "precision of video18-phase.csv : 0.9509\n",
      "recall of video18-phase.csv : 0.9225 \n",
      "\n",
      "f1-score of video6-phase.csv : 0.8322\n",
      "accuracy of video6-phase.csv : 0.9292\n",
      "precision of video6-phase.csv : 0.9271\n",
      "recall of video6-phase.csv : 0.9057 \n",
      "\n",
      "f1-score of video15-phase.csv : 0.8223\n",
      "accuracy of video15-phase.csv : 0.8285\n",
      "precision of video15-phase.csv : 0.9614\n",
      "recall of video15-phase.csv : 0.8961 \n",
      "\n",
      "f1-score of video21-phase.csv : 0.6752\n",
      "accuracy of video21-phase.csv : 0.8063\n",
      "precision of video21-phase.csv : 0.8536\n",
      "recall of video21-phase.csv : 0.8394 \n",
      "\n"
     ]
    },
    {
     "name": "stderr",
     "output_type": "stream",
     "text": [
      "/home/yilin/anaconda3/envs/tmrnet/lib/python3.8/site-packages/sklearn/metrics/_classification.py:1248: UndefinedMetricWarning: Precision is ill-defined and being set to 0.0 in labels with no predicted samples. Use `zero_division` parameter to control this behavior.\n",
      "  _warn_prf(average, modifier, msg_start, len(result))\n",
      "/home/yilin/anaconda3/envs/tmrnet/lib/python3.8/site-packages/sklearn/metrics/_classification.py:1248: UndefinedMetricWarning: Precision is ill-defined and being set to 0.0 in labels with no predicted samples. Use `zero_division` parameter to control this behavior.\n",
      "  _warn_prf(average, modifier, msg_start, len(result))\n",
      "/home/yilin/anaconda3/envs/tmrnet/lib/python3.8/site-packages/sklearn/metrics/_classification.py:1248: UndefinedMetricWarning: Precision is ill-defined and being set to 0.0 in labels with no predicted samples. Use `zero_division` parameter to control this behavior.\n",
      "  _warn_prf(average, modifier, msg_start, len(result))\n",
      "/home/yilin/anaconda3/envs/tmrnet/lib/python3.8/site-packages/sklearn/metrics/_classification.py:1248: UndefinedMetricWarning: Precision is ill-defined and being set to 0.0 in labels with no predicted samples. Use `zero_division` parameter to control this behavior.\n",
      "  _warn_prf(average, modifier, msg_start, len(result))\n",
      "/home/yilin/anaconda3/envs/tmrnet/lib/python3.8/site-packages/sklearn/metrics/_classification.py:1248: UndefinedMetricWarning: Precision is ill-defined and being set to 0.0 in labels with no predicted samples. Use `zero_division` parameter to control this behavior.\n",
      "  _warn_prf(average, modifier, msg_start, len(result))\n",
      "/home/yilin/anaconda3/envs/tmrnet/lib/python3.8/site-packages/sklearn/metrics/_classification.py:1248: UndefinedMetricWarning: Precision is ill-defined and being set to 0.0 in labels with no predicted samples. Use `zero_division` parameter to control this behavior.\n",
      "  _warn_prf(average, modifier, msg_start, len(result))\n"
     ]
    },
    {
     "name": "stdout",
     "output_type": "stream",
     "text": [
      "f1-score of video2-phase.csv : 0.2286\n",
      "accuracy of video2-phase.csv : 0.4443\n",
      "precision of video2-phase.csv : 0.6981\n",
      "recall of video2-phase.csv : 0.6047 \n",
      "\n",
      "f1-score of video25-phase.csv : 0.9344\n",
      "accuracy of video25-phase.csv : 0.9373\n",
      "precision of video25-phase.csv : 0.9834\n",
      "recall of video25-phase.csv : 0.9567 \n",
      "\n",
      "f1-score of video16-phase.csv : 0.8159\n",
      "accuracy of video16-phase.csv : 0.8123\n",
      "precision of video16-phase.csv : 0.9326\n",
      "recall of video16-phase.csv : 0.9045 \n",
      "\n",
      "f1-score of video20-phase.csv : 0.7577\n",
      "accuracy of video20-phase.csv : 0.8034\n",
      "precision of video20-phase.csv : 0.8896\n",
      "recall of video20-phase.csv : 0.8735 \n",
      "\n",
      "f1-score of video10-phase.csv : 0.8248\n",
      "accuracy of video10-phase.csv : 0.8134\n",
      "precision of video10-phase.csv : 0.9337\n",
      "recall of video10-phase.csv : 0.9159 \n",
      "\n",
      "f1-score of video14-phase.csv : 0.7712\n",
      "accuracy of video14-phase.csv : 0.8959\n",
      "precision of video14-phase.csv : 0.9079\n",
      "recall of video14-phase.csv : 0.8807 \n",
      "\n",
      "f1-score of video17-phase.csv : 0.8735\n",
      "accuracy of video17-phase.csv : 0.8865\n",
      "precision of video17-phase.csv : 0.9709\n",
      "recall of video17-phase.csv : 0.9226 \n",
      "\n",
      "f1-score of video8-phase.csv : 0.8683\n",
      "accuracy of video8-phase.csv : 0.9413\n",
      "precision of video8-phase.csv : 0.9482\n",
      "recall of video8-phase.csv : 0.9236 \n",
      "\n"
     ]
    },
    {
     "name": "stderr",
     "output_type": "stream",
     "text": [
      "/home/yilin/anaconda3/envs/tmrnet/lib/python3.8/site-packages/sklearn/metrics/_classification.py:1248: UndefinedMetricWarning: Precision is ill-defined and being set to 0.0 in labels with no predicted samples. Use `zero_division` parameter to control this behavior.\n",
      "  _warn_prf(average, modifier, msg_start, len(result))\n",
      "/home/yilin/anaconda3/envs/tmrnet/lib/python3.8/site-packages/sklearn/metrics/_classification.py:1248: UndefinedMetricWarning: Precision is ill-defined and being set to 0.0 in labels with no predicted samples. Use `zero_division` parameter to control this behavior.\n",
      "  _warn_prf(average, modifier, msg_start, len(result))\n",
      "/home/yilin/anaconda3/envs/tmrnet/lib/python3.8/site-packages/sklearn/metrics/_classification.py:1248: UndefinedMetricWarning: Precision is ill-defined and being set to 0.0 in labels with no predicted samples. Use `zero_division` parameter to control this behavior.\n",
      "  _warn_prf(average, modifier, msg_start, len(result))\n"
     ]
    },
    {
     "name": "stdout",
     "output_type": "stream",
     "text": [
      "f1-score of video13-phase.csv : 0.8573\n",
      "accuracy of video13-phase.csv : 0.8903\n",
      "precision of video13-phase.csv : 0.9421\n",
      "recall of video13-phase.csv : 0.9158 \n",
      "\n",
      "f1-score of video7-phase.csv : 0.5516\n",
      "accuracy of video7-phase.csv : 0.6490\n",
      "precision of video7-phase.csv : 0.7970\n",
      "recall of video7-phase.csv : 0.7731 \n",
      "\n",
      "f1-score of video5-phase.csv : 0.9329\n",
      "accuracy of video5-phase.csv : 0.9296\n",
      "precision of video5-phase.csv : 0.9821\n",
      "recall of video5-phase.csv : 0.9518 \n",
      "\n",
      "f1-score of video1-phase.csv : 0.4560\n",
      "accuracy of video1-phase.csv : 0.5637\n",
      "precision of video1-phase.csv : 0.7812\n",
      "recall of video1-phase.csv : 0.7277 \n",
      "\n",
      "** Average f1-score: 0.7806\n",
      "** std f1-score: 0.1733\n",
      "** Average accuracy: 0.8200\n",
      "** std accuracy: 0.1412\n",
      "** Average precision: 0.9208\n",
      "** std precision: 0.0759\n",
      "** Average recall: 0.8795\n",
      "** std recall: 0.0842\n"
     ]
    },
    {
     "name": "stderr",
     "output_type": "stream",
     "text": [
      "/home/yilin/anaconda3/envs/tmrnet/lib/python3.8/site-packages/sklearn/metrics/_classification.py:1248: UndefinedMetricWarning: Precision is ill-defined and being set to 0.0 in labels with no predicted samples. Use `zero_division` parameter to control this behavior.\n",
      "  _warn_prf(average, modifier, msg_start, len(result))\n",
      "/home/yilin/anaconda3/envs/tmrnet/lib/python3.8/site-packages/sklearn/metrics/_classification.py:1248: UndefinedMetricWarning: Precision is ill-defined and being set to 0.0 in labels with no predicted samples. Use `zero_division` parameter to control this behavior.\n",
      "  _warn_prf(average, modifier, msg_start, len(result))\n",
      "/home/yilin/anaconda3/envs/tmrnet/lib/python3.8/site-packages/sklearn/metrics/_classification.py:1248: UndefinedMetricWarning: Precision is ill-defined and being set to 0.0 in labels with no predicted samples. Use `zero_division` parameter to control this behavior.\n",
      "  _warn_prf(average, modifier, msg_start, len(result))\n",
      "/home/yilin/anaconda3/envs/tmrnet/lib/python3.8/site-packages/sklearn/metrics/_classification.py:1248: UndefinedMetricWarning: Precision is ill-defined and being set to 0.0 in labels with no predicted samples. Use `zero_division` parameter to control this behavior.\n",
      "  _warn_prf(average, modifier, msg_start, len(result))\n"
     ]
    }
   ],
   "source": [
    "f1_scores_m9,accuracy_m9,precision_m9,recall_m9 = compute_f1score(gt = './M9/gt-step-resnet',\\\n",
    "                predictions = './M9/pred-step-resnet')"
   ]
  },
  {
   "cell_type": "code",
   "execution_count": 101,
   "id": "fcfd8b1c",
   "metadata": {},
   "outputs": [
    {
     "name": "stdout",
     "output_type": "stream",
     "text": [
      "** Average f1-score: 0.8236\n",
      "** std f1-score: 0.1489\n",
      "** Average accuracy: 0.8571\n",
      "** std accuracy: 0.1059\n",
      "** Average precision: 0.9404\n",
      "** std precision: 0.0651\n",
      "** Average recall: 0.8996\n",
      "** std recall: 0.0725\n"
     ]
    }
   ],
   "source": [
    "f1_acc_20(f1_scores_m9,accuracy_m9,precision_m9,recall_m9)"
   ]
  },
  {
   "cell_type": "code",
   "execution_count": null,
   "id": "09340f29",
   "metadata": {},
   "outputs": [],
   "source": []
  },
  {
   "cell_type": "code",
   "execution_count": 36,
   "id": "4ff04746",
   "metadata": {},
   "outputs": [
    {
     "name": "stdout",
     "output_type": "stream",
     "text": [
      "f1-score of video9-phase.csv : 0.8133\n",
      "accuracy of video9-phase.csv : 0.8031\n",
      "precision of video9-phase.csv : 0.9125\n",
      "recall of video9-phase.csv : 0.9045 \n",
      "\n",
      "f1-score of video4-phase.csv : 0.8766\n",
      "accuracy of video4-phase.csv : 0.8778\n",
      "precision of video4-phase.csv : 0.9670\n",
      "recall of video4-phase.csv : 0.9244 \n",
      "\n",
      "f1-score of video12-phase.csv : 0.9112\n",
      "accuracy of video12-phase.csv : 0.9514\n",
      "precision of video12-phase.csv : 0.9887\n",
      "recall of video12-phase.csv : 0.9376 \n",
      "\n",
      "f1-score of video3-phase.csv : 0.9438\n",
      "accuracy of video3-phase.csv : 0.9463\n",
      "precision of video3-phase.csv : 0.9850\n",
      "recall of video3-phase.csv : 0.9583 \n",
      "\n"
     ]
    },
    {
     "name": "stderr",
     "output_type": "stream",
     "text": [
      "/home/yilin/anaconda3/envs/tmrnet/lib/python3.8/site-packages/sklearn/metrics/_classification.py:1248: UndefinedMetricWarning: Precision is ill-defined and being set to 0.0 in labels with no predicted samples. Use `zero_division` parameter to control this behavior.\n",
      "  _warn_prf(average, modifier, msg_start, len(result))\n"
     ]
    },
    {
     "name": "stdout",
     "output_type": "stream",
     "text": [
      "f1-score of video11-phase.csv : 0.7537\n",
      "accuracy of video11-phase.csv : 0.8716\n",
      "precision of video11-phase.csv : 0.9189\n",
      "recall of video11-phase.csv : 0.8556 \n",
      "\n",
      "f1-score of video23-phase.csv : 0.8605\n",
      "accuracy of video23-phase.csv : 0.8716\n",
      "precision of video23-phase.csv : 0.9456\n",
      "recall of video23-phase.csv : 0.9133 \n",
      "\n",
      "f1-score of video19-phase.csv : 0.5543\n",
      "accuracy of video19-phase.csv : 0.5902\n",
      "precision of video19-phase.csv : 0.8128\n",
      "recall of video19-phase.csv : 0.8060 \n",
      "\n",
      "f1-score of video24-phase.csv : 0.9037\n",
      "accuracy of video24-phase.csv : 0.9283\n",
      "precision of video24-phase.csv : 0.9732\n",
      "recall of video24-phase.csv : 0.9377 \n",
      "\n",
      "f1-score of video22-phase.csv : 0.8803\n",
      "accuracy of video22-phase.csv : 0.8905\n",
      "precision of video22-phase.csv : 0.9826\n",
      "recall of video22-phase.csv : 0.9171 \n",
      "\n",
      "f1-score of video18-phase.csv : 0.8203\n",
      "accuracy of video18-phase.csv : 0.8383\n",
      "precision of video18-phase.csv : 0.9316\n",
      "recall of video18-phase.csv : 0.9005 \n",
      "\n",
      "f1-score of video6-phase.csv : 0.7686\n",
      "accuracy of video6-phase.csv : 0.8584\n",
      "precision of video6-phase.csv : 0.9335\n",
      "recall of video6-phase.csv : 0.8614 \n",
      "\n",
      "f1-score of video15-phase.csv : 0.8502\n",
      "accuracy of video15-phase.csv : 0.8554\n",
      "precision of video15-phase.csv : 0.9733\n",
      "recall of video15-phase.csv : 0.9106 \n",
      "\n",
      "f1-score of video21-phase.csv : 0.7047\n",
      "accuracy of video21-phase.csv : 0.7958\n",
      "precision of video21-phase.csv : 0.8689\n",
      "recall of video21-phase.csv : 0.8388 \n",
      "\n"
     ]
    },
    {
     "name": "stderr",
     "output_type": "stream",
     "text": [
      "/home/yilin/anaconda3/envs/tmrnet/lib/python3.8/site-packages/sklearn/metrics/_classification.py:1248: UndefinedMetricWarning: Precision is ill-defined and being set to 0.0 in labels with no predicted samples. Use `zero_division` parameter to control this behavior.\n",
      "  _warn_prf(average, modifier, msg_start, len(result))\n",
      "/home/yilin/anaconda3/envs/tmrnet/lib/python3.8/site-packages/sklearn/metrics/_classification.py:1248: UndefinedMetricWarning: Precision is ill-defined and being set to 0.0 in labels with no predicted samples. Use `zero_division` parameter to control this behavior.\n",
      "  _warn_prf(average, modifier, msg_start, len(result))\n",
      "/home/yilin/anaconda3/envs/tmrnet/lib/python3.8/site-packages/sklearn/metrics/_classification.py:1248: UndefinedMetricWarning: Precision is ill-defined and being set to 0.0 in labels with no predicted samples. Use `zero_division` parameter to control this behavior.\n",
      "  _warn_prf(average, modifier, msg_start, len(result))\n",
      "/home/yilin/anaconda3/envs/tmrnet/lib/python3.8/site-packages/sklearn/metrics/_classification.py:1248: UndefinedMetricWarning: Precision is ill-defined and being set to 0.0 in labels with no predicted samples. Use `zero_division` parameter to control this behavior.\n",
      "  _warn_prf(average, modifier, msg_start, len(result))\n"
     ]
    },
    {
     "name": "stdout",
     "output_type": "stream",
     "text": [
      "f1-score of video2-phase.csv : 0.3366\n",
      "accuracy of video2-phase.csv : 0.5100\n",
      "precision of video2-phase.csv : 0.6960\n",
      "recall of video2-phase.csv : 0.6405 \n",
      "\n",
      "f1-score of video25-phase.csv : 0.9021\n",
      "accuracy of video25-phase.csv : 0.8729\n",
      "precision of video25-phase.csv : 0.9583\n",
      "recall of video25-phase.csv : 0.9439 \n",
      "\n",
      "f1-score of video16-phase.csv : 0.7966\n",
      "accuracy of video16-phase.csv : 0.7727\n",
      "precision of video16-phase.csv : 0.9408\n",
      "recall of video16-phase.csv : 0.8895 \n",
      "\n",
      "f1-score of video20-phase.csv : 0.8340\n",
      "accuracy of video20-phase.csv : 0.8464\n",
      "precision of video20-phase.csv : 0.9408\n",
      "recall of video20-phase.csv : 0.9064 \n",
      "\n",
      "f1-score of video10-phase.csv : 0.8969\n",
      "accuracy of video10-phase.csv : 0.8803\n",
      "precision of video10-phase.csv : 0.9584\n",
      "recall of video10-phase.csv : 0.9477 \n",
      "\n",
      "f1-score of video14-phase.csv : 0.7038\n",
      "accuracy of video14-phase.csv : 0.8756\n",
      "precision of video14-phase.csv : 0.8787\n",
      "recall of video14-phase.csv : 0.8376 \n",
      "\n",
      "f1-score of video17-phase.csv : 0.8001\n",
      "accuracy of video17-phase.csv : 0.8297\n",
      "precision of video17-phase.csv : 0.9464\n",
      "recall of video17-phase.csv : 0.8781 \n",
      "\n",
      "f1-score of video8-phase.csv : 0.8581\n",
      "accuracy of video8-phase.csv : 0.9436\n",
      "precision of video8-phase.csv : 0.9434\n",
      "recall of video8-phase.csv : 0.9138 \n",
      "\n",
      "f1-score of video13-phase.csv : 0.7764\n",
      "accuracy of video13-phase.csv : 0.8165\n",
      "precision of video13-phase.csv : 0.8974\n",
      "recall of video13-phase.csv : 0.8936 \n",
      "\n"
     ]
    },
    {
     "name": "stderr",
     "output_type": "stream",
     "text": [
      "/home/yilin/anaconda3/envs/tmrnet/lib/python3.8/site-packages/sklearn/metrics/_classification.py:1248: UndefinedMetricWarning: Precision is ill-defined and being set to 0.0 in labels with no predicted samples. Use `zero_division` parameter to control this behavior.\n",
      "  _warn_prf(average, modifier, msg_start, len(result))\n",
      "/home/yilin/anaconda3/envs/tmrnet/lib/python3.8/site-packages/sklearn/metrics/_classification.py:1248: UndefinedMetricWarning: Precision is ill-defined and being set to 0.0 in labels with no predicted samples. Use `zero_division` parameter to control this behavior.\n",
      "  _warn_prf(average, modifier, msg_start, len(result))\n",
      "/home/yilin/anaconda3/envs/tmrnet/lib/python3.8/site-packages/sklearn/metrics/_classification.py:1248: UndefinedMetricWarning: Precision is ill-defined and being set to 0.0 in labels with no predicted samples. Use `zero_division` parameter to control this behavior.\n",
      "  _warn_prf(average, modifier, msg_start, len(result))\n",
      "/home/yilin/anaconda3/envs/tmrnet/lib/python3.8/site-packages/sklearn/metrics/_classification.py:1248: UndefinedMetricWarning: Precision is ill-defined and being set to 0.0 in labels with no predicted samples. Use `zero_division` parameter to control this behavior.\n",
      "  _warn_prf(average, modifier, msg_start, len(result))\n"
     ]
    },
    {
     "name": "stdout",
     "output_type": "stream",
     "text": [
      "f1-score of video7-phase.csv : 0.5189\n",
      "accuracy of video7-phase.csv : 0.5606\n",
      "precision of video7-phase.csv : 0.8098\n",
      "recall of video7-phase.csv : 0.7692 \n",
      "\n",
      "f1-score of video5-phase.csv : 0.9463\n",
      "accuracy of video5-phase.csv : 0.9467\n",
      "precision of video5-phase.csv : 0.9879\n",
      "recall of video5-phase.csv : 0.9594 \n",
      "\n",
      "f1-score of video1-phase.csv : 0.5844\n",
      "accuracy of video1-phase.csv : 0.7480\n",
      "precision of video1-phase.csv : 0.7830\n",
      "recall of video1-phase.csv : 0.8131 \n",
      "\n",
      "** Average f1-score: 0.7838\n",
      "** std f1-score: 0.1449\n",
      "** Average accuracy: 0.8273\n",
      "** std accuracy: 0.1143\n",
      "** Average precision: 0.9174\n",
      "** std precision: 0.0717\n",
      "** Average recall: 0.8823\n",
      "** std recall: 0.0693\n"
     ]
    },
    {
     "name": "stderr",
     "output_type": "stream",
     "text": [
      "/home/yilin/anaconda3/envs/tmrnet/lib/python3.8/site-packages/sklearn/metrics/_classification.py:1248: UndefinedMetricWarning: Precision is ill-defined and being set to 0.0 in labels with no predicted samples. Use `zero_division` parameter to control this behavior.\n",
      "  _warn_prf(average, modifier, msg_start, len(result))\n",
      "/home/yilin/anaconda3/envs/tmrnet/lib/python3.8/site-packages/sklearn/metrics/_classification.py:1248: UndefinedMetricWarning: Precision is ill-defined and being set to 0.0 in labels with no predicted samples. Use `zero_division` parameter to control this behavior.\n",
      "  _warn_prf(average, modifier, msg_start, len(result))\n"
     ]
    }
   ],
   "source": [
    "f1_scores_m1_20,accuracy_m1_20 = compute_f1score(gt = './M1_20/gt-step-resnet',\\\n",
    "                predictions = './M1_20/pred-step-resnet')"
   ]
  },
  {
   "cell_type": "code",
   "execution_count": 38,
   "id": "d2219317",
   "metadata": {},
   "outputs": [
    {
     "name": "stdout",
     "output_type": "stream",
     "text": [
      "** Average f1-score: 0.8219\n",
      "** std f1-score: 0.1278\n",
      "** Average accuracy: 0.8567\n",
      "** std accuracy: 0.0923\n"
     ]
    }
   ],
   "source": [
    "f1_acc_20(f1_scores_m1_20,accuracy_m1_20)"
   ]
  },
  {
   "cell_type": "code",
   "execution_count": 37,
   "id": "9bf9285b",
   "metadata": {},
   "outputs": [
    {
     "name": "stdout",
     "output_type": "stream",
     "text": [
      "f1-score of video9-phase.csv : 0.7979\n",
      "accuracy of video9-phase.csv : 0.8295\n",
      "precision of video9-phase.csv : 0.9242\n",
      "recall of video9-phase.csv : 0.8980 \n",
      "\n",
      "f1-score of video4-phase.csv : 0.8985\n",
      "accuracy of video4-phase.csv : 0.9130\n",
      "precision of video4-phase.csv : 0.9866\n",
      "recall of video4-phase.csv : 0.9251 \n",
      "\n",
      "f1-score of video12-phase.csv : 0.8850\n",
      "accuracy of video12-phase.csv : 0.9309\n",
      "precision of video12-phase.csv : 0.9891\n",
      "recall of video12-phase.csv : 0.9192 \n",
      "\n",
      "f1-score of video3-phase.csv : 0.8567\n",
      "accuracy of video3-phase.csv : 0.8867\n",
      "precision of video3-phase.csv : 0.9620\n",
      "recall of video3-phase.csv : 0.9059 \n",
      "\n",
      "f1-score of video11-phase.csv : 0.8564\n",
      "accuracy of video11-phase.csv : 0.9027\n",
      "precision of video11-phase.csv : 0.9895\n",
      "recall of video11-phase.csv : 0.8921 \n",
      "\n",
      "f1-score of video23-phase.csv : 0.8441\n",
      "accuracy of video23-phase.csv : 0.8602\n",
      "precision of video23-phase.csv : 0.9438\n",
      "recall of video23-phase.csv : 0.9019 \n",
      "\n",
      "f1-score of video19-phase.csv : 0.3298\n",
      "accuracy of video19-phase.csv : 0.4508\n",
      "precision of video19-phase.csv : 0.6729\n",
      "recall of video19-phase.csv : 0.6937 \n",
      "\n",
      "f1-score of video24-phase.csv : 0.8901\n",
      "accuracy of video24-phase.csv : 0.9205\n",
      "precision of video24-phase.csv : 0.9894\n",
      "recall of video24-phase.csv : 0.9215 \n",
      "\n"
     ]
    },
    {
     "name": "stderr",
     "output_type": "stream",
     "text": [
      "/home/yilin/anaconda3/envs/tmrnet/lib/python3.8/site-packages/sklearn/metrics/_classification.py:1248: UndefinedMetricWarning: Precision is ill-defined and being set to 0.0 in labels with no predicted samples. Use `zero_division` parameter to control this behavior.\n",
      "  _warn_prf(average, modifier, msg_start, len(result))\n",
      "/home/yilin/anaconda3/envs/tmrnet/lib/python3.8/site-packages/sklearn/metrics/_classification.py:1248: UndefinedMetricWarning: Precision is ill-defined and being set to 0.0 in labels with no predicted samples. Use `zero_division` parameter to control this behavior.\n",
      "  _warn_prf(average, modifier, msg_start, len(result))\n"
     ]
    },
    {
     "name": "stdout",
     "output_type": "stream",
     "text": [
      "f1-score of video22-phase.csv : 0.7598\n",
      "accuracy of video22-phase.csv : 0.8053\n",
      "precision of video22-phase.csv : 0.9372\n",
      "recall of video22-phase.csv : 0.8767 \n",
      "\n",
      "f1-score of video18-phase.csv : 0.7637\n",
      "accuracy of video18-phase.csv : 0.7525\n",
      "precision of video18-phase.csv : 0.9068\n",
      "recall of video18-phase.csv : 0.8670 \n",
      "\n",
      "f1-score of video6-phase.csv : 0.8108\n",
      "accuracy of video6-phase.csv : 0.9009\n",
      "precision of video6-phase.csv : 0.9359\n",
      "recall of video6-phase.csv : 0.8821 \n",
      "\n",
      "f1-score of video15-phase.csv : 0.8480\n",
      "accuracy of video15-phase.csv : 0.8368\n",
      "precision of video15-phase.csv : 0.9478\n",
      "recall of video15-phase.csv : 0.9177 \n",
      "\n"
     ]
    },
    {
     "name": "stderr",
     "output_type": "stream",
     "text": [
      "/home/yilin/anaconda3/envs/tmrnet/lib/python3.8/site-packages/sklearn/metrics/_classification.py:1248: UndefinedMetricWarning: Precision is ill-defined and being set to 0.0 in labels with no predicted samples. Use `zero_division` parameter to control this behavior.\n",
      "  _warn_prf(average, modifier, msg_start, len(result))\n",
      "/home/yilin/anaconda3/envs/tmrnet/lib/python3.8/site-packages/sklearn/metrics/_classification.py:1248: UndefinedMetricWarning: Precision is ill-defined and being set to 0.0 in labels with no predicted samples. Use `zero_division` parameter to control this behavior.\n",
      "  _warn_prf(average, modifier, msg_start, len(result))\n",
      "/home/yilin/anaconda3/envs/tmrnet/lib/python3.8/site-packages/sklearn/metrics/_classification.py:1248: UndefinedMetricWarning: Precision is ill-defined and being set to 0.0 in labels with no predicted samples. Use `zero_division` parameter to control this behavior.\n",
      "  _warn_prf(average, modifier, msg_start, len(result))\n",
      "/home/yilin/anaconda3/envs/tmrnet/lib/python3.8/site-packages/sklearn/metrics/_classification.py:1248: UndefinedMetricWarning: Precision is ill-defined and being set to 0.0 in labels with no predicted samples. Use `zero_division` parameter to control this behavior.\n",
      "  _warn_prf(average, modifier, msg_start, len(result))\n"
     ]
    },
    {
     "name": "stdout",
     "output_type": "stream",
     "text": [
      "f1-score of video21-phase.csv : 0.4696\n",
      "accuracy of video21-phase.csv : 0.6708\n",
      "precision of video21-phase.csv : 0.8145\n",
      "recall of video21-phase.csv : 0.7491 \n",
      "\n",
      "f1-score of video2-phase.csv : 0.2383\n",
      "accuracy of video2-phase.csv : 0.4588\n",
      "precision of video2-phase.csv : 0.7029\n",
      "recall of video2-phase.csv : 0.6118 \n",
      "\n",
      "f1-score of video25-phase.csv : 0.8211\n",
      "accuracy of video25-phase.csv : 0.8441\n",
      "precision of video25-phase.csv : 0.9618\n",
      "recall of video25-phase.csv : 0.8841 \n",
      "\n",
      "f1-score of video16-phase.csv : 0.7688\n",
      "accuracy of video16-phase.csv : 0.7639\n",
      "precision of video16-phase.csv : 0.9167\n",
      "recall of video16-phase.csv : 0.8803 \n",
      "\n",
      "f1-score of video20-phase.csv : 0.6703\n",
      "accuracy of video20-phase.csv : 0.8015\n",
      "precision of video20-phase.csv : 0.8653\n",
      "recall of video20-phase.csv : 0.8425 \n",
      "\n",
      "f1-score of video10-phase.csv : 0.8346\n",
      "accuracy of video10-phase.csv : 0.8081\n",
      "precision of video10-phase.csv : 0.9448\n",
      "recall of video10-phase.csv : 0.9138 \n",
      "\n",
      "f1-score of video14-phase.csv : 0.7371\n",
      "accuracy of video14-phase.csv : 0.8858\n",
      "precision of video14-phase.csv : 0.9279\n",
      "recall of video14-phase.csv : 0.8419 \n",
      "\n",
      "f1-score of video17-phase.csv : 0.6995\n",
      "accuracy of video17-phase.csv : 0.7808\n",
      "precision of video17-phase.csv : 0.9052\n",
      "recall of video17-phase.csv : 0.8404 \n",
      "\n"
     ]
    },
    {
     "name": "stderr",
     "output_type": "stream",
     "text": [
      "/home/yilin/anaconda3/envs/tmrnet/lib/python3.8/site-packages/sklearn/metrics/_classification.py:1248: UndefinedMetricWarning: Precision is ill-defined and being set to 0.0 in labels with no predicted samples. Use `zero_division` parameter to control this behavior.\n",
      "  _warn_prf(average, modifier, msg_start, len(result))\n",
      "/home/yilin/anaconda3/envs/tmrnet/lib/python3.8/site-packages/sklearn/metrics/_classification.py:1248: UndefinedMetricWarning: Precision is ill-defined and being set to 0.0 in labels with no predicted samples. Use `zero_division` parameter to control this behavior.\n",
      "  _warn_prf(average, modifier, msg_start, len(result))\n",
      "/home/yilin/anaconda3/envs/tmrnet/lib/python3.8/site-packages/sklearn/metrics/_classification.py:1248: UndefinedMetricWarning: Precision is ill-defined and being set to 0.0 in labels with no predicted samples. Use `zero_division` parameter to control this behavior.\n",
      "  _warn_prf(average, modifier, msg_start, len(result))\n",
      "/home/yilin/anaconda3/envs/tmrnet/lib/python3.8/site-packages/sklearn/metrics/_classification.py:1248: UndefinedMetricWarning: Precision is ill-defined and being set to 0.0 in labels with no predicted samples. Use `zero_division` parameter to control this behavior.\n",
      "  _warn_prf(average, modifier, msg_start, len(result))\n",
      "/home/yilin/anaconda3/envs/tmrnet/lib/python3.8/site-packages/sklearn/metrics/_classification.py:1248: UndefinedMetricWarning: Precision is ill-defined and being set to 0.0 in labels with no predicted samples. Use `zero_division` parameter to control this behavior.\n",
      "  _warn_prf(average, modifier, msg_start, len(result))\n",
      "/home/yilin/anaconda3/envs/tmrnet/lib/python3.8/site-packages/sklearn/metrics/_classification.py:1248: UndefinedMetricWarning: Precision is ill-defined and being set to 0.0 in labels with no predicted samples. Use `zero_division` parameter to control this behavior.\n",
      "  _warn_prf(average, modifier, msg_start, len(result))\n",
      "/home/yilin/anaconda3/envs/tmrnet/lib/python3.8/site-packages/sklearn/metrics/_classification.py:1248: UndefinedMetricWarning: Precision is ill-defined and being set to 0.0 in labels with no predicted samples. Use `zero_division` parameter to control this behavior.\n",
      "  _warn_prf(average, modifier, msg_start, len(result))\n"
     ]
    },
    {
     "name": "stdout",
     "output_type": "stream",
     "text": [
      "f1-score of video8-phase.csv : 0.7989\n",
      "accuracy of video8-phase.csv : 0.9029\n",
      "precision of video8-phase.csv : 0.9420\n",
      "recall of video8-phase.csv : 0.8714 \n",
      "\n",
      "f1-score of video13-phase.csv : 0.7346\n",
      "accuracy of video13-phase.csv : 0.8147\n",
      "precision of video13-phase.csv : 0.8802\n",
      "recall of video13-phase.csv : 0.8681 \n",
      "\n",
      "f1-score of video7-phase.csv : 0.4601\n",
      "accuracy of video7-phase.csv : 0.6019\n",
      "precision of video7-phase.csv : 0.7890\n",
      "recall of video7-phase.csv : 0.7650 \n",
      "\n",
      "f1-score of video5-phase.csv : 0.8718\n",
      "accuracy of video5-phase.csv : 0.9019\n",
      "precision of video5-phase.csv : 0.9653\n",
      "recall of video5-phase.csv : 0.9141 \n",
      "\n",
      "f1-score of video1-phase.csv : 0.3585\n",
      "accuracy of video1-phase.csv : 0.5066\n",
      "precision of video1-phase.csv : 0.7777\n",
      "recall of video1-phase.csv : 0.6704 \n",
      "\n",
      "** Average f1-score: 0.7202\n",
      "** std f1-score: 0.1875\n",
      "** Average accuracy: 0.7893\n",
      "** std accuracy: 0.1401\n",
      "** Average precision: 0.9031\n",
      "** std precision: 0.0853\n",
      "** Average recall: 0.8502\n",
      "** std recall: 0.0835\n"
     ]
    }
   ],
   "source": [
    "f1_scores_m1_30,accuracy_m1_30 = compute_f1score(gt = './M1_30/gt-step-resnet',\\\n",
    "                predictions = './M1_30/pred-step-resnet')"
   ]
  },
  {
   "cell_type": "code",
   "execution_count": 39,
   "id": "7d48e006",
   "metadata": {},
   "outputs": [
    {
     "name": "stdout",
     "output_type": "stream",
     "text": [
      "** Average f1-score: 0.7675\n",
      "** std f1-score: 0.1550\n",
      "** Average accuracy: 0.8261\n",
      "** std accuracy: 0.1058\n"
     ]
    }
   ],
   "source": [
    "f1_acc_20(f1_scores_m1_30,accuracy_m1_30)"
   ]
  },
  {
   "cell_type": "code",
   "execution_count": null,
   "id": "5e762d52",
   "metadata": {},
   "outputs": [],
   "source": []
  },
  {
   "cell_type": "code",
   "execution_count": null,
   "id": "abf5e8be",
   "metadata": {},
   "outputs": [],
   "source": []
  },
  {
   "cell_type": "code",
   "execution_count": null,
   "id": "66444bcf",
   "metadata": {},
   "outputs": [],
   "source": []
  },
  {
   "cell_type": "code",
   "execution_count": null,
   "id": "06f31d07",
   "metadata": {},
   "outputs": [],
   "source": []
  },
  {
   "cell_type": "markdown",
   "id": "3f34a73c",
   "metadata": {},
   "source": [
    "# Plot colour_coded_ribbon"
   ]
  },
  {
   "cell_type": "code",
   "execution_count": 1,
   "id": "5c0c473b",
   "metadata": {},
   "outputs": [],
   "source": [
    "import matplotlib.pyplot as plt\n",
    "import matplotlib.patches as mpatches\n",
    "import numpy as np\n",
    "from pandas import read_csv"
   ]
  },
  {
   "cell_type": "code",
   "execution_count": 2,
   "id": "917c8d06",
   "metadata": {},
   "outputs": [],
   "source": [
    "def colour_coded_ribbon_cataract(sequences_for_vis, cmap_plan = 'magma'):\n",
    "    fig, ax = plt.subplots(len(sequences_for_vis),1,figsize=(15,1 * len(sequences_for_vis)))\n",
    "    for i in range(len(sequences_for_vis)):\n",
    "        ax[i].matshow(np.array([list(sequences_for_vis[i][1])]), aspect='auto',cmap=cmap_plan)\n",
    "        ax[i].axis('off')\n",
    "        \n",
    "        if i ==0:\n",
    "            ax[i].text(-3, 0, 'GT', horizontalalignment='right',verticalalignment='center',fontsize=15)\n",
    "        else:\n",
    "            label = 'M'+str(i)\n",
    "            ax[i].text(-3, 0,label , horizontalalignment='right',verticalalignment='center',fontsize=15)\n",
    "        # ax[i].text(-3, 0, list(sequences_for_vis[i][0][::5]), horizontalalignment='right',verticalalignment='center',fontsize=15)\n",
    "        # ax[i].text(i)\n",
    "        \n",
    "        # ax[i].axes.xaxis.set_visible(False)\n",
    "        # ax[i].axes.yaxis.set_ticks([])\n",
    "        # ax[i].set_ylabel('ahihaih', rotation=0, fontsize=16)\n",
    "        values = [0, 1, 2, 3, 4, 5, 6,7,8,9,10,11,12,13,14,15,16,17,18] # values = [0, 1, 2, 3, 4, 5, 6]\n",
    "        cmap = plt.get_cmap(cmap_plan)\n",
    "        colours = [ cmap(value / (max(values) - min(values))) for value in values]\n",
    "        patches = [ mpatches.Patch(color=colours[i], label=\"{l}\".format(l=values[i] ) ) for i in range(len(values))]\n",
    "    fig.legend(handles=patches,frameon=False, loc=5)  # label=\"STEP {l}\"\n",
    "    plt.show()"
   ]
  },
  {
   "cell_type": "code",
   "execution_count": null,
   "id": "4f34ebf7",
   "metadata": {},
   "outputs": [],
   "source": [
    "truth_filename_m1v5 = '../Dissertation_Oct/test_results_csv/M1/gt-step-resnet/video5-phase.csv'\n",
    "truth_data_v5 = read_csv(truth_filename_m1v5,header=None, skipinitialspace=True, squeeze=True,dtype='Int64')  #bug :dtype='Int64' Unable to parse string \"25\t0\"\n",
    "\n",
    "\n",
    "prediction_filename_m1v5 = '../Dissertation_Oct/test_results_csv/M1/pred-step-resnet/video5-phase.csv'\n",
    "prediction_data_m1v5 = read_csv(prediction_filename_m1v5, header=None, skipinitialspace=True, squeeze=True, dtype='Int64') #\n",
    "\n",
    "\n",
    "prediction_filename_m2v5 = '../Dissertation_Oct/test_results_csv/M2/pred-step-resnet/video5-phase.csv'\n",
    "prediction_data_m2v5 = read_csv(prediction_filename_m2v5, header=None, skipinitialspace=True, squeeze=True, dtype='Int64') #\n",
    "\n",
    "\n",
    "prediction_filename_m3v5 = '../Dissertation_Oct/test_results_csv/M3/pred-step-resnet/video5-phase.csv'\n",
    "prediction_data_m3v5 = read_csv(prediction_filename_m3v5, header=None, skipinitialspace=True, squeeze=True, dtype='Int64') #\n",
    "\n",
    "\n",
    "prediction_filename_m4v5 = '../Dissertation_Oct/test_results_csv/M4/pred-step-resnet/video5-phase.csv'\n",
    "prediction_data_m4v5 = read_csv(prediction_filename_m4v5, header=None, skipinitialspace=True, squeeze=True, dtype='Int64') #\n",
    "\n",
    "\n",
    "prediction_filename_m5v5 = '../Dissertation_Oct/test_results_csv/M5/pred-step-resnet/video5-phase.csv'\n",
    "prediction_data_m5v5 = read_csv(prediction_filename_m5v5, header=None, skipinitialspace=True, squeeze=True, dtype='Int64') #\n",
    "\n",
    "\n",
    "prediction_filename_m6v5 = '../Dissertation_Oct/test_results_csv/M6/pred-step-resnet/video5-phase.csv'\n",
    "prediction_data_m6v5 = read_csv(prediction_filename_m6v5, header=None, skipinitialspace=True, squeeze=True, dtype='Int64') #\n",
    "\n",
    "\n",
    "prediction_filename_m7v5 = '../Dissertation_Oct/test_results_csv/M7/pred-step-resnet/video5-phase.csv'\n",
    "prediction_data_m7v5 = read_csv(prediction_filename_m7v5, header=None, skipinitialspace=True, squeeze=True, dtype='Int64') #\n",
    "\n",
    "\n",
    "prediction_filename_m8v5 = '../Dissertation_Oct/test_results_csv/M8/pred-step-resnet/video5-phase.csv'\n",
    "prediction_data_m8v5 = read_csv(prediction_filename_m8v5, header=None, skipinitialspace=True, squeeze=True, dtype='Int64') #\n",
    "\n",
    "\n",
    "prediction_filename_m9v5 = '../Dissertation_Oct/test_results_csv/M9/pred-step-resnet/video5-phase.csv'\n",
    "prediction_data_m9v5 = read_csv(prediction_filename_m9v5, header=None, skipinitialspace=True, squeeze=True, dtype='Int64') #"
   ]
  },
  {
   "cell_type": "code",
   "execution_count": null,
   "id": "12b31932",
   "metadata": {},
   "outputs": [],
   "source": [
    "sequences_for_vis = []\n",
    "sequences_for_vis.append(truth_data_v5)\n",
    "sequences_for_vis.append(prediction_data_m1v5)\n",
    "sequences_for_vis.append(prediction_data_m2v5)\n",
    "sequences_for_vis.append(prediction_data_m3v5)\n",
    "sequences_for_vis.append(prediction_data_m4v5)\n",
    "sequences_for_vis.append(prediction_data_m5v5)\n",
    "sequences_for_vis.append(prediction_data_m6v5)\n",
    "sequences_for_vis.append(prediction_data_m7v5)\n",
    "sequences_for_vis.append(prediction_data_m8v5)\n",
    "sequences_for_vis.append(prediction_data_m9v5)"
   ]
  },
  {
   "cell_type": "code",
   "execution_count": null,
   "id": "35deb2b1",
   "metadata": {},
   "outputs": [],
   "source": [
    "colour_coded_ribbon_cataract(sequences_for_vis, cmap_plan = 'magma')"
   ]
  },
  {
   "cell_type": "code",
   "execution_count": null,
   "id": "d511566a",
   "metadata": {},
   "outputs": [],
   "source": []
  },
  {
   "cell_type": "code",
   "execution_count": null,
   "id": "47bc19c5",
   "metadata": {},
   "outputs": [],
   "source": []
  },
  {
   "cell_type": "code",
   "execution_count": null,
   "id": "c1d627db",
   "metadata": {},
   "outputs": [],
   "source": []
  },
  {
   "cell_type": "code",
   "execution_count": null,
   "id": "b1a05680",
   "metadata": {},
   "outputs": [],
   "source": []
  },
  {
   "cell_type": "code",
   "execution_count": null,
   "id": "6eefc27f",
   "metadata": {},
   "outputs": [],
   "source": []
  },
  {
   "cell_type": "code",
   "execution_count": null,
   "id": "2fb4d42c",
   "metadata": {},
   "outputs": [],
   "source": []
  },
  {
   "cell_type": "code",
   "execution_count": null,
   "id": "b81c1819",
   "metadata": {},
   "outputs": [],
   "source": []
  },
  {
   "cell_type": "code",
   "execution_count": null,
   "id": "7b0a7e08",
   "metadata": {},
   "outputs": [],
   "source": []
  },
  {
   "cell_type": "markdown",
   "id": "849e02b0",
   "metadata": {},
   "source": [
    "# Plot confusion matrix"
   ]
  },
  {
   "cell_type": "code",
   "execution_count": 22,
   "id": "ca64d61b",
   "metadata": {},
   "outputs": [],
   "source": [
    "# plot confusion matrix\n",
    "def plot_Matrix(cm, classes, title=None, save_path ='cm', cmap=plt.cm.Blues):\n",
    "    plt.rc('font',size='5')  # 数字百分比\n",
    "    \n",
    "    # norm\n",
    "    cm = cm.astype('float') / cm.sum(axis=1)[:, np.newaxis]\n",
    "    print(\"Normalized confusion matrix\")\n",
    "    str_cm = cm.astype(np.str).tolist()\n",
    "    for row in str_cm:\n",
    "        print('\\t'.join(row))\n",
    "    \n",
    "    for i in range(cm.shape[0]):\n",
    "        for j in range(cm.shape[1]):\n",
    "            if int(cm[i, j]*100 + 0.5) == 0:\n",
    "                cm[i, j]=0\n",
    "\n",
    "    fig, ax = plt.subplots()\n",
    "    im = ax.imshow(cm, interpolation='nearest', cmap=cmap)\n",
    "\n",
    "    # Create colorbar  \n",
    "    cbarlabel = \"\"\n",
    "    cbar = ax.figure.colorbar(im, ax=ax)\n",
    "    cbar.ax.set_ylabel(cbarlabel, rotation=-90, va=\"bottom\")\n",
    "    \n",
    "    \n",
    "    ax.set(xticks=np.arange(cm.shape[1]),\n",
    "           yticks=np.arange(cm.shape[0]),\n",
    "           xticklabels=classes, yticklabels=classes,\n",
    "           title=title,\n",
    "           \n",
    "#            ylabel='Actual step',\n",
    "#            xlabel='Predicted step'\n",
    "           )\n",
    "    ax.set_xlabel('Predicted step',fontsize =13)\n",
    "    ax.set_ylabel('Actual step',fontsize=13)\n",
    "    \n",
    "\n",
    "    # edge\n",
    "    ax.set_xticks(np.arange(cm.shape[1]+1)-.5, minor=True)\n",
    "    ax.set_yticks(np.arange(cm.shape[0]+1)-.5, minor=True)\n",
    "    ax.grid(which=\"minor\", color=\"gray\", linestyle='-', linewidth=0.2)\n",
    "    ax.tick_params(which=\"minor\", bottom=False, left=False,labelsize = 20)\n",
    "\n",
    "    # rotate 45 degrees\n",
    "    plt.setp(ax.get_xticklabels(), rotation=45, ha=\"right\",\n",
    "             rotation_mode=\"anchor\")\n",
    "\n",
    "    # % 数字text\n",
    "#     fmt = 'd'\n",
    "#     thresh = cm.max() / 2.\n",
    "#     for i in range(cm.shape[0]):\n",
    "#         for j in range(cm.shape[1]):\n",
    "#             if int(cm[i, j]*100 + 0.5) > 0:\n",
    "#                 ax.text(j, i, format(int(cm[i, j]*100 + 0.5) , fmt) + '%',\n",
    "#                         ha=\"center\", va=\"center\",\n",
    "#                         color=\"white\"  if cm[i, j] > thresh else \"black\")\n",
    "    fig.tight_layout()\n",
    "    save_path\n",
    "    plt.savefig(save_path, dpi=300)\n",
    "\n",
    "    plt.show()"
   ]
  },
  {
   "cell_type": "code",
   "execution_count": 12,
   "id": "38e93bbf",
   "metadata": {},
   "outputs": [],
   "source": [
    "def show_confusion_matrix(pred_name,save_name):\n",
    "    ###########confusion matrix of all test videos###########\n",
    "\n",
    "    with open('../../gen_datasets/cataracts_test.pkl', 'rb') as f:\n",
    "        test_paths_labels = pickle.load(f)\n",
    "\n",
    "    sequence_length = 10\n",
    "#     pred_name  = '../test_results_pkl/NLB-resnet_test_7515_crop_0.pkl'\n",
    "\n",
    "    # '../test_results_pkl/non-local_test_6953_crop_0.pkl'\n",
    "\n",
    "    with open(pred_name, 'rb') as f:\n",
    "        ori_preds = pickle.load(f)\n",
    "\n",
    "       ###########################   2    ########################\n",
    "    num_video = 25 # 40   #  gai\n",
    "    num_labels = 0\n",
    "    for i in range(25): #(40,80)\n",
    "        num_labels += len(test_paths_labels[i])\n",
    "\n",
    "    num_preds = len(ori_preds)\n",
    "\n",
    "    print('num of labels  : {:6d}'.format(num_labels))\n",
    "    print(\"num ori preds  : {:6d}\".format(num_preds))\n",
    "    print(\"labels example : \", test_paths_labels[0][0][1])\n",
    "    print(\"preds example  : \", ori_preds[0])\n",
    "\n",
    "    if num_labels == (num_preds + (sequence_length - 1) * num_video):\n",
    "\n",
    "    #     phase_dict_key = ['Preparation', 'CalotTriangleDissection', 'ClippingCutting', 'GallbladderDissection',\n",
    "    #                   'GallbladderPackaging', 'CleaningCoagulation', 'GallbladderRetraction']\n",
    "        preds_all = []\n",
    "        label_all = []\n",
    "        count = 0\n",
    "        ###########################   3   ########################\n",
    "        for i in range(25): #(40,80)\n",
    "\n",
    "            preds_each = []\n",
    "            for j in range(count, count + len(test_paths_labels[i]) - (sequence_length - 1)):\n",
    "                if j == count:\n",
    "                    # TODO\n",
    "                    for k in range(sequence_length - 1):\n",
    "                        preds_each.append(0)\n",
    "                        preds_all.append(0)\n",
    "                preds_each.append(ori_preds[j].cpu())\n",
    "                preds_all.append(ori_preds[j].cpu())\n",
    "\n",
    "            for k in range(len(preds_each)):\n",
    "                label_all.append(int(test_paths_labels[i][k][1]))\n",
    "\n",
    "\n",
    "            count += len(test_paths_labels[i]) - (sequence_length - 1)\n",
    "\n",
    "        test_corrects = 0\n",
    "\n",
    "        print('num of labels       : {:6d}'.format(len(label_all)))\n",
    "        print('result of all preds  : {:6d}'.format(len(preds_all)))\n",
    "        \n",
    "        confusion = metrics.confusion_matrix(label_all,preds_all)\n",
    "        classes = [0,1,2,3,4,5,6,7,8,9,10,11,12,13,14,15,16,17,18]\n",
    "        #title = \"Confusion_matrix of 25 test videos \"\n",
    "        title = None\n",
    "        #save_name = 'cm_7515_NLB-resnet.jpg'\n",
    "        #plot_Matrix(confusion, classes, title, 'cm_7515_NLB-resnet.jpg', cmap=plt.cm.Blues)\n",
    "        plot_Matrix(confusion, classes, title, save_name, cmap=plt.cm.Blues)"
   ]
  },
  {
   "cell_type": "code",
   "execution_count": 24,
   "id": "5fec23e6",
   "metadata": {
    "collapsed": true
   },
   "outputs": [
    {
     "name": "stdout",
     "output_type": "stream",
     "text": [
      "num of labels  :  15425\n",
      "num ori preds  :  15200\n",
      "labels example :  0\n",
      "preds example  :  tensor(0)\n",
      "num of labels       :  15425\n",
      "result of all preds  :  15425\n",
      "Normalized confusion matrix\n",
      "0.7057569296375267\t0.0\t0.003316749585406302\t0.0021321961620469083\t0.010660980810234541\t0.0144515517649846\t0.019663586827765932\t0.05140961857379768\t0.030324567638000476\t0.00023691068467187872\t0.02061122956645345\t0.009476427386875147\t0.003316749585406302\t0.03695806680881308\t0.02937692489931296\t0.0042643923240938165\t0.00544894574745321\t0.00023691068467187872\t0.05235726131248519\n",
      "0.5555555555555556\t0.1388888888888889\t0.0\t0.0\t0.0\t0.0\t0.0\t0.0\t0.08333333333333333\t0.0\t0.0\t0.0\t0.0\t0.027777777777777776\t0.0\t0.0\t0.0\t0.19444444444444445\t0.0\n",
      "0.1953125\t0.0\t0.15625\t0.0\t0.0\t0.0\t0.0\t0.3515625\t0.078125\t0.0\t0.0078125\t0.0\t0.0\t0.0\t0.0\t0.2109375\t0.0\t0.0\t0.0\n",
      "0.2815533980582524\t0.0\t0.006472491909385114\t0.6456310679611651\t0.006472491909385114\t0.0\t0.003236245954692557\t0.016181229773462782\t0.006472491909385114\t0.0\t0.003236245954692557\t0.008090614886731391\t0.0\t0.0048543689320388345\t0.0016181229773462784\t0.0\t0.009708737864077669\t0.0016181229773462784\t0.0048543689320388345\n",
      "0.19241192411924118\t0.0\t0.005420054200542005\t0.0\t0.6531165311653117\t0.02168021680216802\t0.02981029810298103\t0.02168021680216802\t0.0027100271002710027\t0.0\t0.018970189701897018\t0.0027100271002710027\t0.0\t0.013550135501355014\t0.02168021680216802\t0.0\t0.0\t0.0\t0.016260162601626018\n",
      "0.05380710659898477\t0.0\t0.005076142131979695\t0.0020304568527918783\t0.025380710659898477\t0.7817258883248731\t0.07817258883248732\t0.03756345177664975\t0.01015228426395939\t0.0\t0.0010152284263959391\t0.0\t0.0\t0.0\t0.005076142131979695\t0.0\t0.0\t0.0\t0.0\n",
      "0.06646525679758308\t0.0\t0.0\t0.0\t0.0\t0.03323262839879154\t0.7915407854984894\t0.06948640483383686\t0.0030211480362537764\t0.0\t0.0\t0.0\t0.0\t0.027190332326283987\t0.00906344410876133\t0.0\t0.0\t0.0\t0.0\n",
      "0.09692307692307692\t0.0\t0.0\t0.0\t0.005384615384615384\t0.0\t0.002307692307692308\t0.6638461538461539\t0.21307692307692308\t0.0\t0.008461538461538461\t0.0\t0.0\t0.0007692307692307692\t0.009230769230769232\t0.0\t0.0\t0.0\t0.0\n",
      "0.06639004149377593\t0.0\t0.0\t0.0\t0.0035566093657379964\t0.0\t0.0\t0.1019561351511559\t0.7954949614700652\t0.0\t0.017190278601066984\t0.0\t0.0\t0.004742145820983995\t0.008298755186721992\t0.0023710729104919974\t0.0\t0.0\t0.0\n",
      "0.038461538461538464\t0.0\t0.0\t0.0\t0.0\t0.0\t0.0\t0.007692307692307693\t0.11538461538461539\t0.7923076923076923\t0.0\t0.0\t0.0\t0.007692307692307693\t0.0\t0.03076923076923077\t0.0\t0.0\t0.007692307692307693\n",
      "0.05806451612903226\t0.0\t0.0\t0.0\t0.01488833746898263\t0.0\t0.0\t0.0064516129032258064\t0.021339950372208438\t0.0\t0.8640198511166253\t0.0\t0.0004962779156327543\t0.0034739454094292804\t0.002977667493796526\t0.028287841191066997\t0.0\t0.0\t0.0\n",
      "0.08465608465608465\t0.0\t0.0\t0.0\t0.0\t0.0\t0.0\t0.007936507936507936\t0.0\t0.0\t0.005291005291005291\t0.8756613756613757\t0.0\t0.023809523809523808\t0.0\t0.0026455026455026454\t0.0\t0.0\t0.0\n",
      "0.18421052631578946\t0.0\t0.0\t0.0\t0.013157894736842105\t0.0\t0.0\t0.06578947368421052\t0.5526315789473685\t0.0\t0.013157894736842105\t0.0\t0.0\t0.0\t0.17105263157894737\t0.0\t0.0\t0.0\t0.0\n",
      "0.1415929203539823\t0.0\t0.0\t0.0029498525073746312\t0.0029498525073746312\t0.0\t0.0\t0.035398230088495575\t0.011799410029498525\t0.0\t0.008849557522123894\t0.017699115044247787\t0.0\t0.7728613569321534\t0.0\t0.0029498525073746312\t0.0\t0.0029498525073746312\t0.0\n",
      "0.09446254071661238\t0.0\t0.019543973941368076\t0.0\t0.009771986970684038\t0.003257328990228013\t0.029315960912052116\t0.035830618892508145\t0.14332247557003258\t0.006514657980456026\t0.0\t0.0\t0.0\t0.03257328990228013\t0.5635179153094463\t0.003257328990228013\t0.0\t0.0\t0.05863192182410423\n",
      "0.030020703933747412\t0.0\t0.0\t0.0\t0.0\t0.0\t0.0010351966873706005\t0.005175983436853002\t0.008281573498964804\t0.011387163561076604\t0.07867494824016563\t0.0\t0.0\t0.0\t0.07039337474120083\t0.7836438923395446\t0.0\t0.0\t0.011387163561076604\n",
      "0.1640625\t0.0\t0.0\t0.033854166666666664\t0.0078125\t0.005208333333333333\t0.0\t0.13802083333333334\t0.0859375\t0.0\t0.010416666666666666\t0.018229166666666668\t0.0\t0.0546875\t0.0026041666666666665\t0.028645833333333332\t0.4036458333333333\t0.0\t0.046875\n",
      "0.5714285714285714\t0.0\t0.0\t0.0\t0.0\t0.0\t0.0\t0.0\t0.0\t0.0\t0.0\t0.0\t0.0\t0.14285714285714285\t0.0\t0.0\t0.0\t0.0\t0.2857142857142857\n",
      "0.11149825783972125\t0.0\t0.0\t0.0\t0.025261324041811847\t0.0\t0.0\t0.002613240418118467\t0.009581881533101045\t0.0\t0.013937282229965157\t0.0\t0.0\t0.0\t0.018292682926829267\t0.002613240418118467\t0.003484320557491289\t0.0\t0.8127177700348432\n"
     ]
    },
    {
     "data": {
      "image/png": "[encoded data removed]",
      "text/plain": [
       "<Figure size 432x288 with 2 Axes>"
      ]
     },
     "metadata": {
      "needs_background": "light"
     },
     "output_type": "display_data"
    }
   ],
   "source": [
    "show_confusion_matrix('../test_results_pkl/LFB-resnet_test_7341.pkl','cm_M1.jpg')"
   ]
  },
  {
   "cell_type": "code",
   "execution_count": null,
   "id": "b4ae07ff",
   "metadata": {},
   "outputs": [],
   "source": []
  },
  {
   "cell_type": "code",
   "execution_count": 25,
   "id": "82589fd4",
   "metadata": {},
   "outputs": [
    {
     "name": "stdout",
     "output_type": "stream",
     "text": [
      "num of labels  :  15425\n",
      "num ori preds  :  15200\n",
      "labels example :  0\n",
      "preds example  :  tensor(0)\n",
      "num of labels       :  15425\n",
      "result of all preds  :  15425\n",
      "Normalized confusion matrix\n",
      "0.6635868277659323\t0.0\t0.00734423122482824\t0.008528784648187633\t0.02724472873726605\t0.018005212035062782\t0.013030087656953328\t0.017531390665719022\t0.018005212035062782\t0.0\t0.025112532575219143\t0.02700781805259417\t0.006633499170812604\t0.0734423122482824\t0.021321961620469083\t0.014214641080312722\t0.002606017531390666\t0.0009476427386875149\t0.05543710021321962\n",
      "0.16666666666666666\t0.0\t0.0\t0.08333333333333333\t0.0\t0.0\t0.0\t0.0\t0.1388888888888889\t0.0\t0.0\t0.2222222222222222\t0.08333333333333333\t0.19444444444444445\t0.0\t0.0\t0.0\t0.1111111111111111\t0.0\n",
      "0.1796875\t0.0\t0.484375\t0.0\t0.0625\t0.0\t0.0\t0.0\t0.0234375\t0.0\t0.0\t0.0\t0.0\t0.078125\t0.0078125\t0.0625\t0.0\t0.0\t0.1015625\n",
      "0.3446601941747573\t0.0\t0.0048543689320388345\t0.5436893203883495\t0.01779935275080906\t0.0\t0.0\t0.011326860841423949\t0.008090614886731391\t0.0\t0.03398058252427184\t0.003236245954692557\t0.0048543689320388345\t0.022653721682847898\t0.0\t0.003236245954692557\t0.0\t0.0\t0.0016181229773462784\n",
      "0.14363143631436315\t0.0\t0.005420054200542005\t0.0\t0.7317073170731707\t0.032520325203252036\t0.008130081300813009\t0.0\t0.0\t0.0\t0.024390243902439025\t0.005420054200542005\t0.0\t0.02168021680216802\t0.013550135501355014\t0.0\t0.0\t0.0\t0.013550135501355014\n",
      "0.04568527918781726\t0.0\t0.028426395939086295\t0.0\t0.049746192893401014\t0.7563451776649747\t0.015228426395939087\t0.023350253807106598\t0.0\t0.0\t0.005076142131979695\t0.0040609137055837565\t0.003045685279187817\t0.04467005076142132\t0.017258883248730966\t0.0010152284263959391\t0.0010152284263959391\t0.0\t0.005076142131979695\n",
      "0.054380664652567974\t0.0\t0.0030211480362537764\t0.0030211480362537764\t0.0513595166163142\t0.04833836858006042\t0.6858006042296072\t0.06042296072507553\t0.0030211480362537764\t0.0\t0.0\t0.02416918429003021\t0.0\t0.0030211480362537764\t0.015105740181268883\t0.0\t0.012084592145015106\t0.0\t0.03625377643504532\n",
      "0.07076923076923076\t0.0\t0.03230769230769231\t0.0007692307692307692\t0.013846153846153847\t0.0015384615384615385\t0.006923076923076923\t0.5769230769230769\t0.2276923076923077\t0.0\t0.01\t0.021538461538461538\t0.0\t0.02\t0.0038461538461538464\t0.002307692307692308\t0.0\t0.0007692307692307692\t0.010769230769230769\n",
      "0.03852993479549496\t0.0\t0.008298755186721992\t0.0023710729104919974\t0.011262596324836989\t0.0\t0.0\t0.07705986959098993\t0.7344398340248963\t0.002963841138114997\t0.026674570243034972\t0.051570835803200946\t0.0\t0.002963841138114997\t0.017190278601066984\t0.0\t0.0\t0.0\t0.026674570243034972\n",
      "0.0\t0.0\t0.0\t0.0\t0.0\t0.0\t0.0\t0.05384615384615385\t0.05384615384615385\t0.4076923076923077\t0.11538461538461539\t0.0\t0.0\t0.0\t0.0\t0.36153846153846153\t0.0\t0.0\t0.007692307692307693\n",
      "0.04665012406947891\t0.0\t0.0\t0.001488833746898263\t0.007444168734491315\t0.0\t0.0\t0.001488833746898263\t0.008436724565756825\t0.0019851116625310174\t0.8630272952853598\t0.02382133995037221\t0.0\t0.003970223325062035\t0.004466501240694789\t0.03672456575682382\t0.0\t0.0\t0.0004962779156327543\n",
      "0.05555555555555555\t0.0\t0.0\t0.0\t0.0026455026455026454\t0.0\t0.0\t0.0\t0.0\t0.0\t0.0\t0.8994708994708994\t0.0\t0.03439153439153439\t0.0\t0.005291005291005291\t0.0\t0.0\t0.0026455026455026454\n",
      "0.10526315789473684\t0.0\t0.0\t0.0\t0.06578947368421052\t0.0\t0.0\t0.10526315789473684\t0.2631578947368421\t0.0\t0.0\t0.05263157894736842\t0.2894736842105263\t0.0\t0.0\t0.0\t0.0\t0.0\t0.11842105263157894\n",
      "0.09144542772861357\t0.0\t0.0\t0.0\t0.0058997050147492625\t0.0\t0.0\t0.0\t0.0\t0.0029498525073746312\t0.02359882005899705\t0.05014749262536873\t0.0\t0.8259587020648967\t0.0\t0.0\t0.0\t0.0\t0.0\n",
      "0.09771986970684039\t0.0\t0.02280130293159609\t0.0\t0.026058631921824105\t0.0\t0.0\t0.003257328990228013\t0.06188925081433225\t0.0\t0.0\t0.029315960912052116\t0.0\t0.04234527687296417\t0.6254071661237784\t0.06188925081433225\t0.003257328990228013\t0.0\t0.026058631921824105\n",
      "0.009316770186335404\t0.0\t0.002070393374741201\t0.0\t0.0\t0.0\t0.0010351966873706005\t0.011387163561076604\t0.004140786749482402\t0.0\t0.030020703933747412\t0.10248447204968944\t0.0\t0.007246376811594203\t0.019668737060041408\t0.7971014492753623\t0.002070393374741201\t0.0010351966873706005\t0.012422360248447204\n",
      "0.10416666666666667\t0.0\t0.06510416666666667\t0.0546875\t0.015625\t0.0\t0.0\t0.015625\t0.0234375\t0.0\t0.10416666666666667\t0.018229166666666668\t0.0\t0.0234375\t0.0\t0.013020833333333334\t0.5026041666666666\t0.0\t0.059895833333333336\n",
      "0.5714285714285714\t0.0\t0.0\t0.0\t0.0\t0.0\t0.0\t0.0\t0.0\t0.0\t0.0\t0.0\t0.0\t0.14285714285714285\t0.0\t0.14285714285714285\t0.0\t0.0\t0.14285714285714285\n",
      "0.13763066202090593\t0.0\t0.004355400696864111\t0.0\t0.039198606271777\t0.0\t0.0\t0.0\t0.0\t0.0\t0.006968641114982578\t0.012195121951219513\t0.0\t0.016550522648083623\t0.013066202090592335\t0.047038327526132406\t0.0017421602787456446\t0.0008710801393728223\t0.7203832752613241\n"
     ]
    },
    {
     "data": {
      "image/png": "[encoded data removed]",
      "text/plain": [
       "<Figure size 432x288 with 2 Axes>"
      ]
     },
     "metadata": {
      "needs_background": "light"
     },
     "output_type": "display_data"
    }
   ],
   "source": [
    "show_confusion_matrix('../test_results_pkl/LFB-densenet_test_7019.pkl','cm_M2.jpg')"
   ]
  },
  {
   "cell_type": "code",
   "execution_count": 26,
   "id": "c89360da",
   "metadata": {},
   "outputs": [
    {
     "name": "stdout",
     "output_type": "stream",
     "text": [
      "num of labels  :  15425\n",
      "num ori preds  :  15200\n",
      "labels example :  0\n",
      "preds example  :  tensor(0)\n",
      "num of labels       :  15425\n",
      "result of all preds  :  15425\n",
      "Normalized confusion matrix\n",
      "0.7692489931295902\t0.0\t0.00023691068467187872\t0.0014214641080312722\t0.016820658611703388\t0.011845534233593935\t0.010424070125562663\t0.010424070125562663\t0.00923951670220327\t0.0\t0.013030087656953328\t0.007107320540156361\t0.0\t0.050935797204453924\t0.011608623548922056\t0.0045013030087656955\t0.0\t0.00023691068467187872\t0.08291873963515754\n",
      "0.4166666666666667\t0.0\t0.0\t0.08333333333333333\t0.027777777777777776\t0.0\t0.0\t0.0\t0.0\t0.0\t0.0\t0.0\t0.0\t0.25\t0.0\t0.0\t0.0\t0.2222222222222222\t0.0\n",
      "0.078125\t0.0\t0.2734375\t0.0\t0.0\t0.0\t0.0\t0.0\t0.0\t0.0\t0.0\t0.0\t0.0\t0.0390625\t0.0625\t0.0234375\t0.0\t0.0\t0.5234375\n",
      "0.3446601941747573\t0.0\t0.0\t0.5679611650485437\t0.006472491909385114\t0.003236245954692557\t0.0\t0.006472491909385114\t0.006472491909385114\t0.0\t0.003236245954692557\t0.0\t0.0\t0.024271844660194174\t0.0\t0.0\t0.0016181229773462784\t0.0016181229773462784\t0.03398058252427184\n",
      "0.2140921409214092\t0.0\t0.0\t0.0\t0.6205962059620597\t0.008130081300813009\t0.018970189701897018\t0.0\t0.0\t0.0\t0.02168021680216802\t0.0027100271002710027\t0.0\t0.008130081300813009\t0.008130081300813009\t0.0\t0.0\t0.0\t0.0975609756097561\n",
      "0.06700507614213198\t0.0\t0.009137055837563452\t0.0\t0.05177664974619289\t0.783756345177665\t0.05177664974619289\t0.0\t0.0020304568527918783\t0.0\t0.0010152284263959391\t0.0\t0.0\t0.012182741116751269\t0.007106598984771574\t0.005076142131979695\t0.0\t0.0\t0.009137055837563452\n",
      "0.13595166163141995\t0.0\t0.0\t0.0\t0.04833836858006042\t0.027190332326283987\t0.7462235649546828\t0.01812688821752266\t0.0\t0.0\t0.0\t0.0\t0.0\t0.0\t0.021148036253776436\t0.0\t0.0\t0.0\t0.0030211480362537764\n",
      "0.13153846153846155\t0.0\t0.0\t0.0\t0.026153846153846153\t0.0007692307692307692\t0.0038461538461538464\t0.4976923076923077\t0.22384615384615383\t0.0\t0.021538461538461538\t0.0\t0.0\t0.016923076923076923\t0.005384615384615384\t0.04923076923076923\t0.0\t0.0\t0.023076923076923078\n",
      "0.07646710136336693\t0.0\t0.0\t0.0\t0.0\t0.0\t0.0017783046828689982\t0.034973325429756966\t0.7700059276822763\t0.0\t0.01896858328393598\t0.0\t0.0\t0.0011855364552459987\t0.0\t0.046235921754593956\t0.0\t0.0\t0.05038529934795495\n",
      "0.03076923076923077\t0.0\t0.0\t0.0\t0.0\t0.0\t0.0\t0.007692307692307693\t0.0\t0.0\t0.5\t0.0\t0.0\t0.0\t0.0\t0.45384615384615384\t0.0\t0.0\t0.007692307692307693\n",
      "0.06550868486352357\t0.0\t0.0\t0.0\t0.02481389578163772\t0.0\t0.0\t0.0009925558312655087\t0.018858560794044667\t0.0\t0.8357320099255583\t0.0\t0.0\t0.003970223325062035\t0.0019851116625310174\t0.0456575682382134\t0.0\t0.0\t0.0024813895781637717\n",
      "0.14285714285714285\t0.0\t0.0\t0.0\t0.005291005291005291\t0.0\t0.0\t0.0\t0.0\t0.0\t0.0\t0.828042328042328\t0.0\t0.021164021164021163\t0.0\t0.0\t0.0\t0.0\t0.0026455026455026454\n",
      "0.6052631578947368\t0.0\t0.0\t0.0\t0.06578947368421052\t0.0\t0.013157894736842105\t0.0\t0.18421052631578946\t0.0\t0.0\t0.10526315789473684\t0.0\t0.0\t0.0\t0.0\t0.0\t0.0\t0.02631578947368421\n",
      "0.11799410029498525\t0.0\t0.0\t0.0\t0.008849557522123894\t0.0\t0.0\t0.011799410029498525\t0.0\t0.0\t0.0\t0.0\t0.0\t0.8436578171091446\t0.0029498525073746312\t0.0029498525073746312\t0.0\t0.0\t0.011799410029498525\n",
      "0.15960912052117263\t0.0\t0.0\t0.0\t0.035830618892508145\t0.0\t0.0\t0.0\t0.03257328990228013\t0.0\t0.003257328990228013\t0.019543973941368076\t0.0\t0.009771986970684038\t0.6384364820846905\t0.016286644951140065\t0.0\t0.0\t0.08469055374592833\n",
      "0.010351966873706004\t0.0\t0.0\t0.0\t0.0\t0.0\t0.0\t0.0\t0.048654244306418216\t0.0\t0.047619047619047616\t0.014492753623188406\t0.0\t0.0\t0.010351966873706004\t0.839544513457557\t0.0\t0.002070393374741201\t0.026915113871635612\n",
      "0.3723958333333333\t0.0\t0.0\t0.08854166666666667\t0.0026041666666666665\t0.0\t0.0\t0.0\t0.0\t0.0\t0.0078125\t0.0026041666666666665\t0.0\t0.03125\t0.005208333333333333\t0.013020833333333334\t0.3828125\t0.0\t0.09375\n",
      "0.5714285714285714\t0.0\t0.0\t0.0\t0.0\t0.0\t0.0\t0.0\t0.0\t0.0\t0.0\t0.0\t0.0\t0.14285714285714285\t0.0\t0.0\t0.0\t0.0\t0.2857142857142857\n",
      "0.09233449477351917\t0.0\t0.0\t0.0008710801393728223\t0.02613240418118467\t0.0\t0.0\t0.0\t0.0008710801393728223\t0.0\t0.008710801393728223\t0.0\t0.0\t0.0008710801393728223\t0.006097560975609756\t0.004355400696864111\t0.0\t0.0\t0.8597560975609756\n"
     ]
    },
    {
     "data": {
      "image/png": "[encoded data removed]",
      "text/plain": [
       "<Figure size 432x288 with 2 Axes>"
      ]
     },
     "metadata": {
      "needs_background": "light"
     },
     "output_type": "display_data"
    }
   ],
   "source": [
    "show_confusion_matrix('../test_results_pkl/LFB-resnest_test_7286.pkl','cm_M3.jpg')"
   ]
  },
  {
   "cell_type": "code",
   "execution_count": 27,
   "id": "21231e15",
   "metadata": {},
   "outputs": [
    {
     "name": "stdout",
     "output_type": "stream",
     "text": [
      "num of labels  :  15425\n",
      "num ori preds  :  15200\n",
      "labels example :  0\n",
      "preds example  :  tensor(0)\n",
      "num of labels       :  15425\n",
      "result of all preds  :  15425\n",
      "Normalized confusion matrix\n",
      "0.7671167969675432\t0.0021321961620469083\t0.002369106846718787\t0.0011845534233593934\t0.013740819710968964\t0.013503909026297086\t0.01089789149490642\t0.027955460791281687\t0.02179578298981284\t0.00023691068467187872\t0.016820658611703388\t0.009950248756218905\t0.00047382136934375743\t0.0289031035299692\t0.008528784648187633\t0.0037905709547500594\t0.0011845534233593934\t0.00023691068467187872\t0.06917791992418858\n",
      "0.6111111111111112\t0.027777777777777776\t0.0\t0.0\t0.0\t0.0\t0.0\t0.0\t0.027777777777777776\t0.0\t0.0\t0.027777777777777776\t0.0\t0.0\t0.0\t0.0\t0.0\t0.3055555555555556\t0.0\n",
      "0.4375\t0.0\t0.2265625\t0.0\t0.0\t0.0\t0.0\t0.109375\t0.0\t0.0\t0.0\t0.0\t0.0\t0.0\t0.0078125\t0.140625\t0.0\t0.0\t0.078125\n",
      "0.34627831715210355\t0.0\t0.0\t0.5954692556634305\t0.0016181229773462784\t0.0016181229773462784\t0.0\t0.01779935275080906\t0.006472491909385114\t0.0\t0.0048543689320388345\t0.0016181229773462784\t0.0\t0.008090614886731391\t0.0016181229773462784\t0.0\t0.0\t0.003236245954692557\t0.011326860841423949\n",
      "0.17344173441734417\t0.0\t0.0\t0.0\t0.6829268292682927\t0.018970189701897018\t0.024390243902439025\t0.005420054200542005\t0.0\t0.0\t0.0\t0.0\t0.0\t0.016260162601626018\t0.0027100271002710027\t0.0\t0.0\t0.0027100271002710027\t0.07317073170731707\n",
      "0.09644670050761421\t0.0\t0.0040609137055837565\t0.0\t0.023350253807106598\t0.7441624365482233\t0.06294416243654823\t0.030456852791878174\t0.01015228426395939\t0.0\t0.01116751269035533\t0.0010152284263959391\t0.0\t0.0040609137055837565\t0.006091370558375634\t0.0\t0.0\t0.0\t0.006091370558375634\n",
      "0.1268882175226586\t0.0\t0.0\t0.0\t0.0\t0.03625377643504532\t0.7371601208459214\t0.03927492447129909\t0.0030211480362537764\t0.0\t0.0\t0.0\t0.0\t0.027190332326283987\t0.030211480362537766\t0.0\t0.0\t0.0\t0.0\n",
      "0.12076923076923077\t0.0\t0.0\t0.0\t0.007692307692307693\t0.0\t0.0015384615384615385\t0.6361538461538462\t0.21615384615384614\t0.0\t0.0\t0.0\t0.0\t0.0007692307692307692\t0.008461538461538461\t0.0\t0.0\t0.0\t0.008461538461538461\n",
      "0.06579727326615294\t0.0\t0.0\t0.0\t0.014226437462951986\t0.0\t0.0\t0.08654416123295791\t0.8037937166567872\t0.0\t0.0035566093657379964\t0.0\t0.0\t0.01007705986959099\t0.007705986959098993\t0.0\t0.0\t0.0\t0.008298755186721992\n",
      "0.03076923076923077\t0.0\t0.0\t0.0\t0.0\t0.0\t0.0\t0.015384615384615385\t0.0\t0.9\t0.0\t0.0\t0.0\t0.0\t0.0\t0.0\t0.0\t0.0\t0.05384615384615385\n",
      "0.062034739454094295\t0.0\t0.0\t0.0\t0.017369727047146403\t0.0\t0.0\t0.0034739454094292804\t0.023325062034739455\t0.0\t0.860545905707196\t0.0\t0.0\t0.001488833746898263\t0.0004962779156327543\t0.026799007444168736\t0.0\t0.0\t0.004466501240694789\n",
      "0.10582010582010581\t0.0\t0.0\t0.0\t0.0\t0.0\t0.0\t0.0\t0.0\t0.0\t0.0\t0.8597883597883598\t0.0\t0.0291005291005291\t0.0\t0.0\t0.0\t0.0\t0.005291005291005291\n",
      "0.3157894736842105\t0.0\t0.0\t0.0\t0.06578947368421052\t0.0\t0.0\t0.07894736842105263\t0.4473684210526316\t0.0\t0.0\t0.0\t0.0\t0.0\t0.0\t0.0\t0.0\t0.0\t0.09210526315789473\n",
      "0.12979351032448377\t0.0\t0.0\t0.0\t0.0029498525073746312\t0.0\t0.0\t0.032448377581120944\t0.0029498525073746312\t0.0\t0.0029498525073746312\t0.032448377581120944\t0.0\t0.7846607669616519\t0.0\t0.0\t0.0\t0.0058997050147492625\t0.0058997050147492625\n",
      "0.1237785016286645\t0.0\t0.0\t0.0\t0.0\t0.0\t0.0\t0.029315960912052116\t0.1270358306188925\t0.0\t0.0\t0.0\t0.0\t0.03908794788273615\t0.5179153094462541\t0.0\t0.0\t0.009771986970684038\t0.15309446254071662\n",
      "0.036231884057971016\t0.0\t0.0\t0.0\t0.0\t0.0\t0.0\t0.0\t0.0010351966873706005\t0.015527950310559006\t0.014492753623188406\t0.0\t0.0\t0.0\t0.07453416149068323\t0.8136645962732919\t0.0\t0.0\t0.044513457556935816\n",
      "0.2864583333333333\t0.0\t0.0\t0.041666666666666664\t0.0\t0.0\t0.0\t0.10416666666666667\t0.0234375\t0.0\t0.0\t0.0\t0.0\t0.041666666666666664\t0.0\t0.0\t0.3020833333333333\t0.0\t0.20052083333333334\n",
      "0.7142857142857143\t0.0\t0.0\t0.0\t0.0\t0.0\t0.0\t0.0\t0.0\t0.0\t0.0\t0.0\t0.0\t0.0\t0.0\t0.0\t0.0\t0.0\t0.2857142857142857\n",
      "0.13240418118466898\t0.0\t0.0\t0.0\t0.004355400696864111\t0.0\t0.0\t0.0\t0.0\t0.0\t0.009581881533101045\t0.0\t0.0\t0.0008710801393728223\t0.0\t0.0008710801393728223\t0.0008710801393728223\t0.0\t0.8510452961672473\n"
     ]
    },
    {
     "data": {
      "image/png": "[encoded data removed]",
      "text/plain": [
       "<Figure size 432x288 with 2 Axes>"
      ]
     },
     "metadata": {
      "needs_background": "light"
     },
     "output_type": "display_data"
    }
   ],
   "source": [
    "show_confusion_matrix('../test_results_pkl/NL-resnet_test_7468.pkl','cm_M4.jpg')"
   ]
  },
  {
   "cell_type": "code",
   "execution_count": 28,
   "id": "f8e42107",
   "metadata": {},
   "outputs": [
    {
     "name": "stdout",
     "output_type": "stream",
     "text": [
      "num of labels  :  15425\n",
      "num ori preds  :  15200\n",
      "labels example :  0\n",
      "preds example  :  tensor(0)\n",
      "num of labels       :  15425\n",
      "result of all preds  :  15425\n",
      "Normalized confusion matrix\n",
      "0.648424543946932\t0.0\t0.005212035062781332\t0.0028429282160625444\t0.037668798862828715\t0.022506515043828477\t0.01468846244965648\t0.03695806680881308\t0.025823264629234777\t0.0\t0.007818052594171997\t0.026533996683250415\t0.011371712864250177\t0.06467661691542288\t0.01847903340440654\t0.00734423122482824\t0.0045013030087656955\t0.002369106846718787\t0.06278133143804786\n",
      "0.3333333333333333\t0.0\t0.0\t0.027777777777777776\t0.0\t0.0\t0.0\t0.0\t0.1111111111111111\t0.0\t0.0\t0.16666666666666666\t0.0\t0.3055555555555556\t0.0\t0.0\t0.0\t0.05555555555555555\t0.0\n",
      "0.1640625\t0.0\t0.5703125\t0.0\t0.078125\t0.0\t0.0\t0.046875\t0.015625\t0.0\t0.0\t0.0\t0.0\t0.0546875\t0.0\t0.015625\t0.0\t0.0\t0.0546875\n",
      "0.313915857605178\t0.0\t0.0048543689320388345\t0.5566343042071198\t0.019417475728155338\t0.014563106796116505\t0.0\t0.011326860841423949\t0.008090614886731391\t0.0\t0.011326860841423949\t0.022653721682847898\t0.008090614886731391\t0.014563106796116505\t0.0\t0.0\t0.0\t0.009708737864077669\t0.0048543689320388345\n",
      "0.13279132791327913\t0.0\t0.0\t0.0\t0.7181571815718157\t0.04878048780487805\t0.013550135501355014\t0.005420054200542005\t0.008130081300813009\t0.0\t0.02981029810298103\t0.005420054200542005\t0.0\t0.01084010840108401\t0.0027100271002710027\t0.0\t0.0\t0.0\t0.024390243902439025\n",
      "0.03451776649746193\t0.0\t0.025380710659898477\t0.0\t0.04060913705583756\t0.8274111675126904\t0.013197969543147208\t0.024365482233502538\t0.012182741116751269\t0.0\t0.0\t0.0\t0.0010152284263959391\t0.0040609137055837565\t0.009137055837563452\t0.0020304568527918783\t0.0\t0.0\t0.006091370558375634\n",
      "0.027190332326283987\t0.0\t0.006042296072507553\t0.0\t0.015105740181268883\t0.08157099697885196\t0.7069486404833837\t0.1419939577039275\t0.021148036253776436\t0.0\t0.0\t0.0\t0.0\t0.0\t0.0\t0.0\t0.0\t0.0\t0.0\n",
      "0.06307692307692307\t0.0\t0.03538461538461538\t0.0\t0.02923076923076923\t0.0\t0.0007692307692307692\t0.6223076923076923\t0.23692307692307693\t0.0\t0.0\t0.002307692307692308\t0.0\t0.0007692307692307692\t0.0\t0.0007692307692307692\t0.0\t0.0\t0.008461538461538461\n",
      "0.03734439834024896\t0.0\t0.011855364552459988\t0.0\t0.08654416123295791\t0.0\t0.0\t0.0972139893301719\t0.7368109069353883\t0.0\t0.006520450503852994\t0.013633669235328987\t0.0\t0.004742145820983995\t0.0\t0.005334914048606995\t0.0\t0.0\t0.0\n",
      "0.03076923076923077\t0.0\t0.0\t0.0\t0.0\t0.0\t0.0\t0.2076923076923077\t0.0\t0.16923076923076924\t0.23846153846153847\t0.007692307692307693\t0.0\t0.0\t0.0\t0.34615384615384615\t0.0\t0.0\t0.0\n",
      "0.05806451612903226\t0.0\t0.0\t0.0\t0.027791563275434243\t0.0\t0.0\t0.007444168734491315\t0.01240694789081886\t0.005459057071960298\t0.8327543424317618\t0.008436724565756825\t0.0019851116625310174\t0.0009925558312655087\t0.0\t0.044168734491315136\t0.0\t0.0\t0.0004962779156327543\n",
      "0.06878306878306878\t0.0\t0.0\t0.0\t0.0026455026455026454\t0.0\t0.0\t0.0\t0.007936507936507936\t0.0\t0.0\t0.8835978835978836\t0.0\t0.03439153439153439\t0.0\t0.0\t0.0\t0.0\t0.0026455026455026454\n",
      "0.013157894736842105\t0.0\t0.0\t0.0\t0.06578947368421052\t0.0\t0.0\t0.14473684210526316\t0.4473684210526316\t0.0\t0.0\t0.0\t0.17105263157894737\t0.0\t0.0\t0.0\t0.0\t0.0\t0.15789473684210525\n",
      "0.08259587020648967\t0.0\t0.0\t0.0\t0.0029498525073746312\t0.0\t0.0\t0.017699115044247787\t0.0058997050147492625\t0.0\t0.008849557522123894\t0.07079646017699115\t0.0\t0.799410029498525\t0.0\t0.0029498525073746312\t0.0\t0.008849557522123894\t0.0\n",
      "0.08143322475570032\t0.0\t0.013029315960912053\t0.0\t0.029315960912052116\t0.0\t0.0\t0.04560260586319218\t0.09120521172638436\t0.0\t0.0\t0.016286644951140065\t0.0\t0.05537459283387622\t0.6058631921824105\t0.019543973941368076\t0.0\t0.0\t0.04234527687296417\n",
      "0.012422360248447204\t0.0\t0.015527950310559006\t0.0\t0.0010351966873706005\t0.0\t0.0\t0.005175983436853002\t0.040372670807453416\t0.0\t0.0010351966873706005\t0.023809523809523808\t0.0\t0.008281573498964804\t0.036231884057971016\t0.8260869565217391\t0.0\t0.0\t0.030020703933747412\n",
      "0.09114583333333333\t0.0\t0.018229166666666668\t0.0\t0.06510416666666667\t0.0\t0.0\t0.08072916666666667\t0.010416666666666666\t0.0\t0.036458333333333336\t0.0\t0.0\t0.0\t0.0\t0.013020833333333334\t0.5833333333333334\t0.0\t0.1015625\n",
      "0.0\t0.0\t0.0\t0.0\t0.0\t0.0\t0.0\t0.5714285714285714\t0.0\t0.0\t0.0\t0.0\t0.0\t0.14285714285714285\t0.0\t0.14285714285714285\t0.0\t0.0\t0.14285714285714285\n",
      "0.0740418118466899\t0.0\t0.002613240418118467\t0.003484320557491289\t0.04355400696864112\t0.0\t0.0\t0.0\t0.009581881533101045\t0.0\t0.0\t0.0\t0.0\t0.009581881533101045\t0.01132404181184669\t0.002613240418118467\t0.008710801393728223\t0.0\t0.8344947735191638\n"
     ]
    },
    {
     "data": {
      "image/png": "[encoded data removed]",
      "text/plain": [
       "<Figure size 432x288 with 2 Axes>"
      ]
     },
     "metadata": {
      "needs_background": "light"
     },
     "output_type": "display_data"
    }
   ],
   "source": [
    "show_confusion_matrix('../test_results_pkl/NL-densenet_test_7123.pkl','cm_M5.jpg')"
   ]
  },
  {
   "cell_type": "code",
   "execution_count": 29,
   "id": "192d4816",
   "metadata": {},
   "outputs": [
    {
     "name": "stdout",
     "output_type": "stream",
     "text": [
      "num of labels  :  15425\n",
      "num ori preds  :  15200\n",
      "labels example :  0\n",
      "preds example  :  tensor(0)\n",
      "num of labels       :  15425\n",
      "result of all preds  :  15425\n",
      "Normalized confusion matrix\n",
      "0.806443970623075\t0.0\t0.0014214641080312722\t0.0007107320540156361\t0.007818052594171997\t0.010187159440890783\t0.012082444918265814\t0.009002606017531391\t0.0144515517649846\t0.0\t0.011371712864250177\t0.02203269367448472\t0.00047382136934375743\t0.03245676380004738\t0.013740819710968964\t0.003316749585406302\t0.0\t0.0007107320540156361\t0.05377872542051647\n",
      "0.4722222222222222\t0.0\t0.0\t0.05555555555555555\t0.1111111111111111\t0.0\t0.0\t0.0\t0.0\t0.0\t0.0\t0.0\t0.0\t0.08333333333333333\t0.0\t0.0\t0.0\t0.2777777777777778\t0.0\n",
      "0.078125\t0.0\t0.3125\t0.0\t0.0\t0.0\t0.0\t0.0\t0.0\t0.0\t0.0\t0.0\t0.0\t0.0\t0.0\t0.0078125\t0.0\t0.0\t0.6015625\n",
      "0.37702265372168287\t0.0\t0.0\t0.5469255663430421\t0.0016181229773462784\t0.003236245954692557\t0.0\t0.0\t0.006472491909385114\t0.0\t0.003236245954692557\t0.0016181229773462784\t0.0\t0.0048543689320388345\t0.0016181229773462784\t0.0\t0.0\t0.003236245954692557\t0.05016181229773463\n",
      "0.19241192411924118\t0.0\t0.0\t0.0\t0.6043360433604336\t0.016260162601626018\t0.02168021680216802\t0.0\t0.0\t0.0\t0.02710027100271003\t0.0\t0.0\t0.005420054200542005\t0.01084010840108401\t0.008130081300813009\t0.0\t0.0\t0.11382113821138211\n",
      "0.08223350253807106\t0.0\t0.0040609137055837565\t0.0\t0.028426395939086295\t0.8020304568527918\t0.06192893401015229\t0.0\t0.0010152284263959391\t0.0\t0.0\t0.0\t0.0\t0.008121827411167513\t0.0\t0.0\t0.0\t0.0\t0.012182741116751269\n",
      "0.1510574018126888\t0.0\t0.0\t0.0\t0.027190332326283987\t0.04833836858006042\t0.7250755287009063\t0.02416918429003021\t0.0\t0.0\t0.0\t0.0\t0.0\t0.0\t0.01812688821752266\t0.0030211480362537764\t0.0\t0.0\t0.0030211480362537764\n",
      "0.15153846153846154\t0.0\t0.0\t0.0\t0.009230769230769232\t0.0\t0.002307692307692308\t0.4776923076923077\t0.23615384615384616\t0.0\t0.004615384615384616\t0.0\t0.0\t0.016923076923076923\t0.0\t0.06538461538461539\t0.0\t0.0\t0.036153846153846154\n",
      "0.10729104919976289\t0.0\t0.0\t0.0\t0.0005927682276229994\t0.0\t0.0\t0.023117960877296978\t0.7960877296976882\t0.0\t0.013040901007705987\t0.0023710729104919974\t0.0\t0.004742145820983995\t0.0011855364552459987\t0.02074688796680498\t0.0\t0.0\t0.03082394783639597\n",
      "0.19230769230769232\t0.0\t0.0\t0.0\t0.0\t0.0\t0.0\t0.007692307692307693\t0.0\t0.0\t0.4307692307692308\t0.0\t0.0\t0.0\t0.0\t0.36153846153846153\t0.0\t0.0\t0.007692307692307693\n",
      "0.07394540942928039\t0.0\t0.0\t0.0\t0.01488833746898263\t0.0\t0.0\t0.0009925558312655087\t0.010918114143920596\t0.0\t0.8401985111662531\t0.005955334987593052\t0.0004962779156327543\t0.0034739454094292804\t0.004466501240694789\t0.04466501240694789\t0.0\t0.0\t0.0\n",
      "0.1111111111111111\t0.0\t0.0\t0.0026455026455026454\t0.0026455026455026454\t0.0\t0.0\t0.0\t0.0\t0.0\t0.0\t0.8756613756613757\t0.0\t0.0026455026455026454\t0.0\t0.0\t0.0\t0.0\t0.005291005291005291\n",
      "0.6710526315789473\t0.0\t0.0\t0.0\t0.02631578947368421\t0.0\t0.0\t0.0\t0.05263157894736842\t0.0\t0.0\t0.02631578947368421\t0.013157894736842105\t0.0\t0.21052631578947367\t0.0\t0.0\t0.0\t0.0\n",
      "0.16519174041297935\t0.0\t0.0\t0.0\t0.0058997050147492625\t0.0\t0.0\t0.0029498525073746312\t0.0\t0.0\t0.0\t0.02064896755162242\t0.0\t0.7846607669616519\t0.011799410029498525\t0.0\t0.0\t0.0\t0.008849557522123894\n",
      "0.1563517915309446\t0.0\t0.0\t0.0\t0.006514657980456026\t0.0\t0.0\t0.013029315960912053\t0.02280130293159609\t0.0\t0.0\t0.019543973941368076\t0.0\t0.02280130293159609\t0.6677524429967426\t0.029315960912052116\t0.0\t0.0\t0.06188925081433225\n",
      "0.015527950310559006\t0.0\t0.0\t0.0\t0.0\t0.0\t0.0\t0.0\t0.007246376811594203\t0.0\t0.020703933747412008\t0.043478260869565216\t0.0\t0.0010351966873706005\t0.017598343685300208\t0.8623188405797102\t0.0\t0.0\t0.032091097308488616\n",
      "0.3567708333333333\t0.0\t0.0\t0.06510416666666667\t0.0\t0.0\t0.0\t0.0026041666666666665\t0.0\t0.0\t0.0\t0.0\t0.0\t0.010416666666666666\t0.0\t0.020833333333333332\t0.4661458333333333\t0.0\t0.078125\n",
      "0.7142857142857143\t0.0\t0.0\t0.0\t0.0\t0.0\t0.0\t0.0\t0.0\t0.0\t0.0\t0.0\t0.0\t0.0\t0.0\t0.0\t0.0\t0.0\t0.2857142857142857\n",
      "0.22996515679442509\t0.0\t0.0\t0.0\t0.016550522648083623\t0.0\t0.0\t0.0\t0.002613240418118467\t0.0\t0.009581881533101045\t0.0008710801393728223\t0.0\t0.0\t0.006097560975609756\t0.002613240418118467\t0.0\t0.0\t0.7317073170731707\n"
     ]
    },
    {
     "data": {
      "image/png": "[encoded data removed]",
      "text/plain": [
       "<Figure size 432x288 with 2 Axes>"
      ]
     },
     "metadata": {
      "needs_background": "light"
     },
     "output_type": "display_data"
    }
   ],
   "source": [
    "show_confusion_matrix('../test_results_pkl/NL-resnest_test_7349.pkl','cm_M6.jpg')"
   ]
  },
  {
   "cell_type": "code",
   "execution_count": 30,
   "id": "885b5c85",
   "metadata": {},
   "outputs": [
    {
     "name": "stdout",
     "output_type": "stream",
     "text": [
      "num of labels  :  15425\n",
      "num ori preds  :  15200\n",
      "labels example :  0\n",
      "preds example  :  tensor(0)\n",
      "num of labels       :  15425\n",
      "result of all preds  :  15425\n",
      "Normalized confusion matrix\n",
      "0.7564558161573087\t0.0037905709547500594\t0.0035536602700781805\t0.005922767116796968\t0.013977730395640844\t0.012082444918265814\t0.008528784648187633\t0.033641317223406776\t0.011845534233593935\t0.0011845534233593934\t0.01610992655768775\t0.007818052594171997\t0.0037905709547500594\t0.05306799336650083\t0.012082444918265814\t0.009476427386875147\t0.004738213693437574\t0.00023691068467187872\t0.04169628050225065\n",
      "0.4444444444444444\t0.2777777777777778\t0.0\t0.05555555555555555\t0.0\t0.0\t0.0\t0.0\t0.0\t0.0\t0.0\t0.027777777777777776\t0.0\t0.027777777777777776\t0.0\t0.0\t0.0\t0.16666666666666666\t0.0\n",
      "0.375\t0.0\t0.265625\t0.0\t0.0\t0.015625\t0.0\t0.2265625\t0.0078125\t0.0\t0.0\t0.0\t0.0\t0.0234375\t0.0\t0.0859375\t0.0\t0.0\t0.0\n",
      "0.3300970873786408\t0.0\t0.0\t0.6084142394822006\t0.003236245954692557\t0.003236245954692557\t0.0\t0.0048543689320388345\t0.0\t0.0\t0.006472491909385114\t0.014563106796116505\t0.0\t0.016181229773462782\t0.0\t0.006472491909385114\t0.0\t0.0016181229773462784\t0.0048543689320388345\n",
      "0.1897018970189702\t0.0\t0.008130081300813009\t0.0\t0.6016260162601627\t0.037940379403794036\t0.013550135501355014\t0.008130081300813009\t0.0\t0.0\t0.005420054200542005\t0.0\t0.0\t0.051490514905149054\t0.04336043360433604\t0.0\t0.0\t0.0\t0.04065040650406504\n",
      "0.13807106598984772\t0.0\t0.008121827411167513\t0.005076142131979695\t0.008121827411167513\t0.7350253807106599\t0.04263959390862944\t0.025380710659898477\t0.0020304568527918783\t0.0\t0.009137055837563452\t0.0\t0.0\t0.006091370558375634\t0.013197969543147208\t0.0040609137055837565\t0.0\t0.0\t0.003045685279187817\n",
      "0.20241691842900303\t0.0\t0.0\t0.0\t0.012084592145015106\t0.04229607250755287\t0.6193353474320241\t0.06042296072507553\t0.0030211480362537764\t0.0\t0.0\t0.0\t0.0\t0.01812688821752266\t0.04229607250755287\t0.0\t0.0\t0.0\t0.0\n",
      "0.1576923076923077\t0.0\t0.0\t0.0\t0.009230769230769232\t0.0\t0.0015384615384615385\t0.6476923076923077\t0.16615384615384615\t0.0007692307692307692\t0.010769230769230769\t0.0\t0.0\t0.002307692307692308\t0.0038461538461538464\t0.0\t0.0\t0.0\t0.0\n",
      "0.12092471843509188\t0.0\t0.0\t0.0\t0.0\t0.0\t0.0\t0.08654416123295791\t0.7279193835210432\t0.005927682276229994\t0.03082394783639597\t0.0\t0.0\t0.00889152341434499\t0.013633669235328987\t0.002963841138114997\t0.0017783046828689982\t0.0\t0.0005927682276229994\n",
      "0.046153846153846156\t0.0\t0.0\t0.0\t0.0\t0.0\t0.0\t0.007692307692307693\t0.0\t0.9076923076923077\t0.0\t0.0\t0.0\t0.0\t0.0\t0.038461538461538464\t0.0\t0.0\t0.0\n",
      "0.0794044665012407\t0.0\t0.0\t0.0004962779156327543\t0.010421836228287842\t0.0\t0.0\t0.0064516129032258064\t0.007444168734491315\t0.0009925558312655087\t0.8446650124069479\t0.001488833746898263\t0.0\t0.002977667493796526\t0.013399503722084368\t0.03076923076923077\t0.0\t0.0\t0.001488833746898263\n",
      "0.10846560846560846\t0.0\t0.0026455026455026454\t0.0\t0.0026455026455026454\t0.0\t0.0\t0.005291005291005291\t0.0\t0.0\t0.0\t0.843915343915344\t0.0\t0.026455026455026454\t0.0\t0.0026455026455026454\t0.0\t0.0\t0.007936507936507936\n",
      "0.5131578947368421\t0.0\t0.0\t0.0\t0.06578947368421052\t0.0\t0.0\t0.10526315789473684\t0.27631578947368424\t0.0\t0.013157894736842105\t0.0\t0.0\t0.013157894736842105\t0.0\t0.0\t0.0\t0.0\t0.013157894736842105\n",
      "0.1415929203539823\t0.0\t0.0\t0.0\t0.0029498525073746312\t0.0\t0.0\t0.02064896755162242\t0.0\t0.0\t0.0029498525073746312\t0.011799410029498525\t0.0\t0.8053097345132744\t0.0\t0.0\t0.0\t0.0029498525073746312\t0.011799410029498525\n",
      "0.13355048859934854\t0.0\t0.016286644951140065\t0.0\t0.0\t0.003257328990228013\t0.0\t0.03257328990228013\t0.06188925081433225\t0.009771986970684038\t0.0\t0.0\t0.0\t0.03257328990228013\t0.6156351791530945\t0.03257328990228013\t0.0\t0.0\t0.06188925081433225\n",
      "0.036231884057971016\t0.0\t0.0\t0.0\t0.0\t0.0\t0.0\t0.011387163561076604\t0.002070393374741201\t0.023809523809523808\t0.039337474120082816\t0.0\t0.0\t0.0\t0.07763975155279502\t0.7908902691511387\t0.0\t0.0\t0.018633540372670808\n",
      "0.15364583333333334\t0.0\t0.0\t0.06770833333333333\t0.0\t0.0\t0.0\t0.109375\t0.028645833333333332\t0.0\t0.049479166666666664\t0.0\t0.0\t0.0026041666666666665\t0.0\t0.09114583333333333\t0.4557291666666667\t0.0\t0.041666666666666664\n",
      "0.5714285714285714\t0.0\t0.0\t0.0\t0.0\t0.0\t0.0\t0.0\t0.0\t0.0\t0.0\t0.0\t0.0\t0.14285714285714285\t0.0\t0.0\t0.0\t0.0\t0.2857142857142857\n",
      "0.18292682926829268\t0.0\t0.0\t0.0017421602787456446\t0.006968641114982578\t0.0\t0.0\t0.0008710801393728223\t0.0\t0.0\t0.018292682926829267\t0.0\t0.0\t0.008710801393728223\t0.0\t0.0078397212543554\t0.002613240418118467\t0.0\t0.7700348432055749\n"
     ]
    },
    {
     "data": {
      "image/png": "[encoded data removed]",
      "text/plain": [
       "<Figure size 432x288 with 2 Axes>"
      ]
     },
     "metadata": {
      "needs_background": "light"
     },
     "output_type": "display_data"
    }
   ],
   "source": [
    "show_confusion_matrix('../test_results_pkl/NL-TVL-resnet_test_7290.pkl','cm_M7.jpg')"
   ]
  },
  {
   "cell_type": "code",
   "execution_count": 31,
   "id": "1cc0f575",
   "metadata": {},
   "outputs": [
    {
     "name": "stdout",
     "output_type": "stream",
     "text": [
      "num of labels  :  15425\n",
      "num ori preds  :  15200\n",
      "labels example :  0\n",
      "preds example  :  tensor(0)\n",
      "num of labels       :  15425\n",
      "result of all preds  :  15425\n",
      "Normalized confusion matrix\n",
      "0.6254442075337597\t0.0\t0.004738213693437574\t0.008765695332859511\t0.04548685145700071\t0.016346837242359632\t0.017294479981047144\t0.016346837242359632\t0.017768301350390904\t0.0\t0.030324567638000476\t0.026060175313906656\t0.010424070125562663\t0.12082444918265814\t0.012082444918265814\t0.009950248756218905\t0.008291873963515755\t0.0011845534233593934\t0.028666192845297322\n",
      "0.16666666666666666\t0.0\t0.0\t0.05555555555555555\t0.0\t0.0\t0.0\t0.0\t0.0\t0.0\t0.0\t0.0\t0.027777777777777776\t0.6388888888888888\t0.0\t0.0\t0.0\t0.1111111111111111\t0.0\n",
      "0.15625\t0.0\t0.5078125\t0.0\t0.0234375\t0.0\t0.0\t0.0\t0.0078125\t0.0\t0.0\t0.0\t0.0\t0.2109375\t0.0625\t0.0\t0.0\t0.0\t0.03125\n",
      "0.3074433656957929\t0.0\t0.0\t0.5889967637540453\t0.011326860841423949\t0.0016181229773462784\t0.0\t0.011326860841423949\t0.006472491909385114\t0.0\t0.019417475728155338\t0.021035598705501618\t0.0048543689320388345\t0.02750809061488673\t0.0\t0.0\t0.0\t0.0\t0.0\n",
      "0.11382113821138211\t0.0\t0.0027100271002710027\t0.0027100271002710027\t0.7588075880758808\t0.03523035230352303\t0.013550135501355014\t0.0\t0.0\t0.0\t0.016260162601626018\t0.008130081300813009\t0.0\t0.04607046070460705\t0.0027100271002710027\t0.0\t0.0\t0.0\t0.0\n",
      "0.04263959390862944\t0.0\t0.03350253807106599\t0.003045685279187817\t0.05685279187817259\t0.7269035532994924\t0.03654822335025381\t0.024365482233502538\t0.0\t0.0\t0.003045685279187817\t0.0020304568527918783\t0.0010152284263959391\t0.046700507614213196\t0.019289340101522844\t0.0\t0.0\t0.0\t0.0040609137055837565\n",
      "0.045317220543806644\t0.0\t0.0\t0.0030211480362537764\t0.01812688821752266\t0.03625377643504532\t0.7673716012084593\t0.12084592145015106\t0.0\t0.0\t0.0\t0.0\t0.0\t0.00906344410876133\t0.0\t0.0\t0.0\t0.0\t0.0\n",
      "0.06923076923076923\t0.0\t0.02846153846153846\t0.0\t0.018461538461538463\t0.0\t0.013076923076923076\t0.5907692307692308\t0.23692307692307693\t0.0\t0.007692307692307693\t0.016153846153846154\t0.0\t0.01\t0.002307692307692308\t0.0\t0.0\t0.006923076923076923\t0.0\n",
      "0.04030823947836396\t0.0\t0.004742145820983995\t0.0023710729104919974\t0.002963841138114997\t0.0\t0.0\t0.07468879668049792\t0.7462951985773563\t0.0\t0.0023710729104919974\t0.06698280972139893\t0.0\t0.012448132780082987\t0.04682868998221695\t0.0\t0.0\t0.0\t0.0\n",
      "0.007692307692307693\t0.0\t0.0\t0.0\t0.0\t0.0\t0.0\t0.03076923076923077\t0.0\t0.23076923076923078\t0.3076923076923077\t0.06153846153846154\t0.0\t0.0\t0.0\t0.3384615384615385\t0.0\t0.0\t0.023076923076923078\n",
      "0.04168734491315137\t0.0\t0.0\t0.0019851116625310174\t0.009429280397022333\t0.0\t0.0\t0.0\t0.002977667493796526\t0.0009925558312655087\t0.8863523573200992\t0.019851116625310174\t0.0019851116625310174\t0.005955334987593052\t0.005955334987593052\t0.0228287841191067\t0.0\t0.0\t0.0\n",
      "0.0582010582010582\t0.0\t0.0\t0.0\t0.0026455026455026454\t0.0\t0.0\t0.0\t0.0\t0.0\t0.0\t0.8703703703703703\t0.0\t0.06878306878306878\t0.0\t0.0\t0.0\t0.0\t0.0\n",
      "0.13157894736842105\t0.0\t0.0\t0.0\t0.07894736842105263\t0.0\t0.0\t0.0\t0.11842105263157894\t0.0\t0.013157894736842105\t0.19736842105263158\t0.4342105263157895\t0.0\t0.0\t0.0\t0.0\t0.0\t0.02631578947368421\n",
      "0.061946902654867256\t0.0\t0.0\t0.0\t0.0\t0.0\t0.0\t0.0\t0.0\t0.0\t0.0\t0.038348082595870206\t0.0\t0.8997050147492626\t0.0\t0.0\t0.0\t0.0\t0.0\n",
      "0.09446254071661238\t0.0\t0.006514657980456026\t0.0\t0.026058631921824105\t0.0\t0.0\t0.003257328990228013\t0.09771986970684039\t0.0\t0.0\t0.029315960912052116\t0.0\t0.11400651465798045\t0.5765472312703583\t0.04234527687296417\t0.0\t0.0\t0.009771986970684038\n",
      "0.011387163561076604\t0.0\t0.0\t0.0\t0.002070393374741201\t0.0\t0.0\t0.006211180124223602\t0.008281573498964804\t0.0\t0.033126293995859216\t0.06521739130434782\t0.0\t0.040372670807453416\t0.031055900621118012\t0.7857142857142857\t0.0\t0.0\t0.016563146997929608\n",
      "0.059895833333333336\t0.0\t0.0\t0.08072916666666667\t0.033854166666666664\t0.0\t0.0\t0.015625\t0.0\t0.0\t0.08854166666666667\t0.049479166666666664\t0.0\t0.078125\t0.0\t0.0\t0.515625\t0.0\t0.078125\n",
      "0.5714285714285714\t0.0\t0.0\t0.0\t0.0\t0.0\t0.0\t0.0\t0.0\t0.0\t0.0\t0.0\t0.0\t0.14285714285714285\t0.0\t0.14285714285714285\t0.0\t0.0\t0.14285714285714285\n",
      "0.14982578397212543\t0.0\t0.0\t0.0\t0.047038327526132406\t0.0\t0.0\t0.0\t0.0\t0.0\t0.006968641114982578\t0.04790940766550523\t0.006968641114982578\t0.03484320557491289\t0.0017421602787456446\t0.025261324041811847\t0.01916376306620209\t0.002613240418118467\t0.6576655052264808\n"
     ]
    },
    {
     "data": {
      "image/png": "[encoded data removed]",
      "text/plain": [
       "<Figure size 432x288 with 2 Axes>"
      ]
     },
     "metadata": {
      "needs_background": "light"
     },
     "output_type": "display_data"
    }
   ],
   "source": [
    "show_confusion_matrix('../test_results_pkl/NL-TVL-densenet_test_6935.pkl','cm_M8.jpg')"
   ]
  },
  {
   "cell_type": "code",
   "execution_count": 32,
   "id": "0d19c0a9",
   "metadata": {},
   "outputs": [
    {
     "name": "stdout",
     "output_type": "stream",
     "text": [
      "num of labels  :  15425\n",
      "num ori preds  :  15200\n",
      "labels example :  0\n",
      "preds example  :  tensor(18)\n",
      "num of labels       :  15425\n",
      "result of all preds  :  15425\n",
      "Normalized confusion matrix\n",
      "0.7941246150201374\t0.0\t0.0018952854773750297\t0.0009476427386875149\t0.013266998341625208\t0.01279317697228145\t0.012556266287609572\t0.014925373134328358\t0.01279317697228145\t0.0\t0.005922767116796968\t0.012319355602937692\t0.0\t0.03127221037668799\t0.013030087656953328\t0.003079838900734423\t0.0\t0.0007107320540156361\t0.07036247334754797\n",
      "0.3611111111111111\t0.0\t0.0\t0.05555555555555555\t0.027777777777777776\t0.0\t0.0\t0.0\t0.0\t0.0\t0.0\t0.0\t0.0\t0.2777777777777778\t0.0\t0.0\t0.0\t0.25\t0.027777777777777776\n",
      "0.0625\t0.0\t0.3125\t0.0\t0.0\t0.0\t0.0\t0.0\t0.0\t0.0\t0.0\t0.0\t0.0\t0.0\t0.015625\t0.0\t0.0\t0.0\t0.609375\n",
      "0.3640776699029126\t0.0\t0.0\t0.5453074433656958\t0.0016181229773462784\t0.009708737864077669\t0.0\t0.0048543689320388345\t0.006472491909385114\t0.0\t0.0048543689320388345\t0.0\t0.0\t0.016181229773462782\t0.0\t0.0\t0.0\t0.0016181229773462784\t0.045307443365695796\n",
      "0.1897018970189702\t0.0\t0.0\t0.0\t0.6178861788617886\t0.018970189701897018\t0.02168021680216802\t0.0\t0.0\t0.0\t0.018970189701897018\t0.008130081300813009\t0.0\t0.0\t0.005420054200542005\t0.0\t0.0\t0.0\t0.11924119241192412\n",
      "0.09644670050761421\t0.0\t0.0020304568527918783\t0.0\t0.025380710659898477\t0.7553299492385787\t0.09746192893401015\t0.0\t0.0\t0.0\t0.0\t0.0\t0.0\t0.0040609137055837565\t0.0\t0.0\t0.0\t0.0\t0.019289340101522844\n",
      "0.20241691842900303\t0.0\t0.0\t0.0\t0.0\t0.02416918429003021\t0.7522658610271903\t0.01812688821752266\t0.0\t0.0\t0.0\t0.0\t0.0\t0.0\t0.0\t0.0\t0.0\t0.0\t0.0030211480362537764\n",
      "0.14846153846153845\t0.0\t0.0\t0.0\t0.004615384615384616\t0.0\t0.0015384615384615385\t0.46076923076923076\t0.32769230769230767\t0.0\t0.007692307692307693\t0.003076923076923077\t0.0\t0.0\t0.0\t0.006153846153846154\t0.0\t0.0\t0.04\n",
      "0.06876111440426794\t0.0\t0.0\t0.0\t0.0\t0.0\t0.0\t0.02845287492590397\t0.8666271487848252\t0.0\t0.00889152341434499\t0.0\t0.0\t0.0011855364552459987\t0.0\t0.011262596324836989\t0.0\t0.0\t0.014819205690574985\n",
      "0.038461538461538464\t0.0\t0.0\t0.0\t0.0\t0.0\t0.0\t0.023076923076923078\t0.16153846153846155\t0.0\t0.4076923076923077\t0.0\t0.0\t0.0\t0.0\t0.3384615384615385\t0.0\t0.0\t0.03076923076923077\n",
      "0.08436724565756824\t0.0\t0.0\t0.0\t0.009925558312655087\t0.0\t0.0\t0.005459057071960298\t0.025310173697270472\t0.0\t0.8034739454094293\t0.0024813895781637717\t0.0\t0.0019851116625310174\t0.0\t0.05657568238213399\t0.0\t0.0\t0.010421836228287842\n",
      "0.14814814814814814\t0.0\t0.0\t0.0\t0.005291005291005291\t0.0\t0.0\t0.0\t0.0\t0.0\t0.0\t0.8333333333333334\t0.0\t0.005291005291005291\t0.0\t0.0\t0.0\t0.0\t0.007936507936507936\n",
      "0.5394736842105263\t0.0\t0.0\t0.0\t0.05263157894736842\t0.0\t0.0\t0.0\t0.11842105263157894\t0.0\t0.0\t0.11842105263157894\t0.0\t0.0\t0.11842105263157894\t0.0\t0.0\t0.0\t0.05263157894736842\n",
      "0.16519174041297935\t0.0\t0.0\t0.0\t0.008849557522123894\t0.0\t0.0\t0.0058997050147492625\t0.0\t0.0\t0.0\t0.008849557522123894\t0.0\t0.7787610619469026\t0.0058997050147492625\t0.0029498525073746312\t0.0\t0.0\t0.02359882005899705\n",
      "0.13355048859934854\t0.0\t0.0\t0.0\t0.0\t0.0\t0.0\t0.003257328990228013\t0.04560260586319218\t0.0\t0.0\t0.03257328990228013\t0.0\t0.016286644951140065\t0.7068403908794788\t0.003257328990228013\t0.0\t0.0\t0.05863192182410423\n",
      "0.023809523809523808\t0.0\t0.0\t0.0\t0.0\t0.0\t0.0\t0.0\t0.052795031055900624\t0.0\t0.004140786749482402\t0.004140786749482402\t0.0\t0.002070393374741201\t0.023809523809523808\t0.8561076604554866\t0.0\t0.0\t0.033126293995859216\n",
      "0.3958333333333333\t0.0\t0.0026041666666666665\t0.09114583333333333\t0.0\t0.0\t0.0\t0.0026041666666666665\t0.0\t0.0\t0.0026041666666666665\t0.0\t0.0\t0.018229166666666668\t0.0078125\t0.005208333333333333\t0.3932291666666667\t0.0\t0.08072916666666667\n",
      "0.5714285714285714\t0.0\t0.0\t0.0\t0.0\t0.0\t0.0\t0.0\t0.0\t0.0\t0.0\t0.14285714285714285\t0.0\t0.0\t0.0\t0.0\t0.0\t0.0\t0.2857142857142857\n",
      "0.1297909407665505\t0.0\t0.0\t0.0\t0.013066202090592335\t0.0\t0.0\t0.0\t0.0\t0.0\t0.003484320557491289\t0.004355400696864111\t0.0\t0.0\t0.010452961672473868\t0.002613240418118467\t0.0\t0.0\t0.8362369337979094\n"
     ]
    },
    {
     "data": {
      "image/png": "[encoded data removed]",
      "text/plain": [
       "<Figure size 432x288 with 2 Axes>"
      ]
     },
     "metadata": {
      "needs_background": "light"
     },
     "output_type": "display_data"
    }
   ],
   "source": [
    "show_confusion_matrix('../test_results_pkl/NL-TVL-resnest_test_7360.pkl','cm_M9.jpg')"
   ]
  },
  {
   "cell_type": "code",
   "execution_count": null,
   "id": "1cd70705",
   "metadata": {},
   "outputs": [],
   "source": []
  },
  {
   "cell_type": "code",
   "execution_count": null,
   "id": "5e83728e",
   "metadata": {},
   "outputs": [],
   "source": []
  },
  {
   "cell_type": "code",
   "execution_count": null,
   "id": "de0970d0",
   "metadata": {},
   "outputs": [],
   "source": []
  },
  {
   "cell_type": "code",
   "execution_count": null,
   "id": "686d7f69",
   "metadata": {},
   "outputs": [],
   "source": []
  }
 ],
 "metadata": {
  "kernelspec": {
   "display_name": "Python 3",
   "language": "python",
   "name": "python3"
  },
  "language_info": {
   "codemirror_mode": {
    "name": "ipython",
    "version": 3
   },
   "file_extension": ".py",
   "mimetype": "text/x-python",
   "name": "python",
   "nbconvert_exporter": "python",
   "pygments_lexer": "ipython3",
   "version": "3.8.8"
  }
 },
 "nbformat": 4,
 "nbformat_minor": 5
}
